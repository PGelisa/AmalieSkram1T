{
 "cells": [
  {
   "cell_type": "markdown",
   "id": "612293bb-0b45-44de-8d70-11589dc39f18",
   "metadata": {},
   "source": [
    "# Uke 36 - Prosentvis vekst og vekstfaktor. Løkker og funksjoner i Python\n",
    "Denne uken skal vi jobbet mer med måter å jobbe på i Python, samtidig som vi skal jobbe matematisk med prosentvis vekst og vekstfaktor.\n",
    "\n",
    "Utover i uken skal vi jobbe med bevis og sammenhenger"
   ]
  },
  {
   "cell_type": "markdown",
   "id": "4ca641f1-24ce-4753-8c29-35c779ec94b6",
   "metadata": {},
   "source": [
    "## Tekst og variabler til skjerm\n",
    "Ofte så er svarene vi er på jakt etter en sammensetning av både tekst og tallsvar. Og tallsvarene kan endre seg, selv om teksten vi ønsker å skrive kanskje er den sammen. Da kan vi gjøre noe med print-kommandoen vår.\n",
    "\n",
    "Dere husker kanskje at vi kunne lage tekstvariabler med å bruke fnutter. Se eksempel under:"
   ]
  },
  {
   "cell_type": "code",
   "execution_count": 1,
   "id": "83b072bf-3801-4966-b0fd-89712d9783c9",
   "metadata": {},
   "outputs": [
    {
     "name": "stdout",
     "output_type": "stream",
     "text": [
      "Dette er en tekststreng\n"
     ]
    }
   ],
   "source": [
    "a = 'Dette er en tekststreng'\n",
    "print(a)"
   ]
  },
  {
   "cell_type": "markdown",
   "id": "e4c9822a-defb-45aa-885b-d6e2bdd69567",
   "metadata": {},
   "source": [
    "Hvis jeg prøver å lage en tekstvariabel uten fnutter:"
   ]
  },
  {
   "cell_type": "code",
   "execution_count": 2,
   "id": "8a62d63d-f3cd-4761-b943-f35aa801e13a",
   "metadata": {},
   "outputs": [
    {
     "ename": "SyntaxError",
     "evalue": "invalid syntax (494503398.py, line 1)",
     "output_type": "error",
     "traceback": [
      "\u001b[0;36m  Input \u001b[0;32mIn [2]\u001b[0;36m\u001b[0m\n\u001b[0;31m    a = Dette er en tekststreng\u001b[0m\n\u001b[0m              ^\u001b[0m\n\u001b[0;31mSyntaxError\u001b[0m\u001b[0;31m:\u001b[0m invalid syntax\n"
     ]
    }
   ],
   "source": [
    "a = Dette er en tekststreng\n",
    "print(a)"
   ]
  },
  {
   "cell_type": "markdown",
   "id": "15bd7e2f-7168-45d0-885c-88e575f9d710",
   "metadata": {},
   "source": [
    "Dette betyr også at jeg kan skrive tekst direkte inn i print-kommandoen"
   ]
  },
  {
   "cell_type": "code",
   "execution_count": 3,
   "id": "080a0c01-1274-484f-9bb5-a6867eba0d0d",
   "metadata": {},
   "outputs": [
    {
     "name": "stdout",
     "output_type": "stream",
     "text": [
      "Nå skriver jeg direkte i kommandoen\n"
     ]
    }
   ],
   "source": [
    "print('Nå skriver jeg direkte i kommandoen')"
   ]
  },
  {
   "cell_type": "markdown",
   "id": "8cf063f7-1cfe-4da5-8b97-8adfc807bce7",
   "metadata": {},
   "source": [
    "### Eksempel\n",
    "Skriv et program som gir variabelen *a* verdien $\\dfrac{56}{11}$, og variabelen *b* verdien $234$. Skriv verdiene for *a*, *b* og *a+b* til skjermen:"
   ]
  },
  {
   "cell_type": "code",
   "execution_count": 4,
   "id": "308cd75e-3f74-4537-93ef-69c6b8bbd5b3",
   "metadata": {},
   "outputs": [
    {
     "name": "stdout",
     "output_type": "stream",
     "text": [
      "Her er a = 5.090909090909091, b = 234 og summen av dem er 239.0909090909091\n"
     ]
    }
   ],
   "source": [
    "a = 56/11\n",
    "b = 234\n",
    "print(f'Her er a = {a}, b = {b} og summen av dem er {a+b}')"
   ]
  },
  {
   "cell_type": "markdown",
   "id": "2200f5f0-9ff6-4e7e-be5c-0f50f1d9b1a2",
   "metadata": {},
   "source": [
    "Ved å legge inn en f i print-kommandoen, så forteller du at den skal hente variabelverdier når det kommer {} denne typen parenteser."
   ]
  },
  {
   "cell_type": "markdown",
   "id": "1b3e4f78-e5f1-451f-82a0-ad0223c43c43",
   "metadata": {},
   "source": [
    "Vi ser at det ble veldig mange desimaler her. Hvis jeg vil ha færre desimaler, så bruker vi en formatdefinisjon. Se under"
   ]
  },
  {
   "cell_type": "code",
   "execution_count": 5,
   "id": "05cb2665-3fab-48c7-bdb3-8d331c5d8d38",
   "metadata": {},
   "outputs": [
    {
     "name": "stdout",
     "output_type": "stream",
     "text": [
      "Her er a = 5.091, b = 234 og summen av dem er 239.09\n"
     ]
    }
   ],
   "source": [
    "a = 56/11\n",
    "b = 234\n",
    "print(f'Her er a = {a:.3f}, b = {b} og summen av dem er {a+b:.2f}')"
   ]
  },
  {
   "attachments": {
    "3f898480-8218-43d2-a99a-e668cbcac070.png": {
     "image/png": "[encoded data removed]"
    }
   },
   "cell_type": "markdown",
   "id": "a9af42f6-0fe6-45e4-ba02-1eb1b0f981eb",
   "metadata": {},
   "source": [
    "## Oppgaver\n",
    "![image.png](attachment:3f898480-8218-43d2-a99a-e668cbcac070.png)\n",
    "\n",
    "Løs oppgavene i cellen under:"
   ]
  },
  {
   "cell_type": "code",
   "execution_count": null,
   "id": "c089ef0b-23b9-4102-a864-1151d586b4be",
   "metadata": {},
   "outputs": [],
   "source": []
  },
  {
   "cell_type": "markdown",
   "id": "48698392-e714-46db-8b26-c98207d43710",
   "metadata": {},
   "source": [
    "## Løkker og repeterende kode - og prosentregning\n",
    "La oss først gå til ene oppgaven vi jobbet med forrige uke:"
   ]
  },
  {
   "cell_type": "code",
   "execution_count": 7,
   "id": "81c1ced0-0fd0-441b-9338-81200fce3529",
   "metadata": {},
   "outputs": [
    {
     "name": "stdout",
     "output_type": "stream",
     "text": [
      "20\n"
     ]
    }
   ],
   "source": [
    "a = 5\n",
    "a = a + 5\n",
    "a = a + 5\n",
    "a = a + 5\n",
    "print(a)"
   ]
  },
  {
   "cell_type": "markdown",
   "id": "f9857c13-e419-405e-b07b-9400d763b2d4",
   "metadata": {},
   "source": [
    "Her ser vi at vi gjør samme operasjon tre ganger. Men la oss si at vi skal gjøre det samme 30 ganger. Da kan vi bruke en løkke. Vi prøver først med de tre gangene fra sist:"
   ]
  },
  {
   "cell_type": "code",
   "execution_count": 9,
   "id": "dcf2ed6f-cd92-4d92-8d1f-6d63a32901d0",
   "metadata": {},
   "outputs": [
    {
     "name": "stdout",
     "output_type": "stream",
     "text": [
      "20\n"
     ]
    }
   ],
   "source": [
    "a = 5\n",
    "for i in range(3):\n",
    "    a = a + 5\n",
    "\n",
    "print(a)"
   ]
  },
  {
   "cell_type": "code",
   "execution_count": 10,
   "id": "ae01f078-f7fc-40ea-811c-8e07c2f3dc29",
   "metadata": {},
   "outputs": [
    {
     "name": "stdout",
     "output_type": "stream",
     "text": [
      "155\n"
     ]
    }
   ],
   "source": [
    "a = 5\n",
    "for i in range(30):\n",
    "    a = a + 5\n",
    "print(a)"
   ]
  },
  {
   "cell_type": "markdown",
   "id": "8e28d924-94e5-4f5d-8e76-dcc3c05035f1",
   "metadata": {},
   "source": [
    "Dere ser kanskje at det ikke er innrykk før print. Hva tror du skjer om du har samme innrykket på print-kommandoen? Test det ut under: "
   ]
  },
  {
   "cell_type": "code",
   "execution_count": null,
   "id": "02278bc5-fb68-434e-b1bf-ce3b7fcd7f3f",
   "metadata": {},
   "outputs": [],
   "source": []
  },
  {
   "cell_type": "code",
   "execution_count": null,
   "id": "6784a3b9-c842-4811-9e37-f1bd35708830",
   "metadata": {},
   "outputs": [],
   "source": []
  }
 ],
 "metadata": {
  "kernelspec": {
   "display_name": "Python 3 (ipykernel)",
   "language": "python",
   "name": "python3"
  },
  "language_info": {
   "codemirror_mode": {
    "name": "ipython",
    "version": 3
   },
   "file_extension": ".py",
   "mimetype": "text/x-python",
   "name": "python",
   "nbconvert_exporter": "python",
   "pygments_lexer": "ipython3",
   "version": "3.9.12"
  }
 },
 "nbformat": 4,
 "nbformat_minor": 5
}
