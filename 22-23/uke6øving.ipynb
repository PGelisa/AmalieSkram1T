{
 "cells": [
  {
   "cell_type": "markdown",
   "id": "b40154c8-4450-4bdf-8d8b-c990c828c168",
   "metadata": {},
   "source": [
    "## Øvingsoppgaver Tolke kode (del 1)\n",
    "Her finner dere en del koder som dere skal trene på å tolke uten hjelpemidler. Ikke skriv og kjør koden før dere har skrevet ned (for hånd) for dere selv hva dere mener vil skje i koden.\n",
    "\n",
    "Når dere har gjort det, så skriver dere inn koden selv, og kjører den. Forklar på nytt for dere selv hva som faktisk skjedde."
   ]
  },
  {
   "cell_type": "code",
   "execution_count": null,
   "id": "9639e712-fe03-47b2-a9d1-2813217a1d23",
   "metadata": {},
   "outputs": [],
   "source": [
    "tall1 = 1\n",
    "tall2 = 1\n",
    "\n",
    "antall = 10\n",
    "\n",
    "print(tall1)\n",
    "\n",
    "for i in range(1,antall):\n",
    "    print(tall2)\n",
    "    hjelpetall = tall2\n",
    "    tall2 = tall1 + hjelpetall\n",
    "    tall1 = hjelpetall"
   ]
  },
  {
   "cell_type": "code",
   "execution_count": null,
   "id": "474d3b79-53c3-418b-b7db-772f5f5be28e",
   "metadata": {},
   "outputs": [],
   "source": [
    "total = 0\n",
    "\n",
    "høyde = 10\n",
    "\n",
    "for i in range(høyde):\n",
    "    rad = 2*i + 1\n",
    "    total = rad + a\n",
    "    print(a)"
   ]
  },
  {
   "cell_type": "code",
   "execution_count": null,
   "id": "ea33f436-c0a5-46eb-bb78-ac326751b879",
   "metadata": {},
   "outputs": [],
   "source": [
    "høyde = 10\n",
    "for i in range(høyde):\n",
    "    print((høyde-i)*' ',(2*i+1)*'*')"
   ]
  }
 ],
 "metadata": {
  "kernelspec": {
   "display_name": "Python 3 (ipykernel)",
   "language": "python",
   "name": "python3"
  },
  "language_info": {
   "codemirror_mode": {
    "name": "ipython",
    "version": 3
   },
   "file_extension": ".py",
   "mimetype": "text/x-python",
   "name": "python",
   "nbconvert_exporter": "python",
   "pygments_lexer": "ipython3",
   "version": "3.9.15"
  }
 },
 "nbformat": 4,
 "nbformat_minor": 5
}
