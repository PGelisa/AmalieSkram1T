{
 "cells": [
  {
   "cell_type": "code",
   "execution_count": 11,
   "id": "a1b5a9a6-18b8-46ec-88b9-e1f666d0a9d1",
   "metadata": {},
   "outputs": [
    {
     "name": "stdout",
     "output_type": "stream",
     "text": [
      "De  15  første Fibonacci-tallene er:  1 1 2 3 5 8 13 21 34 55 89 144 233 377 610 "
     ]
    }
   ],
   "source": [
    "tall1 = 1\n",
    "tall2 = 1\n",
    "\n",
    "antall = 15\n",
    "\n",
    "print('De ',antall,' første Fibonacci-tallene er: ', end = ' ')\n",
    "print(tall1, end = ' ')\n",
    "\n",
    "for i in range(1,antall):\n",
    "    print(tall2, end = ' ')\n",
    "    temp = tall2\n",
    "    tall2 = tall1 + temp\n",
    "    tall1 = temp"
   ]
  },
  {
   "cell_type": "code",
   "execution_count": null,
   "id": "8c512d88-07da-489b-ba65-dbf5bb3d1575",
   "metadata": {},
   "outputs": [],
   "source": []
  }
 ],
 "metadata": {
  "kernelspec": {
   "display_name": "Python 3 (ipykernel)",
   "language": "python",
   "name": "python3"
  },
  "language_info": {
   "codemirror_mode": {
    "name": "ipython",
    "version": 3
   },
   "file_extension": ".py",
   "mimetype": "text/x-python",
   "name": "python",
   "nbconvert_exporter": "python",
   "pygments_lexer": "ipython3",
   "version": "3.9.12"
  }
 },
 "nbformat": 4,
 "nbformat_minor": 5
}
