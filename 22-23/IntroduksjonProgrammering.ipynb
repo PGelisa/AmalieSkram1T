{
 "cells": [
  {
   "cell_type": "markdown",
   "id": "edc2e244-8645-47a7-a353-c8b40c1a8bf6",
   "metadata": {},
   "source": [
    "# Plan for 31.august 2022"
   ]
  },
  {
   "cell_type": "markdown",
   "id": "d39dd429-24cf-4046-8d69-49eb80b094b5",
   "metadata": {},
   "source": [
    "Når vi har en notatblokk, så kan vi skrive inn tekst, og vi kan skrive inn kode. I hver celle så kan vi velge om det er Markdown eller Code. Ved Markdown så blir det tekst, og Code for kode. "
   ]
  },
  {
   "cell_type": "markdown",
   "id": "36b34e0f-3cfd-4447-b434-d52871a4a936",
   "metadata": {},
   "source": [
    "Vi lærte forrige uke å regne ut ulike verdier i Python, ved å bruke + – * / ** // og %\n",
    "\n",
    "Husker du hva du brukte for heltallsdivisjon, og rest av heltallsdivisjon (modulus)?"
   ]
  },
  {
   "cell_type": "markdown",
   "id": "1d46b864-dc57-48af-9085-60b27229cccc",
   "metadata": {},
   "source": [
    "## Print\n",
    "Vi bruker denne kommandoen når vi vil skrive til skjerm. Se eksempelet under:"
   ]
  },
  {
   "cell_type": "code",
   "execution_count": 1,
   "id": "c326105f-669a-48a1-a780-1761d0bb7290",
   "metadata": {},
   "outputs": [
    {
     "data": {
      "text/plain": [
       "11"
      ]
     },
     "execution_count": 1,
     "metadata": {},
     "output_type": "execute_result"
    }
   ],
   "source": [
    "3+5\n",
    "2+9"
   ]
  },
  {
   "cell_type": "markdown",
   "id": "13abc07b-4555-450f-b9ff-158507a17015",
   "metadata": {},
   "source": [
    "Når jeg har to regnestykker, så ser jeg bare verdien av det siste. Da kan jeg bruke print for å fortelle hvilke regnestykker jeg vil se"
   ]
  },
  {
   "cell_type": "code",
   "execution_count": 2,
   "id": "53ff70b3-beb6-498d-ba2f-e7dc16eabf6f",
   "metadata": {},
   "outputs": [
    {
     "name": "stdout",
     "output_type": "stream",
     "text": [
      "8\n",
      "11\n"
     ]
    }
   ],
   "source": [
    "print(3+5)\n",
    "print(2+9)"
   ]
  },
  {
   "cell_type": "markdown",
   "id": "38d3dea0-46d2-4495-bb7b-fcde2e26a3ed",
   "metadata": {},
   "source": [
    "Jeg kan også skrive ut tekst, men da må jeg fortelle at det er tekst, ved hjelp av fnutter 'inni her er det tekst'"
   ]
  },
  {
   "cell_type": "code",
   "execution_count": 3,
   "id": "7d6835ff-6dc9-45c1-955b-dacb02d273e6",
   "metadata": {},
   "outputs": [
    {
     "name": "stdout",
     "output_type": "stream",
     "text": [
      "Nå kan jeg skrive ut tekst også\n"
     ]
    }
   ],
   "source": [
    "print('Nå kan jeg skrive ut tekst også')"
   ]
  },
  {
   "attachments": {
    "7fc7aab4-3991-496d-bc1c-3c7a1837de67.png": {
     "image/png": "[encoded data removed]"
    }
   },
   "cell_type": "markdown",
   "id": "a06875d1-423d-4f1b-9aee-43e2f2d58f56",
   "metadata": {},
   "source": [
    "### Oppgave\n",
    "Bruk print-kommandoen sånn at du får skrevet ut begge regnestykkene:\n",
    "![image.png](attachment:7fc7aab4-3991-496d-bc1c-3c7a1837de67.png)"
   ]
  },
  {
   "cell_type": "code",
   "execution_count": null,
   "id": "ffa8ff67-c10c-48be-aa5a-4c1d69324304",
   "metadata": {},
   "outputs": [],
   "source": []
  },
  {
   "attachments": {
    "d1180eb3-dca8-4326-ad63-7f7ad85b0554.png": {
     "image/png": "[encoded data removed]"
    }
   },
   "cell_type": "markdown",
   "id": "426d38e4-bdc3-4b8f-bfab-55ea57fbe21a",
   "metadata": {},
   "source": [
    "## Delbarhet\n",
    "Løs følgende oppgaver ved å bruke de ulike typene deling som dere har lært:\n",
    "\n",
    "![image.png](attachment:d1180eb3-dca8-4326-ad63-7f7ad85b0554.png)"
   ]
  },
  {
   "cell_type": "code",
   "execution_count": null,
   "id": "6205a14f-ec21-4c80-9916-38314ef7c42b",
   "metadata": {},
   "outputs": [],
   "source": []
  },
  {
   "cell_type": "markdown",
   "id": "9defb1cc-06a7-4d6c-9401-845996811650",
   "metadata": {},
   "source": [
    "## Variabler\n",
    "Noen ganger ønsker vi å bruke variabelnavn, fordi vi skal bruke samme verdien flere ganger. Se eksempel:"
   ]
  },
  {
   "cell_type": "code",
   "execution_count": 5,
   "id": "5b43b225-43d6-4b55-9f6d-eb671da9fee1",
   "metadata": {},
   "outputs": [
    {
     "name": "stdout",
     "output_type": "stream",
     "text": [
      "69\n",
      "7\n",
      "2\n"
     ]
    }
   ],
   "source": [
    "a = 23\n",
    "b = 3\n",
    "print(a*b)\n",
    "print(a//b)\n",
    "print(a%b)"
   ]
  },
  {
   "cell_type": "markdown",
   "id": "670c5151-25aa-410d-84ff-ffc6e15c9ab2",
   "metadata": {},
   "source": [
    "Hva betyr de tallene som er skrevet ut over her?"
   ]
  },
  {
   "cell_type": "markdown",
   "id": "0d6bde7c-e86b-48fe-a6c6-fc7112d23d44",
   "metadata": {},
   "source": [
    "### Vi kan oppdatere variabelen"
   ]
  },
  {
   "cell_type": "code",
   "execution_count": 6,
   "id": "5dadcef8-b56f-4887-8502-27a6dd494d10",
   "metadata": {},
   "outputs": [
    {
     "name": "stdout",
     "output_type": "stream",
     "text": [
      "24\n",
      "17.0\n"
     ]
    }
   ],
   "source": [
    "a = 24\n",
    "print(a)\n",
    "a = 34\n",
    "print(a/2)"
   ]
  },
  {
   "cell_type": "code",
   "execution_count": 7,
   "id": "dbc3b340-b50f-48db-a0a8-c44332a18831",
   "metadata": {},
   "outputs": [],
   "source": [
    "tall = 3\n",
    "tall = tall + 5"
   ]
  },
  {
   "cell_type": "markdown",
   "id": "19275642-1f3e-46b7-b601-8200cbdd9c07",
   "metadata": {},
   "source": [
    "Hva tror du skjer om du printer ut tall nå? Prøv i cellen under"
   ]
  },
  {
   "cell_type": "code",
   "execution_count": null,
   "id": "8488934a-91e0-44be-9fa6-4792ba93e684",
   "metadata": {},
   "outputs": [],
   "source": []
  },
  {
   "cell_type": "code",
   "execution_count": null,
   "id": "b3fbcebe-9077-4f20-be50-ee502e45eb07",
   "metadata": {},
   "outputs": [],
   "source": []
  }
 ],
 "metadata": {
  "kernelspec": {
   "display_name": "Python 3 (ipykernel)",
   "language": "python",
   "name": "python3"
  },
  "language_info": {
   "codemirror_mode": {
    "name": "ipython",
    "version": 3
   },
   "file_extension": ".py",
   "mimetype": "text/x-python",
   "name": "python",
   "nbconvert_exporter": "python",
   "pygments_lexer": "ipython3",
   "version": "3.9.12"
  }
 },
 "nbformat": 4,
 "nbformat_minor": 5
}
