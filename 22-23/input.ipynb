{
 "cells": [
  {
   "cell_type": "markdown",
   "id": "852a0517-ea54-4730-95bf-ee7a9f94c1bb",
   "metadata": {},
   "source": [
    "# input\n",
    "Hvordan gjøre det generelt"
   ]
  },
  {
   "cell_type": "code",
   "execution_count": 21,
   "id": "571e3170-1d2e-4f2b-b440-2d8eeb2c42fb",
   "metadata": {},
   "outputs": [
    {
     "name": "stdin",
     "output_type": "stream",
     "text": [
      "Hvor mye penger har du? 3000\n",
      "hvor mye renter får du i banken? 4\n",
      "Hvor mange år står de i banken? 5\n"
     ]
    },
    {
     "name": "stdout",
     "output_type": "stream",
     "text": [
      "Etter 5.0 år har du 3649.96 på konto hvis du startet med 3000.0.\n"
     ]
    }
   ],
   "source": [
    "saldo = float(input(\"Hvor mye penger har du?\"))\n",
    "prosenttall = float(input(\"hvor mye renter får du i banken?\"))\n",
    "aar = float(input(\"Hvor mange år står de i banken?\"))\n",
    "vf = 1 + prosenttall/100\n",
    "nysaldo = saldo*vf**aar\n",
    "print(f\"Etter {aar} år har du {nysaldo:.2f} på konto hvis du startet med {saldo}.\")"
   ]
  },
  {
   "cell_type": "code",
   "execution_count": null,
   "id": "210673b7-639c-4739-88d3-dcadd5f4d823",
   "metadata": {},
   "outputs": [],
   "source": []
  }
 ],
 "metadata": {
  "kernelspec": {
   "display_name": "Python 3 (ipykernel)",
   "language": "python",
   "name": "python3"
  },
  "language_info": {
   "codemirror_mode": {
    "name": "ipython",
    "version": 3
   },
   "file_extension": ".py",
   "mimetype": "text/x-python",
   "name": "python",
   "nbconvert_exporter": "python",
   "pygments_lexer": "ipython3",
   "version": "3.9.12"
  }
 },
 "nbformat": 4,
 "nbformat_minor": 5
}
