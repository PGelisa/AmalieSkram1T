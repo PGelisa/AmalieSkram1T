{
 "cells": [
  {
   "cell_type": "markdown",
   "id": "46e71cf2",
   "metadata": {},
   "source": [
    "# Sannhetsvilkår"
   ]
  },
  {
   "cell_type": "markdown",
   "id": "56cc7bfa",
   "metadata": {},
   "source": [
    "I programmering er det ofte vi må sjekke om noe er sant eller usant. Dette kalles i programmering True eller False. \n",
    "\n",
    "Det finnes noen måter vi kan sammenligne ting på i python:"
   ]
  },
  {
   "cell_type": "code",
   "execution_count": 15,
   "id": "d7b19c95",
   "metadata": {},
   "outputs": [
    {
     "name": "stdout",
     "output_type": "stream",
     "text": [
      "False\n",
      "True\n",
      "True\n",
      "False\n",
      "True\n",
      "False\n"
     ]
    }
   ],
   "source": [
    "# Om noe er likt, merk at det er to likhetstegn for å sjekke om noe er likt\n",
    "print(2 == 3)\n",
    "# Om noe er ulikt\n",
    "print(2 != 3)\n",
    "\n",
    "# Om noe er mindre eller større enn noe annet\n",
    "print(2 < 3)\n",
    "print(2 > 3)\n",
    "\n",
    "# Om noe er mindre enn ELLER lik og vice versa\n",
    "print(2 <= 2)\n",
    "print(2 >= 3)"
   ]
  },
  {
   "cell_type": "markdown",
   "id": "70bfbaeb",
   "metadata": {},
   "source": [
    "Det er også mulig å kombinere flere tester samtidig med \"and\" og \"or\".\n",
    "\n",
    "For at \"and\" skal være sant må begge uttrykkene være sant.\n",
    "For at \"or\" skal være sant må bare en av uttrykkene være sant."
   ]
  },
  {
   "cell_type": "code",
   "execution_count": 16,
   "id": "06684027",
   "metadata": {},
   "outputs": [
    {
     "name": "stdout",
     "output_type": "stream",
     "text": [
      "True\n",
      "False\n",
      "False\n",
      "True\n",
      "True\n",
      "False\n"
     ]
    }
   ],
   "source": [
    "# Eksempel på \"and\". Klarer du å peke hvilket av de to uttrykkene som er sant/usant?\n",
    "print(2<3 and 6<12)\n",
    "print(2<3 and 6>12)\n",
    "print(2==3 and 6!=6)\n",
    "\n",
    "# Eksempel på \"or\"\n",
    "print(2<3 or 6<12)\n",
    "print(2<3 or 6>12)\n",
    "print(2==3 or 6!=6)"
   ]
  },
  {
   "cell_type": "markdown",
   "id": "9c7319ff",
   "metadata": {},
   "source": [
    "Det er også mulig å sammenligne tekst. Her må alt inne i strengen være helt likt for at det skal bli sant."
   ]
  },
  {
   "cell_type": "code",
   "execution_count": 17,
   "id": "c14b76f1",
   "metadata": {},
   "outputs": [
    {
     "name": "stdout",
     "output_type": "stream",
     "text": [
      "True\n",
      "False\n"
     ]
    }
   ],
   "source": [
    "print(\"kake\" == \"kake\")\n",
    "print(\"kake\" == \"Kake\")"
   ]
  },
  {
   "cell_type": "markdown",
   "id": "72aa255d",
   "metadata": {},
   "source": [
    "# Oppgaver sannhetsvilkår\n",
    "Lag et program som sjekker om følgende utsagn er sanne eller usanne:\n",
    "\n",
    "$2^{3}$ er større enn $3^{2}$\n",
    "\n",
    "$4*3$ er lik $50/4+3.5$\n",
    "\n",
    "$542$ er delelig på $4$\n",
    "\n",
    "Hvis man deler $600$ kr på $4$ personer får de hver $125$ kr"
   ]
  },
  {
   "cell_type": "code",
   "execution_count": null,
   "id": "0a61f8ff",
   "metadata": {},
   "outputs": [],
   "source": []
  },
  {
   "cell_type": "code",
   "execution_count": null,
   "id": "517c112e",
   "metadata": {},
   "outputs": [],
   "source": []
  },
  {
   "cell_type": "code",
   "execution_count": null,
   "id": "1f1fb19d",
   "metadata": {},
   "outputs": [],
   "source": []
  },
  {
   "cell_type": "markdown",
   "id": "3fb6e7a8",
   "metadata": {},
   "source": [
    "# If-løkker"
   ]
  },
  {
   "cell_type": "markdown",
   "id": "306a409e",
   "metadata": {},
   "source": [
    "En if-løkke er en del av koden din som kjører hvis og bare hvis et vilkår er oppfyllt. For eksempel:"
   ]
  },
  {
   "cell_type": "code",
   "execution_count": 23,
   "id": "b2f0ac1c",
   "metadata": {},
   "outputs": [
    {
     "name": "stdout",
     "output_type": "stream",
     "text": [
      "2 er mindre enn 3\n"
     ]
    }
   ],
   "source": [
    "if 2 < 3:\n",
    "    print(\"2 er mindre enn 3\")\n",
    "\n",
    "if 4 < 3:\n",
    "    print(\"4 er mindre enn 3\")"
   ]
  },
  {
   "cell_type": "markdown",
   "id": "bedd3bb2",
   "metadata": {},
   "source": [
    "Koden over kjører nå nedover og når han kommer til \"if\" sjekker den om det som står ved siden av er sant før den går videre.\n",
    "Hvis det ikke er sant, så hopper koden rett og slett over det.\n",
    "\n",
    "\n",
    "Noen ganger er det kanskje flere muligheter, og da vil du gjerne gjøre noe forskjellig for hver av de. Da kan du bruke \"elif\" og \"else\" i tillegg.\n",
    "Prøv at det første tallet er større enn, mindre enn, og lik det andre tallet. Se hva som skjer hver gang."
   ]
  },
  {
   "cell_type": "code",
   "execution_count": 31,
   "id": "fd7f73b9",
   "metadata": {},
   "outputs": [
    {
     "name": "stdout",
     "output_type": "stream",
     "text": [
      "Gi ett tall: 2\n",
      "Gi ett tall til: 2\n",
      "2.0 er lik 2.0\n"
     ]
    }
   ],
   "source": [
    "a = float(input(\"Gi ett tall: \"))\n",
    "b = float(input(\"Gi ett tall til: \"))\n",
    "\n",
    "if a < b:\n",
    "    print(f\"{a} er mindre enn {b}\")\n",
    "elif a > b:\n",
    "    print(f\"{a} er større enn {b}\")\n",
    "else:\n",
    "    print(f\"{a} er lik {b}\")\n"
   ]
  },
  {
   "cell_type": "markdown",
   "id": "0227b16d",
   "metadata": {},
   "source": [
    "Et mer praktisk eksempel er en valutakalkulator. \n",
    "Her har vi ett tall, summen av penger, så må vi vite om den summen skal omgjøres til f.eks Danske eller Norske kroner. \n",
    "\n",
    "I programmet under skriver du nå inn hvor mye penger du har, og hvilket valuta de er i.\n",
    "Programmet kjører bruker da rett kurs, og skriver ut rett mengde. "
   ]
  },
  {
   "cell_type": "code",
   "execution_count": 37,
   "id": "627bd49b",
   "metadata": {},
   "outputs": [
    {
     "name": "stdout",
     "output_type": "stream",
     "text": [
      "Hvor mye penger har du? 12451\n",
      "Hvilket valuta er de i? (NOK/DKK): NOK\n",
      "12451.00 NOK tilsvarer 9338.25 DKK\n"
     ]
    }
   ],
   "source": [
    "penger = float(input(\"Hvor mye penger har du? \"))\n",
    "valuta = input(\"Hvilket valuta er de i? (NOK/DKK): \")\n",
    "\n",
    "if valuta == \"NOK\":\n",
    "    kurs = 0.75\n",
    "    pengerDKK = penger*kurs\n",
    "    print(f\"{penger:.2f} NOK tilsvarer {pengerDKK:.2f} DKK\")\n",
    "else:\n",
    "    kurs = 1.33\n",
    "    pengerNOK = penger*kurs\n",
    "    print(f\"{penger:.2f} DKK tilsvarer {pengerNOK:.2f} NOK\")\n",
    "    \n"
   ]
  },
  {
   "attachments": {},
   "cell_type": "markdown",
   "id": "1cd83203",
   "metadata": {},
   "source": [
    "# Oppgaver if\n",
    "\n",
    "Skriv et program som ber brukeren om et tall og deretter skriver en melding om tallet er positivt eller negativt.\n",
    "\n",
    "Lag et progam som ber om to tall og sjekker om tallene er like.\n",
    "Programmet skal også skrive ut svaret.\n",
    "\n",
    "Skriv et program som ber brukeren om et heltall og deretter sjekker om det er oddetall eller partall. \n",
    "\n",
    "Lag et program som ber brukeren om to tall og sjekker om tallene har ulike fortegn.\n",
    "\n",
    "BONUS:\n",
    "Skriv en kode som tar inn en lengde i enten miles eller km, konverterer fra den ene til den andre, og skriver ut svaret til brukeren.\n",
    "tips: 1km = 0.62 miles, 1 miles = 1.61 km\n"
   ]
  },
  {
   "cell_type": "code",
   "execution_count": null,
   "id": "7078ab5b",
   "metadata": {},
   "outputs": [],
   "source": []
  },
  {
   "cell_type": "code",
   "execution_count": null,
   "id": "ffa4c096",
   "metadata": {},
   "outputs": [],
   "source": []
  },
  {
   "cell_type": "code",
   "execution_count": null,
   "id": "fc95fca7",
   "metadata": {},
   "outputs": [],
   "source": []
  },
  {
   "cell_type": "code",
   "execution_count": null,
   "id": "36481c0b",
   "metadata": {},
   "outputs": [],
   "source": []
  },
  {
   "cell_type": "code",
   "execution_count": null,
   "id": "86ec4554",
   "metadata": {},
   "outputs": [],
   "source": []
  }
 ],
 "metadata": {
  "kernelspec": {
   "display_name": "Python 3 (ipykernel)",
   "language": "python",
   "name": "python3"
  },
  "language_info": {
   "codemirror_mode": {
    "name": "ipython",
    "version": 3
   },
   "file_extension": ".py",
   "mimetype": "text/x-python",
   "name": "python",
   "nbconvert_exporter": "python",
   "pygments_lexer": "ipython3",
   "version": "3.9.12"
  }
 },
 "nbformat": 4,
 "nbformat_minor": 5
}
