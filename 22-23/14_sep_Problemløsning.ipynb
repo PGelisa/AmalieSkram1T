{
 "cells": [
  {
   "cell_type": "markdown",
   "id": "57d0776c-9452-4e3e-a91d-de0f5382485a",
   "metadata": {},
   "source": [
    "**Lag et program som skriver ut alle tallene i 3-gangen til og med 300**"
   ]
  },
  {
   "cell_type": "code",
   "execution_count": 5,
   "id": "b4d30625-5a0c-41f7-883b-f19cb0d63f14",
   "metadata": {},
   "outputs": [
    {
     "name": "stdout",
     "output_type": "stream",
     "text": [
      "3 6 9 12 15 18 21 24 27 30 33 36 39 42 45 48 51 54 57 60 63 66 69 72 75 78 81 84 87 90 93 96 99 102 105 108 111 114 117 120 123 126 129 132 135 138 141 144 147 150 153 156 159 162 165 168 171 174 177 180 183 186 189 192 195 198 201 204 207 210 213 216 219 222 225 228 231 234 237 240 243 246 249 252 255 258 261 264 267 270 273 276 279 282 285 288 291 294 297 300 "
     ]
    }
   ],
   "source": [
    "for i in range(3,301,3):\n",
    "    print(i,end=\" \")"
   ]
  },
  {
   "cell_type": "code",
   "execution_count": 7,
   "id": "76639a52-ac62-4ce7-a90b-5400fb5c8938",
   "metadata": {},
   "outputs": [
    {
     "name": "stdout",
     "output_type": "stream",
     "text": [
      "3 6 9 12 15 18 21 24 27 30 33 36 39 42 45 48 51 54 57 60 63 66 69 72 75 78 81 84 87 90 93 96 99 102 105 108 111 114 117 120 123 126 129 132 135 138 141 144 147 150 153 156 159 162 165 168 171 174 177 180 183 186 189 192 195 198 201 204 207 210 213 216 219 222 225 228 231 234 237 240 243 246 249 252 255 258 261 264 267 270 273 276 279 282 285 288 291 294 297 300 Oppgaven er løst\n"
     ]
    }
   ],
   "source": [
    "n = 3\n",
    "while n <= 300:\n",
    "    print(n, end = ' ')\n",
    "    n = n + 3\n",
    "\n",
    "print('Oppgaven er løst')"
   ]
  },
  {
   "cell_type": "code",
   "execution_count": 11,
   "id": "9f4c3336-b8dc-4791-871b-ed40772c32ad",
   "metadata": {},
   "outputs": [
    {
     "name": "stdout",
     "output_type": "stream",
     "text": [
      "3 6 9 12 15 18 21 24 27 30 33 36 39 42 45 48 51 54 57 60 63 66 69 72 75 78 81 84 87 90 93 96 99 102 105 108 111 114 117 120 123 126 129 132 135 138 141 144 147 150 153 156 159 162 165 168 171 174 177 180 183 186 189 192 195 198 201 204 207 210 213 216 219 222 225 228 231 234 237 240 243 246 249 252 255 258 261 264 267 270 273 276 279 282 285 288 291 294 297 300 "
     ]
    }
   ],
   "source": [
    "j = 3\n",
    "while j<=300:\n",
    "    if j%3==0:\n",
    "        print(j, end = ' ')\n",
    "    j = j + 1\n",
    "\n",
    "    \n"
   ]
  }
 ],
 "metadata": {
  "kernelspec": {
   "display_name": "Python 3 (ipykernel)",
   "language": "python",
   "name": "python3"
  },
  "language_info": {
   "codemirror_mode": {
    "name": "ipython",
    "version": 3
   },
   "file_extension": ".py",
   "mimetype": "text/x-python",
   "name": "python",
   "nbconvert_exporter": "python",
   "pygments_lexer": "ipython3",
   "version": "3.9.15"
  }
 },
 "nbformat": 4,
 "nbformat_minor": 5
}
