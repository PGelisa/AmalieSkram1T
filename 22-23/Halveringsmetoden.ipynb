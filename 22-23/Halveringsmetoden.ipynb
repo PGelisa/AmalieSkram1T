{
 "cells": [
  {
   "cell_type": "markdown",
   "id": "be8bc2c8-8f61-44a4-a1a0-c0700cba7400",
   "metadata": {},
   "source": [
    "# Her er halveringsmetoden fra kap 4.5\n",
    "Først kommer eksempel fra boken, så skal vi bruke metoden på oppgaver"
   ]
  },
  {
   "cell_type": "code",
   "execution_count": 1,
   "id": "fb4c5d7c-bf9c-4bdd-9960-4744ec9bc5f1",
   "metadata": {},
   "outputs": [
    {
     "name": "stdout",
     "output_type": "stream",
     "text": [
      "Funksjonen har et nullpunkt i x = -1.415. Programmet har halvert 13 ganger.\n"
     ]
    }
   ],
   "source": [
    "def f(x):\n",
    "    return x**2 - 2\n",
    "\n",
    "nedregrense = -2\n",
    "øvregrense = 2\n",
    "presisjon = 0.001\n",
    "\n",
    "a = nedregrense\n",
    "b = øvregrense\n",
    "m = (a + b)/2\n",
    "feil = False\n",
    "\n",
    "teller = 1\n",
    "\n",
    "while b - a > presisjon:\n",
    "    if f(a) * f(m) < 0:\n",
    "        b = m\n",
    "    elif f(b) * f(m) < 0:  \n",
    "        a = m\n",
    "    elif f(m) == 0:\n",
    "        break\n",
    "    else:\n",
    "        feil = True\n",
    "        break\n",
    "    m = (a + b)/2\n",
    "    teller += 1\n",
    "\n",
    "if feil:\n",
    "    print(f\"f({a}) og f({b}) er på samme side av x-aksen.\")\n",
    "    print(f\"Jeg finner ingen løsning.\")\n",
    "else:\n",
    "    print(f\"Funksjonen har et nullpunkt i x = {m:.3f}. Programmet har halvert {teller} ganger.\")"
   ]
  }
 ],
 "metadata": {
  "kernelspec": {
   "display_name": "Python 3 (ipykernel)",
   "language": "python",
   "name": "python3"
  },
  "language_info": {
   "codemirror_mode": {
    "name": "ipython",
    "version": 3
   },
   "file_extension": ".py",
   "mimetype": "text/x-python",
   "name": "python",
   "nbconvert_exporter": "python",
   "pygments_lexer": "ipython3",
   "version": "3.9.16"
  }
 },
 "nbformat": 4,
 "nbformat_minor": 5
}
