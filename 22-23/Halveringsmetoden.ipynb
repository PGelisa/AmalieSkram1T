{
 "cells": [
  {
   "cell_type": "markdown",
   "id": "be8bc2c8-8f61-44a4-a1a0-c0700cba7400",
   "metadata": {},
   "source": [
    "# Her er halveringsmetoden fra kap 4.5\n",
    "Først kommer eksempel fra boken, så skal vi bruke metoden på oppgaver"
   ]
  },
  {
   "cell_type": "code",
   "execution_count": 1,
   "id": "fb4c5d7c-bf9c-4bdd-9960-4744ec9bc5f1",
   "metadata": {},
   "outputs": [
    {
     "name": "stdout",
     "output_type": "stream",
     "text": [
      "Løsningen til likningen er x ≈ 1.41.\n",
      "Vi har halvert 20 ganger for å finne svaret.\n"
     ]
    }
   ],
   "source": [
    "def f(x):\n",
    "    return x**2 - 2\n",
    "\n",
    "nedregrense = 0\n",
    "øvregrense = 3\n",
    "presisjon = 1e-5\n",
    "\n",
    "a = nedregrense\n",
    "b = øvregrense\n",
    "m = (a + b)/2\n",
    "teller = 1\n",
    "\n",
    "while b - a > presisjon:\n",
    "    if f(a)*f(m) < 0:\n",
    "        b = m\n",
    "    else:\n",
    "        a = m\n",
    "    m = (a + b)/2\n",
    "    teller += 1\n",
    "    \n",
    "print(f'Løsningen til likningen er x ≈ {m:.2f}.')\n",
    "print(f'Vi har halvert {teller} ganger for å finne svaret.')"
   ]
  }
 ],
 "metadata": {
  "kernelspec": {
   "display_name": "Python 3 (ipykernel)",
   "language": "python",
   "name": "python3"
  },
  "language_info": {
   "codemirror_mode": {
    "name": "ipython",
    "version": 3
   },
   "file_extension": ".py",
   "mimetype": "text/x-python",
   "name": "python",
   "nbconvert_exporter": "python",
   "pygments_lexer": "ipython3",
   "version": "3.9.15"
  }
 },
 "nbformat": 4,
 "nbformat_minor": 5
}
