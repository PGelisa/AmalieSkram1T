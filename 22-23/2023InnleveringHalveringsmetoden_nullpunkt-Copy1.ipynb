{
 "cells": [
  {
   "cell_type": "markdown",
   "metadata": {
    "id": "qgqbmV9kt9go"
   },
   "source": [
    "# Løsningsforslag innlevering Halveringsmetoden - numerisk løsning av likninger\n",
    "\n",
    "\n"
   ]
  },
  {
   "cell_type": "markdown",
   "metadata": {
    "id": "bJ8CWx8iuIoo"
   },
   "source": [
    "## 4.5 Eksempel: finne nullpunkt til en lineær funksjon."
   ]
  },
  {
   "cell_type": "code",
   "execution_count": 1,
   "metadata": {
    "id": "QK8Rx7fZuKFQ"
   },
   "outputs": [
    {
     "name": "stdout",
     "output_type": "stream",
     "text": [
      "Funksjonen har et nullpunkt i x = 1.333.\n"
     ]
    }
   ],
   "source": [
    "# Vi skal løse likningen 3x-4=0. \n",
    "# Vi legger merke til \n",
    "# f(-2)=3*(-2)-4=-10\n",
    "# f(2)=3*2-4=2\n",
    "# Dermed har vi at f(-2) og f(2) ulikt fortegn for denne funksjonen\n",
    "# og må passere null mellom disse\n",
    "# Velger nedre grenser ut fra dette.\n",
    "\n",
    "\n",
    "def f(x):\n",
    "    return 3*x - 4 \n",
    "\n",
    "nedregrense = -2\n",
    "øvregrense = 2\n",
    "presisjon = 0.001\n",
    "\n",
    "a = nedregrense\n",
    "b = øvregrense\n",
    "m = (a + b)/2\n",
    "feil = False\n",
    "\n",
    "while b - a > presisjon:\n",
    "    if f(a) * f(m) < 0:\n",
    "        b = m\n",
    "    elif f(b) * f(m) < 0:  \n",
    "        a = m\n",
    "    elif f(m) == 0:\n",
    "        break\n",
    "    else:\n",
    "        feil = True\n",
    "        break\n",
    "    m = (a + b)/2\n",
    "\n",
    "if feil:\n",
    "    print(f\"f({a}) og f({b}) er på samme side av x-aksen.\")\n",
    "    print(f\"Jeg finner ingen løsning.\")\n",
    "else:\n",
    "    print(f\"Funksjonen har et nullpunkt i x = {m:.3f}.\")"
   ]
  },
  {
   "cell_type": "markdown",
   "metadata": {
    "id": "UbQUoKrluX88"
   },
   "source": [
    "### Oppgave 4.5.1\n",
    "Forklar hva som skjer i if-elif setningen i programmet i 4.5 over:\n",
    "\n",
    "### Ditt svar: \n",
    "Vi har to if-løkker i koden over:\n",
    "\n",
    "1. Den første if-løkken er inni while-løkken og spør om produktet av funksjonsverdien i nedre grense og funksjonsverdien i halveringspunktet mellom de to grensene er negativt. Hvis det er det, så endres øvregrense til halveringspunktet. Dette fordi et negativt produkt betyr at de to funksjonsverdiene må ligge på hver sin side av x-aksen. Hvis produktet ikke er negativt, så går løkken videre til neste betingelse, og tester om produktet av funksjonsverdien i halveringspunktet og i øvre grense er negativt. Hvis det er negativt, så endres verdien av nedre grense til midtpunktet. Hvis ingen av disse to betingelsene stemmer, så tester man om halveringspunktet er et nullpunkt. Hvis det stemmer, så brytes den nøstede løkken, og programmet går videre. Og hvis ingen av disse tre betingelsene stemmer, så endrer variabelen `feil` verdi fra `false` til `true`, før løkken brytes, og programmet går videre.\n",
    "2. Den andre if-løkken tester betingelser tilknyttet variabelen `feil`. Hvis denne variabelen er sann (altså satt til `true`), så vet vi at ingen av de tre betingelsene innenfor den første if-løkken stemmer, altså at $f(a)$ og $f(b)$ ligger på samme side av x-aksen, og at programmet dermed ikke klarer å finne en løsning. Hvis `feil` er usann, så skriver koden verdien for nullpunktet."
   ]
  },
  {
   "cell_type": "markdown",
   "metadata": {
    "id": "o9ITKPCNuZc0"
   },
   "source": [
    "### Oppgave 4.5.2\n",
    "Forklar hva som skjer i while løkken i programmet i 4.5\n",
    "### Ditt svar: \n",
    "`while` -løkken starter med betingelsen, der man sjekker om avstanden mellom x-verdiene a og b er større enn en satt verdi. Denne verdien `presisjon` er satt til nøyaktigheten vi ønsker å oppgi nullpunktet med. Vi må huske på at halveringsmetoden gir en tilnærmet verdi, ikke en eksakt verdi. I eksempelet over er verdien satt til 0.001, som betyr at vi kan oppgi svaret med tre desimalers nøyaktighet, men ikke med flere desimaler, da programmet ikke er designet for så presise svar."
   ]
  },
  {
   "cell_type": "markdown",
   "metadata": {
    "id": "qc3g3bjqunIp"
   },
   "source": [
    "### Oppgave 4.5.3 Oppgave\n",
    "Finn nullpunkt til funksjonene ved hjelp av halveringsmetoden: \n",
    "\n",
    "$$f(x)=3x-8$$\n",
    "$$g(x)=2x-5$$\n",
    "\n"
   ]
  },
  {
   "cell_type": "code",
   "execution_count": 2,
   "metadata": {
    "id": "jzUred5vu0Bk"
   },
   "outputs": [
    {
     "name": "stdout",
     "output_type": "stream",
     "text": [
      "Funksjonen f(x) = 3x - 8 har et nullpunkt i x = 2.666\n"
     ]
    }
   ],
   "source": [
    "#Kopierer koden fra eksempelet over\n",
    "def f(x):\n",
    "    return 3*x - 8 \n",
    "\n",
    "nedregrense = -2\n",
    "øvregrense = 3\n",
    "presisjon = 0.001\n",
    "\n",
    "a = nedregrense\n",
    "b = øvregrense\n",
    "m = (a + b)/2\n",
    "feil = False\n",
    "\n",
    "while b - a > presisjon:\n",
    "    if f(a) * f(m) < 0:\n",
    "        b = m\n",
    "    elif f(b) * f(m) < 0:  \n",
    "        a = m\n",
    "    elif f(m) == 0:\n",
    "        break\n",
    "    else:\n",
    "        feil = True\n",
    "        break\n",
    "    m = (a + b)/2\n",
    "\n",
    "if feil:\n",
    "    print(f\"f({a}) og f({b}) er på samme side av x-aksen.\")\n",
    "    print(f\"Jeg finner ingen løsning.\")\n",
    "else:\n",
    "    print(f\"Funksjonen f(x) = 3x - 8 har et nullpunkt i x = {m:.3f}\")"
   ]
  },
  {
   "cell_type": "code",
   "execution_count": 3,
   "metadata": {},
   "outputs": [
    {
     "name": "stdout",
     "output_type": "stream",
     "text": [
      "Funksjonen g(x)=2x - 5 har et nullpunkt i x = 2.500\n"
     ]
    }
   ],
   "source": [
    "def f(x):\n",
    "    return 2*x - 5 \n",
    "\n",
    "nedregrense = -2\n",
    "øvregrense = 3\n",
    "presisjon = 0.001\n",
    "\n",
    "a = nedregrense\n",
    "b = øvregrense\n",
    "m = (a + b)/2\n",
    "feil = False\n",
    "\n",
    "while b - a > presisjon:\n",
    "    if f(a) * f(m) < 0:\n",
    "        b = m\n",
    "    elif f(b) * f(m) < 0:  \n",
    "        a = m\n",
    "    elif f(m) == 0:\n",
    "        break\n",
    "    else:\n",
    "        feil = True\n",
    "        break\n",
    "    m = (a + b)/2\n",
    "\n",
    "if feil:\n",
    "    print(f\"f({a}) og f({b}) er på samme side av x-aksen.\")\n",
    "    print(f\"Jeg finner ingen løsning.\")\n",
    "else:\n",
    "    print(f\"Funksjonen g(x)=2x - 5 har et nullpunkt i x = {m:.3f}\")"
   ]
  },
  {
   "cell_type": "markdown",
   "metadata": {
    "id": "MLh6wT7Huwl2"
   },
   "source": [
    "### Oppgave 4.5.4\n",
    "Lag et program som løser $$f(x)=g(x)$$ der $$f(x)=3x-8,\\  g(x)=2x-5$$\n"
   ]
  },
  {
   "cell_type": "code",
   "execution_count": 4,
   "metadata": {
    "id": "pwY8myaOu3g_"
   },
   "outputs": [
    {
     "name": "stdout",
     "output_type": "stream",
     "text": [
      "f(x)=g(x) i x = 3.000\n"
     ]
    }
   ],
   "source": [
    "#lager en ny funksjon som er gitt som f(x) - g(x), og finner nullpunktet til denne\n",
    "def f(x):\n",
    "    return (3*x - 8) - (2*x - 5)\n",
    "\n",
    "nedregrense = -10\n",
    "øvregrense = 10\n",
    "presisjon = 0.001\n",
    "\n",
    "a = nedregrense\n",
    "b = øvregrense\n",
    "m = (a + b)/2\n",
    "feil = False\n",
    "\n",
    "while b - a > presisjon:\n",
    "    if f(a) * f(m) < 0:\n",
    "        b = m\n",
    "    elif f(b) * f(m) < 0:  \n",
    "        a = m\n",
    "    elif f(m) == 0:\n",
    "        break\n",
    "    else:\n",
    "        feil = True\n",
    "        break\n",
    "    m = (a + b)/2\n",
    "\n",
    "if feil:\n",
    "    print(f\"f({a}) og f({b}) er på samme side av x-aksen.\")\n",
    "    print(f\"Jeg finner ingen løsning.\")\n",
    "else:\n",
    "    print(f\"f(x)=g(x) i x = {m:.3f}\")"
   ]
  },
  {
   "cell_type": "markdown",
   "metadata": {
    "id": "zWsb4wpEu96M"
   },
   "source": [
    "### Eksempel 4.5.5 Finne nullpunkt til sammensatte funksjoner.\n",
    "Vi ser på likningen: $$2^x - 3x^3 = 0 , x\\in[0,2]$$\n",
    "\n",
    "Kan vi løse denne likningen?\n",
    "Svaret er egentlig at vi ikke kan løse denne likningen ved hjelp av det vi har lært i 1T uten numeriske løsninger. Det er derimot mulig å bruke halveringsmetoden."
   ]
  },
  {
   "cell_type": "code",
   "execution_count": 5,
   "metadata": {
    "id": "FLCc_1w6u-32"
   },
   "outputs": [
    {
     "name": "stdout",
     "output_type": "stream",
     "text": [
      "Funksjonen har et nullpunkt i x = 0.8423.\n"
     ]
    }
   ],
   "source": [
    "def f(x):\n",
    "    return 2**x - 3*x**3  \n",
    "\n",
    "nedregrense = 0\n",
    "øvregrense = 2\n",
    "presisjon = 1e-4 # dette betyr det samme som 1*10^(-4)\n",
    "\n",
    "a = nedregrense\n",
    "b = øvregrense\n",
    "m = (a + b)/2\n",
    "feil = False\n",
    "\n",
    "while b - a > presisjon:\n",
    "    if f(a) * f(m) < 0:\n",
    "        b = m\n",
    "    elif f(b) * f(m) < 0:\n",
    "        a = m\n",
    "    elif f(m) == 0:\n",
    "        break\n",
    "    else:\n",
    "        feil = True\n",
    "        break\n",
    "    m = (a + b)/2\n",
    "\n",
    "if feil:\n",
    "    print(f\"f({a}) og f({b}) er på samme side av x-aksen.\")\n",
    "    print(f\"Jeg finner ingen løsning.\")\n",
    "else:\n",
    "    print(f\"Funksjonen har et nullpunkt i x = {m:.4f}.\")"
   ]
  },
  {
   "cell_type": "markdown",
   "metadata": {
    "id": "4Uvh_u0XvE76"
   },
   "source": [
    "### Oppgave 4.5.6\n",
    "Finn nullpunkt til likningen $x^3 - 2^x -1$"
   ]
  },
  {
   "cell_type": "code",
   "execution_count": 6,
   "metadata": {},
   "outputs": [
    {
     "name": "stdout",
     "output_type": "stream",
     "text": [
      "Funksjonen har et nullpunkt i x = 1.5883\n"
     ]
    }
   ],
   "source": [
    "#Kopierer koden fra over og endrer funksjonen\n",
    "def f(x):\n",
    "    return x**3 - 2**x - 1\n",
    "\n",
    "nedregrense = 0\n",
    "øvregrense = 2\n",
    "presisjon = 1e-4 # dette betyr det samme som 1*10^(-4)\n",
    "\n",
    "a = nedregrense\n",
    "b = øvregrense\n",
    "m = (a + b)/2\n",
    "feil = False\n",
    "\n",
    "while b - a > presisjon:\n",
    "    if f(a) * f(m) < 0:\n",
    "        b = m\n",
    "    elif f(b) * f(m) < 0:\n",
    "        a = m\n",
    "    elif f(m) == 0:\n",
    "        break\n",
    "    else:\n",
    "        feil = True\n",
    "        break\n",
    "    m = (a + b)/2\n",
    "\n",
    "if feil:\n",
    "    print(f\"f({a}) og f({b}) er på samme side av x-aksen.\")\n",
    "    print(f\"Jeg finner ingen løsning.\")\n",
    "else:\n",
    "    print(f\"Funksjonen har et nullpunkt i x = {m:.4f}\")"
   ]
  },
  {
   "cell_type": "markdown",
   "metadata": {
    "id": "Oth9EKypvI49"
   },
   "source": [
    "## 4.5 Eksempel 2: Finne flere nullpunkter ved halveringsmetoden\n",
    "Vi må gjenta halveringsmetoden flere ganger med forskjellige intervaller dersom vi skal finne flere nullpunkt. Vi kan da \"gjette\" startverdi og sluttverdi til vi finner nullpunktene. Ofte kan det være vanskelig å avgjøre hvor mange nullpunkt en funksjon vil ha. Ved å tegne grafen til funksjonen vil vi kunne se hva som er fornuftige innverdier i halveringsmetoden. Kjør programmet under!"
   ]
  },
  {
   "cell_type": "code",
   "execution_count": 7,
   "metadata": {
    "colab": {
     "base_uri": "https://localhost:8080/",
     "height": 296
    },
    "executionInfo": {
     "elapsed": 2585,
     "status": "ok",
     "timestamp": 1619547671567,
     "user": {
      "displayName": "Elisabeth Engum",
      "photoUrl": "https://lh3.googleusercontent.com/a-/AOh14GjBtQFjSNZ1nh0et-JxuzgDQzA71dvCFbDsgrU3=s64",
      "userId": "13741485916301021246"
     },
     "user_tz": -120
    },
    "id": "Hh1y09c3vNTv",
    "outputId": "cadf3790-92ab-4f9a-de91-fd5ce7ac7bfa"
   },
   "outputs": [
    {
     "data": {
      "image/png": "[encoded data removed]",
      "text/plain": [
       "<Figure size 640x480 with 1 Axes>"
      ]
     },
     "metadata": {},
     "output_type": "display_data"
    }
   ],
   "source": [
    "import matplotlib.pyplot as plt\n",
    "import numpy as np\n",
    "\n",
    "x = np.linspace(-1,1,1001) #Her velger vi x-verdier fra -1 til 1, jevnt forledt på 1000 punkter.\n",
    "\n",
    "def f(x): #definerer funksjonen f\n",
    "    return( 2**x - 3*x**3 - 1)\n",
    "plt.plot(x,f(x),label=r'$2^x - 3\\cdot x^3 - 1$') #tegner grafen, markører vises på hvert punkt (kan oftest droppes).\n",
    "plt.axhline(0, color='green')\n",
    "plt.grid(color='r', linestyle='-', linewidth=0.5)\n",
    "plt.xlabel('x') #aksetittel x-akse\n",
    "plt.ylabel('y') #aksetittel y-akse\n",
    "plt.legend() #navn på funksjon\n",
    "plt.show()\n"
   ]
  },
  {
   "cell_type": "markdown",
   "metadata": {
    "id": "wbrY5W-nvV6v"
   },
   "source": [
    "Vi ser av plottet at funksjonen har tre nullpunkt. Vi velger start -og sluttverdier utfra grafen.\n",
    "\n",
    "Vi ser for eksempel at det første nullpunktet ligger mellom $-0.50$ og $-0.25$, og velger dette som første øvre og nedre grense."
   ]
  },
  {
   "cell_type": "code",
   "execution_count": 8,
   "metadata": {
    "id": "4qtR3JELvZwb"
   },
   "outputs": [
    {
     "name": "stdout",
     "output_type": "stream",
     "text": [
      "Funksjonen har et nullpunkt i x = -0.4458\n",
      "Funksjonen har et annet nullpunkt i x = 0.0000\n",
      "Funksjonen har et tredje nullpunkt i x = 0.5282\n"
     ]
    }
   ],
   "source": [
    "def f(x):\n",
    "    return( 2**x - 3*x**3 - 1) \n",
    "\n",
    "nedregrense = -0.5\n",
    "øvregrense = -0.25\n",
    "presisjon = 1e-4 # dette betyr det samme som 1*10^(-4)\n",
    "\n",
    "a = nedregrense\n",
    "b = øvregrense\n",
    "m = (a + b)/2\n",
    "feil = False\n",
    "\n",
    "while b - a > presisjon:\n",
    "    if f(a) * f(m) < 0:\n",
    "        b = m\n",
    "    elif f(b) * f(m) < 0:\n",
    "        a = m\n",
    "    elif f(m) == 0:\n",
    "        break\n",
    "    else:\n",
    "        feil = True\n",
    "        break\n",
    "    m = (a + b)/2\n",
    "\n",
    "if feil:\n",
    "    print(f\"f({a}) og f({b}) er på samme side av x-aksen.\")\n",
    "    print(f\"Jeg finner ingen løsning.\")\n",
    "else:\n",
    "    print(f\"Funksjonen har et nullpunkt i x = {m:.4f}\")\n",
    "\n",
    "# vi ser at det neste ligger mellom -0,25 og 0,25\n",
    "nedregrense = -0.25\n",
    "øvregrense = 0.25\n",
    "presisjon = 1e-4 # dette betyr det samme som 1*10^(-4)\n",
    "\n",
    "a = nedregrense\n",
    "b = øvregrense\n",
    "m = (a + b)/2\n",
    "feil = False\n",
    "\n",
    "while b - a > presisjon:\n",
    "    if f(a) * f(m) < 0:\n",
    "        b = m\n",
    "    elif f(b) * f(m) < 0:\n",
    "        a = m\n",
    "    elif f(m) == 0:\n",
    "        break\n",
    "    else:\n",
    "        feil = True\n",
    "        break\n",
    "    m = (a + b)/2\n",
    "\n",
    "if feil:\n",
    "    print(f\"f({a}) og f({b}) er på samme side av x-aksen.\")\n",
    "    print(f\"Jeg finner ingen løsning.\")\n",
    "else:\n",
    "    print(f\"Funksjonen har et annet nullpunkt i x = {m:.4f}\")\n",
    "\n",
    "# vi ser at det neste ligger mellom 0,25 og 1,00  \n",
    "nedregrense = 0.25\n",
    "øvregrense = 1\n",
    "presisjon = 1e-4 # dette betyr det samme som 1*10^(-4)\n",
    "\n",
    "a = nedregrense\n",
    "b = øvregrense\n",
    "m = (a + b)/2\n",
    "feil = False\n",
    "\n",
    "while b - a > presisjon:\n",
    "    if f(a) * f(m) < 0:\n",
    "        b = m\n",
    "    elif f(b) * f(m) < 0:\n",
    "        a = m\n",
    "    elif f(m) == 0:\n",
    "        break\n",
    "    else:\n",
    "        feil = True\n",
    "        break\n",
    "    m = (a + b)/2\n",
    "\n",
    "if feil:\n",
    "    print(f\"f({a}) og f({b}) er på samme side av x-aksen.\")\n",
    "    print(f\"Jeg finner ingen løsning.\")\n",
    "else:\n",
    "    print(f\"Funksjonen har et tredje nullpunkt i x = {m:.4f}\")"
   ]
  },
  {
   "cell_type": "markdown",
   "metadata": {
    "id": "9_8n8GDTvgB_"
   },
   "source": [
    "### Oppgave 4.5.7\n",
    "Finn nullpunktene til $f(x)=x^3 - 2^x + 1 , x\\in[-2, 2] $"
   ]
  },
  {
   "cell_type": "code",
   "execution_count": 9,
   "metadata": {},
   "outputs": [
    {
     "data": {
      "image/png": "[encoded data removed]",
      "text/plain": [
       "<Figure size 640x480 with 1 Axes>"
      ]
     },
     "metadata": {},
     "output_type": "display_data"
    }
   ],
   "source": [
    "# plotter først grafen til funksjonen\n",
    "import matplotlib.pyplot as plt\n",
    "import numpy as np\n",
    "\n",
    "x = np.linspace(-2,2,1001) #Her velger vi x-verdier fra -1 til 1, jevnt forledt på 1000 punkter.\n",
    "\n",
    "def f(x): #definerer funksjonen f\n",
    "    return( x**3 - 2**x + 1)\n",
    "plt.plot(x,f(x),label=r'$x^3 -  2^x + 1$') #tegner grafen, markører vises på hvert punkt (kan oftest droppes).\n",
    "plt.axhline(0, color='green')\n",
    "plt.grid(color='r', linestyle='-', linewidth=0.5)\n",
    "plt.xlabel('x') #aksetittel x-akse\n",
    "plt.ylabel('y') #aksetittel y-akse\n",
    "plt.legend() #navn på funksjon\n",
    "plt.show()"
   ]
  },
  {
   "cell_type": "code",
   "execution_count": 10,
   "metadata": {},
   "outputs": [
    {
     "name": "stdout",
     "output_type": "stream",
     "text": [
      "Funksjonen har et nullpunkt i x = -0.7367\n",
      "Funksjonen har et annet nullpunkt i x = 0.0000\n",
      "Funksjonen har et tredje nullpunkt i x = 1.0000\n"
     ]
    }
   ],
   "source": [
    "# vi ser tre nullpunkt, og kopierer koden fra forrige eksempel for å finne tre nullpunkt\n",
    "def f(x):\n",
    "    return( x**3 - 2**x + 1) \n",
    "\n",
    "nedregrense = -1\n",
    "øvregrense = -0.5\n",
    "presisjon = 1e-4 # dette betyr det samme som 1*10^(-4)\n",
    "\n",
    "a = nedregrense\n",
    "b = øvregrense\n",
    "m = (a + b)/2\n",
    "feil = False\n",
    "\n",
    "while b - a > presisjon:\n",
    "    if f(a) * f(m) < 0:\n",
    "        b = m\n",
    "    elif f(b) * f(m) < 0:\n",
    "        a = m\n",
    "    elif f(m) == 0:\n",
    "        break\n",
    "    else:\n",
    "        feil = True\n",
    "        break\n",
    "    m = (a + b)/2\n",
    "\n",
    "if feil:\n",
    "    print(f\"f({a}) og f({b}) er på samme side av x-aksen.\")\n",
    "    print(f\"Jeg finner ingen løsning.\")\n",
    "else:\n",
    "    print(f\"Funksjonen har et nullpunkt i x = {m:.4f}\")\n",
    "\n",
    "# vi ser at det neste ligger mellom -0,5 og 0,5\n",
    "nedregrense = -0.5\n",
    "øvregrense = 0.5\n",
    "presisjon = 1e-4 # dette betyr det samme som 1*10^(-4)\n",
    "\n",
    "a = nedregrense\n",
    "b = øvregrense\n",
    "m = (a + b)/2\n",
    "feil = False\n",
    "\n",
    "while b - a > presisjon:\n",
    "    if f(a) * f(m) < 0:\n",
    "        b = m\n",
    "    elif f(b) * f(m) < 0:\n",
    "        a = m\n",
    "    elif f(m) == 0:\n",
    "        break\n",
    "    else:\n",
    "        feil = True\n",
    "        break\n",
    "    m = (a + b)/2\n",
    "\n",
    "if feil:\n",
    "    print(f\"f({a}) og f({b}) er på samme side av x-aksen.\")\n",
    "    print(f\"Jeg finner ingen løsning.\")\n",
    "else:\n",
    "    print(f\"Funksjonen har et annet nullpunkt i x = {m:.4f}\")\n",
    "\n",
    "# vi ser at det neste ligger mellom 0,5 og 1,50  \n",
    "nedregrense = 0.5\n",
    "øvregrense = 1.5\n",
    "presisjon = 1e-4 # dette betyr det samme som 1*10^(-4)\n",
    "\n",
    "a = nedregrense\n",
    "b = øvregrense\n",
    "m = (a + b)/2\n",
    "feil = False\n",
    "\n",
    "while b - a > presisjon:\n",
    "    if f(a) * f(m) < 0:\n",
    "        b = m\n",
    "    elif f(b) * f(m) < 0:\n",
    "        a = m\n",
    "    elif f(m) == 0:\n",
    "        break\n",
    "    else:\n",
    "        feil = True\n",
    "        break\n",
    "    m = (a + b)/2\n",
    "\n",
    "if feil:\n",
    "    print(f\"f({a}) og f({b}) er på samme side av x-aksen.\")\n",
    "    print(f\"Jeg finner ingen løsning.\")\n",
    "else:\n",
    "    print(f\"Funksjonen har et tredje nullpunkt i x = {m:.4f}\")"
   ]
  }
 ],
 "metadata": {
  "colab": {
   "collapsed_sections": [],
   "name": "Økt 6 Halveringsmetoden for å finne nullpunkt.ipynb",
   "provenance": [
    {
     "file_id": "1wJMCEHxFhrAHAtgJBFXqtzUD6d8mZVlt",
     "timestamp": 1589538186794
    },
    {
     "file_id": "19-ibI1bWBjrtFlMBNkvTYvgcCeSsrpz_",
     "timestamp": 1589531406481
    }
   ],
   "toc_visible": true
  },
  "kernelspec": {
   "display_name": "Python 3 (ipykernel)",
   "language": "python",
   "name": "python3"
  },
  "language_info": {
   "codemirror_mode": {
    "name": "ipython",
    "version": 3
   },
   "file_extension": ".py",
   "mimetype": "text/x-python",
   "name": "python",
   "nbconvert_exporter": "python",
   "pygments_lexer": "ipython3",
   "version": "3.9.15"
  }
 },
 "nbformat": 4,
 "nbformat_minor": 4
}
