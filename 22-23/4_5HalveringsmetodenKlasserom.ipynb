{
 "cells": [
  {
   "cell_type": "markdown",
   "id": "098ad729-5f26-4882-afee-80d0184aeab3",
   "metadata": {},
   "source": [
    "# 4.5 Halveringsmetoden\n",
    "Her er det som kodes i klasserommet, noe er eksempel fra læreboken, noe er å løse en av oppgavene i boken.\n",
    "Filen deles via Github etter timen er over."
   ]
  },
  {
   "cell_type": "code",
   "execution_count": null,
   "id": "f46331d0-a802-42f8-a2c0-7ea3e44978d1",
   "metadata": {},
   "outputs": [],
   "source": []
  }
 ],
 "metadata": {
  "kernelspec": {
   "display_name": "Python 3 (ipykernel)",
   "language": "python",
   "name": "python3"
  },
  "language_info": {
   "codemirror_mode": {
    "name": "ipython",
    "version": 3
   },
   "file_extension": ".py",
   "mimetype": "text/x-python",
   "name": "python",
   "nbconvert_exporter": "python",
   "pygments_lexer": "ipython3",
   "version": "3.9.15"
  }
 },
 "nbformat": 4,
 "nbformat_minor": 5
}
