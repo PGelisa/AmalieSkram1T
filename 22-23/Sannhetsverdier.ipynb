{
 "cells": [
  {
   "cell_type": "code",
   "execution_count": null,
   "id": "df951fd6-bcf5-4d35-af74-b6df49cdf9b0",
   "metadata": {},
   "outputs": [],
   "source": []
  },
  {
   "cell_type": "markdown",
   "id": "fc5e0098-a21f-4434-b933-044589f0b2d9",
   "metadata": {},
   "source": [
    "## Sannhetsverdier og vilkår\n",
    "Alle utsagn i Python kan enten være sann eller usann. Verdien sann kalles `true` og usann kalles `false`. "
   ]
  },
  {
   "cell_type": "markdown",
   "id": "14ad75f7-b33a-4490-8d68-4ce950f0d787",
   "metadata": {},
   "source": [
    "|Symbolbruk i Python | Betydning |\n",
    "| :-----------: | :---------- |\n",
    "| `==` | er lik |\n",
    "| `!=`| er ikke lik |\n",
    "| `<` | er mindre enn |\n",
    "| `>=`| er mindre enn eller lik |\n",
    "| `>` | er større enn |\n",
    "| `>=` | er større enn eller lik |"
   ]
  },
  {
   "cell_type": "markdown",
   "id": "672fbef8-0738-4669-ae8f-a846e83c7981",
   "metadata": {},
   "source": [
    "Test å kjøre cellene under og se hva du får skrevet ut:"
   ]
  },
  {
   "cell_type": "code",
   "execution_count": null,
   "id": "9074dba7-8547-43c0-a4b2-810b4b3890ce",
   "metadata": {},
   "outputs": [],
   "source": [
    "3 < 2"
   ]
  },
  {
   "cell_type": "markdown",
   "id": "cb200486-eff9-438a-a98f-5f9f994a2b56",
   "metadata": {},
   "source": [
    "3 > 2"
   ]
  },
  {
   "cell_type": "code",
   "execution_count": null,
   "id": "190ccd18-104d-4474-93f3-3b5764e4d01b",
   "metadata": {},
   "outputs": [],
   "source": [
    "3 != 2"
   ]
  },
  {
   "cell_type": "code",
   "execution_count": null,
   "id": "5eebb733-1c66-4f01-880c-a3389a6dfa06",
   "metadata": {},
   "outputs": [],
   "source": [
    "'matematikk' == 'matematikk'"
   ]
  },
  {
   "cell_type": "code",
   "execution_count": null,
   "id": "db88c6bb-826d-4d38-971a-2ef986d5dfbc",
   "metadata": {},
   "outputs": [],
   "source": []
  }
 ],
 "metadata": {
  "kernelspec": {
   "display_name": "Python 3 (ipykernel)",
   "language": "python",
   "name": "python3"
  },
  "language_info": {
   "codemirror_mode": {
    "name": "ipython",
    "version": 3
   },
   "file_extension": ".py",
   "mimetype": "text/x-python",
   "name": "python",
   "nbconvert_exporter": "python",
   "pygments_lexer": "ipython3",
   "version": "3.9.12"
  }
 },
 "nbformat": 4,
 "nbformat_minor": 5
}
