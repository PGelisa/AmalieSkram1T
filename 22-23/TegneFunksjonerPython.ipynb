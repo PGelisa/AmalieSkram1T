{
 "cells": [
  {
   "cell_type": "markdown",
   "id": "c09943b2-2b03-4929-a574-c80eaddf23bc",
   "metadata": {},
   "source": [
    "## Tegne funksjoner i Python\n",
    "Vi må installere egne biblioteker for å tegne funksjoner i Python\n",
    "\n",
    "Under finner dere eksempel 18 side 162"
   ]
  },
  {
   "cell_type": "code",
   "execution_count": 4,
   "id": "901b0474-93f4-4efa-83d4-20c5f4489101",
   "metadata": {},
   "outputs": [
    {
     "name": "stdout",
     "output_type": "stream",
     "text": [
      "Effekten er 183076 W når vindstyrken er 4 m/s, og 5222174 W når vindstyrken er 12 m/s\n"
     ]
    },
    {
     "data": {
      "image/png": "[encoded data removed]",
      "text/plain": [
       "<Figure size 432x288 with 1 Axes>"
      ]
     },
     "metadata": {
      "needs_background": "light"
     },
     "output_type": "display_data"
    }
   ],
   "source": [
    "import numpy as np  # vi trenger numpy til å regne en del matematiske funksjoner\n",
    "import matplotlib.pyplot as plt  # vi trenger dette biblioteket til å plotte funksjoner\n",
    "# Oppretter x-verdier\n",
    "xStart = 0\n",
    "xSlutt = 14\n",
    "skritt = 0.1\n",
    "v = np.arange(xStart,xSlutt,skritt)\n",
    "\n",
    "# definerer funksjonen\n",
    "\n",
    "def effekt(v):\n",
    "    return 2669*v**3.05\n",
    "\n",
    "# Tegner grafen og lager etikett\n",
    "plt.plot(v, effekt(v), label='effekt(v)')\n",
    "plt.legend()\n",
    "\n",
    "#Lager grensene på begge aksene\n",
    "plt.xlim(0,16)\n",
    "plt.ylim(0,9000000)\n",
    "\n",
    "# viser rutenett\n",
    "plt.grid()\n",
    "\n",
    "# lager en varial for gca - altså aksene\n",
    "akser = plt.gca()\n",
    "\n",
    "#flytter aksene til origo\n",
    "akser.spines['bottom'].set_position('zero')\n",
    "akser.spines['left'].set_position('zero')\n",
    "\n",
    "# skjuler øvre og høyre akse\n",
    "akser.spines['top'].set_visible(False)\n",
    "akser.spines['right'].set_visible(False)\n",
    "\n",
    "#setter navn på aksene\n",
    "plt.xlabel('v, vindhastighet i m/s')\n",
    "plt.ylabel('effekt i watt')\n",
    "\n",
    "# regner ut effekten\n",
    "fart4=effekt(4)\n",
    "fart12 = effekt(12)\n",
    "\n",
    "#plotter punktene\n",
    "plt.plot([4,12],[fart4,fart12],'o')\n",
    "\n",
    "print(f'Effekten er {fart4:.0f} W når vindstyrken er 4 m/s, \\\n",
    "og {fart12:.0f} W når vindstyrken er 12 m/s')\n",
    "plt.show()"
   ]
  },
  {
   "cell_type": "code",
   "execution_count": null,
   "id": "bb9dc518-06ba-477c-b3ec-bdd73d4a8e2a",
   "metadata": {},
   "outputs": [],
   "source": []
  }
 ],
 "metadata": {
  "kernelspec": {
   "display_name": "Python 3 (ipykernel)",
   "language": "python",
   "name": "python3"
  },
  "language_info": {
   "codemirror_mode": {
    "name": "ipython",
    "version": 3
   },
   "file_extension": ".py",
   "mimetype": "text/x-python",
   "name": "python",
   "nbconvert_exporter": "python",
   "pygments_lexer": "ipython3",
   "version": "3.9.12"
  }
 },
 "nbformat": 4,
 "nbformat_minor": 5
}
