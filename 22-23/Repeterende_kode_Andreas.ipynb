{
 "cells": [
  {
   "cell_type": "markdown",
   "id": "ba907e6d",
   "metadata": {},
   "source": [
    "# For løkker\n",
    "\n",
    "Noen ganger vil vi kjøre en kode flere ganger. Da kan vi bruke en for-løkke til å gjøre dette. \n",
    "\n",
    "For å bruke en for-løkke starter vi med \"for\", etterfulgt av et variabelnavn, og ordet \"in\". Etter \"in\" kan det stå en rekke med tall, en liste, tekst, eller mye annet. \n",
    "Viktigst for oss er mengder med tall som lages av kommendoen \"range(start, slutt, hopp)\"."
   ]
  },
  {
   "cell_type": "code",
   "execution_count": 1,
   "id": "a0fb3ec6",
   "metadata": {},
   "outputs": [
    {
     "name": "stdout",
     "output_type": "stream",
     "text": [
      "12\n",
      "13\n",
      "14\n",
      "15\n"
     ]
    }
   ],
   "source": [
    "# Skriv alle tallene fra 12 til 15\n",
    "\n",
    "for i in range(12, 16):\n",
    "    print(i)"
   ]
  },
  {
   "cell_type": "markdown",
   "id": "1b7c990f",
   "metadata": {},
   "source": [
    "Merk at i koden over starter \"i\" på 12 og at den går til men ikke med 16.\n",
    "Dette skjer hver gang i \"range\" kommandoen. Den tar aldri med siste tallet.\n",
    "\n",
    "\n",
    "Hvis man bare skriver ett tall inn i \"range\" kommandoen så antar den at du starter på 0."
   ]
  },
  {
   "cell_type": "code",
   "execution_count": 2,
   "id": "94480cb2",
   "metadata": {},
   "outputs": [
    {
     "name": "stdout",
     "output_type": "stream",
     "text": [
      "0\n",
      "1\n",
      "2\n",
      "3\n",
      "4\n",
      "5\n",
      "6\n",
      "7\n",
      "8\n",
      "9\n"
     ]
    }
   ],
   "source": [
    "for teller in range(10):\n",
    "    print(teller)"
   ]
  },
  {
   "cell_type": "markdown",
   "id": "541627a6",
   "metadata": {},
   "source": [
    "Så her har programmet telt 10 tall, hvis man startet å telle fra 0.\n",
    "Å glemme at \"range\" starter på 0 og slutter et tall før det som står er en veldig vanlig feil, så vær oppmerksom på det!\n",
    "\n",
    "Vi kan også telle hvert n'te tall oppover. For eksempel kan vi telle hvert 5. tall:"
   ]
  },
  {
   "cell_type": "code",
   "execution_count": 3,
   "id": "11db1227",
   "metadata": {},
   "outputs": [
    {
     "name": "stdout",
     "output_type": "stream",
     "text": [
      "2\n",
      "7\n",
      "12\n",
      "17\n"
     ]
    }
   ],
   "source": [
    "for tall in range(2, 20, 5):\n",
    "    print(tall)"
   ]
  },
  {
   "cell_type": "markdown",
   "id": "9c9074d5",
   "metadata": {},
   "source": [
    "Dette programmet startet nå på 2, og teller hver 5. tall oppover frem til det når 19.\n",
    "\n",
    "\n",
    "Variabelnavnet må ikke nødvendigvis brukes inni for-løkken heller. Hvis jeg vil skrive ut \"Kake\" 5 ganger kan jeg skrive:"
   ]
  },
  {
   "cell_type": "code",
   "execution_count": 4,
   "id": "1a784e0b",
   "metadata": {},
   "outputs": [
    {
     "name": "stdout",
     "output_type": "stream",
     "text": [
      "Kake\n",
      "Kake\n",
      "Kake\n",
      "Kake\n",
      "Kake\n"
     ]
    }
   ],
   "source": [
    "for i in range(5):\n",
    "    print(\"Kake\")"
   ]
  },
  {
   "cell_type": "markdown",
   "id": "2015d687",
   "metadata": {},
   "source": [
    "Som nevnt kan man skrive andre ting etter \"in\" enn \"range\" kommandoen. For eksempel kan jeg gå gjennom tekst:"
   ]
  },
  {
   "cell_type": "code",
   "execution_count": 1,
   "id": "c6ee6b58",
   "metadata": {},
   "outputs": [
    {
     "name": "stdout",
     "output_type": "stream",
     "text": [
      "k\n",
      "a\n",
      "k\n",
      "e\n"
     ]
    }
   ],
   "source": [
    "for bokstav in \"kake\":\n",
    "    print(bokstav)"
   ]
  },
  {
   "cell_type": "markdown",
   "id": "f686455f",
   "metadata": {},
   "source": [
    "Nå skal vi se på et litt større eksempel. \n",
    "\n",
    "Vi skal lage en verditabell for en funksjonen $f(x) = x^{2}-10$ fra x = -6 til x = 6 med steglengde 3"
   ]
  },
  {
   "cell_type": "code",
   "execution_count": 18,
   "id": "5e70d28a",
   "metadata": {},
   "outputs": [
    {
     "name": "stdout",
     "output_type": "stream",
     "text": [
      "   x  f(x)\n",
      "-----------\n",
      "  -6   26\n",
      "  -3   -1\n",
      "   0  -10\n",
      "   3   -1\n",
      "   6   26\n"
     ]
    }
   ],
   "source": [
    "print(\"   x  f(x)\")\n",
    "print(\"-----------\")\n",
    "\n",
    "for x in range(-6,7,3):\n",
    "    print(f\"{x:4d} {x**2-10:4d}\")"
   ]
  },
  {
   "cell_type": "markdown",
   "id": "c0fec9ce",
   "metadata": {},
   "source": [
    "# Oppgaver for-løkker\n",
    "\n",
    "1)\n",
    "Lag et program som skriver ut alle oddetallene mellom 0 og 100\n",
    "\n",
    "2)\n",
    "Skriv et program som lager en verditabell for $f(x) = x^{2}+3x-1$ fra x = 0 til x = 10 med steglengde 1\n",
    "\n",
    "3)\n",
    "Skriv et program som gir denne outputen:\n",
    "\n",
    "x\n",
    "\n",
    "xxx\n",
    "\n",
    "xxxxx\n",
    "\n",
    "xxxxxxx\n",
    "\n",
    "Tips: \"x\"*4 gir \"xxxx\""
   ]
  },
  {
   "cell_type": "code",
   "execution_count": null,
   "id": "ea9a2355",
   "metadata": {},
   "outputs": [],
   "source": []
  },
  {
   "cell_type": "code",
   "execution_count": null,
   "id": "1fb436fe",
   "metadata": {},
   "outputs": [],
   "source": []
  },
  {
   "cell_type": "code",
   "execution_count": null,
   "id": "611e6cc4",
   "metadata": {},
   "outputs": [],
   "source": []
  },
  {
   "cell_type": "markdown",
   "id": "90494bbe",
   "metadata": {},
   "source": [
    "# While-løkker\n",
    "Hvis du vil repetere en kode ett visst antall ganger, men du ikke vet hvor mange, så passer en while-løkke bra. \n",
    "\n",
    "I en while løkke har man en logisk test som sjekkes hver gang før man kjører, på samme måte som en if-løkke. \n",
    "Så lenge testen gir \"True\" så kjører koden. \n",
    "\n",
    "\n",
    "Hvis jeg vil finne ut hvor mange ganger 3 må ganges med 5 før det blir over 1000, så må jeg bruke en while-løkke for jeg vet ikke hvor mange ganger det vil ta:"
   ]
  },
  {
   "cell_type": "code",
   "execution_count": 21,
   "id": "dcd661a4",
   "metadata": {},
   "outputs": [
    {
     "name": "stdout",
     "output_type": "stream",
     "text": [
      "15\n",
      "75\n",
      "375\n",
      "1875\n"
     ]
    }
   ],
   "source": [
    "tall = 3\n",
    "while tall < 1000:\n",
    "    tall = tall*5\n",
    "    print(tall)"
   ]
  },
  {
   "cell_type": "markdown",
   "id": "65a2fe09",
   "metadata": {},
   "source": [
    "Da kan vi se over at man måtte gange 3 med 5 fire ganger for at det skulle bli over 1000.\n",
    "\n",
    "Men å skrive ut hvert enkelt tall for så å telle opp kan bli litt slitsomt, og ta mye plass. \n",
    "Derfor er det vanlig å ha en variabel som teller for oss, så kan vi bruke den istedetfor:"
   ]
  },
  {
   "cell_type": "code",
   "execution_count": 28,
   "id": "37f9f237",
   "metadata": {},
   "outputs": [
    {
     "name": "stdout",
     "output_type": "stream",
     "text": [
      "Tre må ganges med fem 8 ganger for at det skal bli over 1 000 000\n"
     ]
    }
   ],
   "source": [
    "tall = 3\n",
    "teller = 0\n",
    "while tall < 1000000:\n",
    "    tall = tall*5\n",
    "    teller = teller + 1\n",
    "\n",
    "print(f\"Tre må ganges med fem {teller} ganger for at det skal bli over 1 000 000\")"
   ]
  },
  {
   "cell_type": "markdown",
   "id": "11aa9e38",
   "metadata": {},
   "source": [
    "----\n",
    "En fare når man jobber med while-løkker er at man kommer inn i en evig loop.\n",
    "\n",
    "Da må man stoppe programmet og rette opp i feilen før man kjører på nytt. \n",
    "Stoppe knappen er den firkantene boksen til høyre for \"run\" oppe på nettsiden.\n",
    "\n",
    "Programmet under er kommet inn i en evig loop. Det skulle i utgangpsunktet telle opp annenhvert tall opp til 10, men det er skjedd en feil. \n",
    "Prøv å kjøre koden og se hva som skjer. Klarer du i tillegg å rette opp i feilen?"
   ]
  },
  {
   "cell_type": "code",
   "execution_count": null,
   "id": "9eedb1db",
   "metadata": {},
   "outputs": [],
   "source": [
    "i = 0\n",
    "while i < 10:\n",
    "    i = i\n",
    "    print(i)\n"
   ]
  },
  {
   "cell_type": "markdown",
   "id": "33e60f64",
   "metadata": {},
   "source": [
    "# Oppgaver while-løkker\n",
    "1)\n",
    "Skriv et program som løser likningen $2^{n}=128$ med å telle hvor mange ganger vi må opphøye 2 for å få 128.\n",
    "\n",
    "2)\n",
    "Skriv et program som bruker en teller til å finne svaret i regnestykket 15-7 uten å bruke (-) minustegn.\n",
    "\n",
    "3)\n",
    "Lag et program som hilser på deg, og spør brukeren om han vil se hilsningen en gang til, og fortsetter til brukeren sier nei."
   ]
  },
  {
   "cell_type": "code",
   "execution_count": null,
   "id": "96ed1155",
   "metadata": {},
   "outputs": [],
   "source": []
  }
 ],
 "metadata": {
  "kernelspec": {
   "display_name": "Python 3 (ipykernel)",
   "language": "python",
   "name": "python3"
  },
  "language_info": {
   "codemirror_mode": {
    "name": "ipython",
    "version": 3
   },
   "file_extension": ".py",
   "mimetype": "text/x-python",
   "name": "python",
   "nbconvert_exporter": "python",
   "pygments_lexer": "ipython3",
   "version": "3.9.12"
  }
 },
 "nbformat": 4,
 "nbformat_minor": 5
}
