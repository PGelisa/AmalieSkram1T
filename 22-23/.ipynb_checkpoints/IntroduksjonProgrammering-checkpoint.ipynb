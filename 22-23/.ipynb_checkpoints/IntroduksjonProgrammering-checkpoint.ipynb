{
 "cells": [
  {
   "cell_type": "markdown",
   "id": "edc2e244-8645-47a7-a353-c8b40c1a8bf6",
   "metadata": {},
   "source": [
    "# Plan for 31.august 2022"
   ]
  },
  {
   "cell_type": "code",
   "execution_count": null,
   "id": "d027c386-6dd0-4a5e-9e58-815f2d394c0f",
   "metadata": {},
   "outputs": [],
   "source": []
  }
 ],
 "metadata": {
  "kernelspec": {
   "display_name": "Python 3 (ipykernel)",
   "language": "python",
   "name": "python3"
  },
  "language_info": {
   "codemirror_mode": {
    "name": "ipython",
    "version": 3
   },
   "file_extension": ".py",
   "mimetype": "text/x-python",
   "name": "python",
   "nbconvert_exporter": "python",
   "pygments_lexer": "ipython3",
   "version": "3.9.12"
  }
 },
 "nbformat": 4,
 "nbformat_minor": 5
}
