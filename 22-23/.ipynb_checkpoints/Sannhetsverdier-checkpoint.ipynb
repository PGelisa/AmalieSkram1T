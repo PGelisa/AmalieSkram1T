{
 "cells": [
  {
   "cell_type": "markdown",
   "id": "fe20e2cc-02c3-41d0-b2ea-a1f0d81333be",
   "metadata": {},
   "source": [
    "## Sannhetsverdier og vilkår\n",
    "Alle utsagn i Python kan enten være sann eller usann. Verdien sann kalles `true` og usann kalles `false`. "
   ]
  },
  {
   "cell_type": "markdown",
   "id": "1d7b714d-109c-4b7e-8fde-19a602961774",
   "metadata": {},
   "source": [
    "|Symbolbruk i Python | Betydning |\n",
    "| :-----------: | :---------- |\n",
    "| `==` | er lik |\n",
    "| `!=`| er ikke lik |\n",
    "| `<` | er mindre enn |\n",
    "| `>=`| er mindre enn eller lik |\n",
    "| `>` | er større enn |\n",
    "| `>=` | er større enn eller lik |"
   ]
  },
  {
   "cell_type": "markdown",
   "id": "52f1ca67-e6d0-476d-8d17-de28d6259e61",
   "metadata": {},
   "source": [
    "Test å kjøre cellene under og se hva du får skrevet ut:"
   ]
  },
  {
   "cell_type": "code",
   "execution_count": null,
   "id": "434e3443-ca68-4ea6-a048-c91dea593c53",
   "metadata": {},
   "outputs": [],
   "source": [
    "3 < 2"
   ]
  },
  {
   "cell_type": "markdown",
   "id": "39f76f43-6d46-441e-a830-b0634f086542",
   "metadata": {},
   "source": [
    "3 > 2"
   ]
  },
  {
   "cell_type": "code",
   "execution_count": null,
   "id": "4b8fd74d-de7c-4ea7-b223-f81c7acdfaf3",
   "metadata": {},
   "outputs": [],
   "source": [
    "3 != 2"
   ]
  },
  {
   "cell_type": "code",
   "execution_count": null,
   "id": "a9819e72-d011-4af0-af21-dd8962a7216a",
   "metadata": {},
   "outputs": [],
   "source": [
    "'matematikk' == 'matematikk'"
   ]
  },
  {
   "cell_type": "code",
   "execution_count": null,
   "id": "a62f2b7e-7ff7-4182-9fb9-e112a79c019e",
   "metadata": {},
   "outputs": [],
   "source": []
  }
 ],
 "metadata": {
  "kernelspec": {
   "display_name": "Python 3 (ipykernel)",
   "language": "python",
   "name": "python3"
  },
  "language_info": {
   "codemirror_mode": {
    "name": "ipython",
    "version": 3
   },
   "file_extension": ".py",
   "mimetype": "text/x-python",
   "name": "python",
   "nbconvert_exporter": "python",
   "pygments_lexer": "ipython3",
   "version": "3.9.12"
  }
 },
 "nbformat": 4,
 "nbformat_minor": 5
}
