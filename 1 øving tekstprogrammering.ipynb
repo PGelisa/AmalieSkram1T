{
 "cells": [
  {
   "cell_type": "markdown",
   "metadata": {
    "colab_type": "text",
    "id": "bS6uMz9o3OJW"
   },
   "source": [
    "#Øving 1 - Tekstprogrammering med Python"
   ]
  },
  {
   "cell_type": "markdown",
   "metadata": {
    "colab_type": "text",
    "id": "bS6uMz9o3OJW"
   },
   "source": [
    "##Oppgave 1\n",
    "Forklar hva programmene nedenfor gjør:\n",
    "\n",
    "\n",
    "```\n",
    "n=1\n",
    "\n",
    "while n < 51:\n",
    "    partall = 2*n\n",
    "    print(partall)\n",
    "    n += 1\n",
    "```\n",
    "\n",
    "\n",
    "```\n",
    "partall = 0\n",
    "\n",
    "while < 100:\n",
    "    partall += 2\n",
    "    print(partall)\n",
    "```"
   ]
  },
  {
   "cell_type": "markdown",
   "metadata": {
    "colab_type": "text",
    "id": "K7M9fePo34d7"
   },
   "source": [
    "Skriv inn svaret ditt her:\n",
    "\n"
   ]
  },
  {
   "cell_type": "markdown",
   "metadata": {
    "colab_type": "text",
    "id": "SN_lq-1w38CR"
   },
   "source": [
    "##Oppgave 2\n",
    "Forklar hva programmene nedenfor gjør:\n",
    "\n",
    "\n",
    "```\n",
    "for n in range(50):\n",
    "    oddetall = 2*n + 1\n",
    "    print(oddetall)\n",
    "```\n",
    "\n",
    "\n",
    "```\n",
    "for oddetall in range(1, 100, 2):\n",
    "    print(oddetall)\n",
    "```\n",
    "\n",
    "\n"
   ]
  },
  {
   "cell_type": "markdown",
   "metadata": {
    "colab_type": "text",
    "id": "csy67a3I4UOm"
   },
   "source": [
    "Skriv inn svaret ditt her:\n",
    "\n"
   ]
  },
  {
   "cell_type": "markdown",
   "metadata": {
    "colab_type": "text",
    "id": "vzxzhiwN5Jc8"
   },
   "source": [
    "##Oppgave 3\n",
    "Forklar hva programmet nedenfor gjør:\n",
    "\n",
    "\n",
    "\n",
    "```\n",
    "tall = int(input('Hvilket tall vil du studere? >> '))\n",
    "\n",
    "for faktor in range(2,tall):\n",
    "    while (tall % faktor == 0):\n",
    "        print(tall,\"har faktoren:\", faktor)\n",
    "        tall = tall / faktor\n",
    "```\n",
    "\n"
   ]
  },
  {
   "cell_type": "markdown",
   "metadata": {
    "colab_type": "text",
    "id": "KJyBbrX253Ai"
   },
   "source": [
    "Skriv inn svaret ditt her:\n",
    "\n"
   ]
  },
  {
   "cell_type": "markdown",
   "metadata": {
    "colab_type": "text",
    "id": "CZ98iJTL56im"
   },
   "source": [
    "##Oppgave 4\n",
    "I kodefeltet under skal du lage et program som regner ut følgende oppgaver, og skriver svaret til konsoll. Husk å importere riktig bibliotek.\n",
    "\n",
    "a) $8 - 2\\cdot3^2 + (7-6)^4:\\sqrt{36}$\n",
    "\n",
    "b) $1 -2\\cdot(3-4)^5$\n",
    "\n",
    "c) $\\dfrac{9,0\\cdot10^8}{2,5\\cdot10^{-3}\\cdot 0,002}$"
   ]
  },
  {
   "cell_type": "code",
   "execution_count": 1,
   "metadata": {
    "colab": {},
    "colab_type": "code",
    "id": "PJOIsp7w_N5Q"
   },
   "outputs": [],
   "source": [
    "# Oppgave 4 Skriv inn kodene dine under\n"
   ]
  },
  {
   "cell_type": "markdown",
   "metadata": {
    "colab_type": "text",
    "id": "Dl3cO1FV_TMZ"
   },
   "source": [
    "##Oppgave 5\n",
    "![Figurtall](https://docs.google.com/drawings/d/e/2PACX-1vT8CaJ0EzhBeJG53ihXnJb4yHEqMy9GVyQqMUQDuBUhcLM5NH4jOhjRpSEGoQFqAYOV8hYV8-Any7lz/pub?w=949&h=253)\n",
    "\n",
    "\n",
    "\n",
    "Lag et program som skriver ut de første 100 tallene av denne tallfølgen"
   ]
  },
  {
   "cell_type": "code",
   "execution_count": 2,
   "metadata": {
    "colab": {},
    "colab_type": "code",
    "id": "iz82IP4t_8nO"
   },
   "outputs": [],
   "source": [
    "# Oppgave 5 Skriv inn koden din her\n"
   ]
  },
  {
   "cell_type": "markdown",
   "metadata": {
    "colab_type": "text",
    "id": "Kp-HehlkC5JU"
   },
   "source": [
    "##Oppgave 6\n",
    "Lag et program som spør brukeren om lengden og bredden til to ulike rektangler. \n",
    "\n",
    "Programmet skal regne ut arealet av de to rektanglene, og så fortelle brukeren hvilket av dem som har størst areal, eventuelt om arealene er identiske."
   ]
  },
  {
   "cell_type": "code",
   "execution_count": 3,
   "metadata": {
    "colab": {},
    "colab_type": "code",
    "id": "TdFIMmLcDL9x"
   },
   "outputs": [],
   "source": [
    "# Skriv inn programmet ditt her\n",
    "\n"
   ]
  },
  {
   "cell_type": "markdown",
   "metadata": {
    "colab_type": "text",
    "id": "imHMAeztI4xU"
   },
   "source": [
    "##Oppgave 7\n",
    "Skriv en løkke som regner ut summen av følgende tallrekke:\n",
    "\n",
    "$$\\dfrac{1}{30}+\\dfrac{2}{29}+\\dfrac{3}{28}+\\cdots+\\dfrac{30}{1} $$"
   ]
  },
  {
   "cell_type": "code",
   "execution_count": 4,
   "metadata": {
    "colab": {},
    "colab_type": "code",
    "id": "o-LPEPqEJtoX"
   },
   "outputs": [],
   "source": [
    "# Skriv inn programmet ditt her\n",
    "\n"
   ]
  }
 ],
 "metadata": {
  "colab": {
   "authorship_tag": "ABX9TyPN1sSMXpZx0RD9qmvBYCUd",
   "name": "Øving3Tekstprogrammering.ipynb",
   "provenance": []
  },
  "kernelspec": {
   "display_name": "Python 3",
   "language": "python",
   "name": "python3"
  },
  "language_info": {
   "codemirror_mode": {
    "name": "ipython",
    "version": 3
   },
   "file_extension": ".py",
   "mimetype": "text/x-python",
   "name": "python",
   "nbconvert_exporter": "python",
   "pygments_lexer": "ipython3",
   "version": "3.7.7"
  }
 },
 "nbformat": 4,
 "nbformat_minor": 1
}
