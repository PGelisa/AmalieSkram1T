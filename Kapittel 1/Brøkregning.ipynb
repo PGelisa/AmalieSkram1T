{
 "cells": [
  {
   "cell_type": "markdown",
   "id": "cb6dea26-e02c-4f8c-9ecb-3b37ce7269dd",
   "metadata": {},
   "source": [
    "# Brøkregning\n",
    "\n",
    "En brøk er definert slik:\n",
    "\n",
    "$\\frac{Teller}{Nevner}$\n",
    "\n",
    "Teller og nevner kan være et enkelt tall. Men det kan også være et mer komplisert talluttrykk eller et uttrykk som inneholder variabler.\n",
    "\n",
    "Eks.\n",
    "\n",
    "a)\t$\\frac{3}{5}$\tb)\t$\\frac{2}{1+3\\sqrt{2}}$\tc)\t$\\frac{x+1}{2x^{2}-8}$\n",
    "\n",
    "\n",
    "NB! Et helt tall n kan alltid gjøres om til en brøk ved å skrive tallet som 1-deler: n = $\\frac{n}{1}$\n",
    "\n",
    "\n",
    "## Brøkregler\n",
    "\n",
    "### Utviding av en brøk\n",
    "\n",
    "Vi utvider en brøk ved å multiplisere både teller og nevner med samme størrelse.\n",
    "\n",
    "Eks.\n",
    "\n",
    "a)\t$\\frac{3}{5}=\\frac{32}{52}=\\frac{6}{10}$\n",
    "\n",
    "b)\t$\\frac{x}{x+1}=\\frac{x(x-1)}{(x+1)(x-1)}$\n",
    "\n",
    "\n",
    "Hensikten med å utvide en brøk kan være å forenkle et komlisert brøkuttrykk. Men den vanlige anvendelsen er når vi ønsker å få en felles nevner i flere brøkuttrykk som vi vil trekke sammen - se nedenfor.\n",
    "\n",
    "\n",
    "### Forkorting av brøk\n",
    "\n",
    "Dette er det motsatte av å utvide en brøk. Her dividerer vi teller og nevner med samme størrelse.\n",
    "\n",
    "Eks.\n",
    "\n",
    "a)\t$\\frac{14}{21}=\\frac{14:7}{21:7}=\\frac{2}{3}$\n",
    "\n",
    "Dette fører vi vanligvis slik:\n",
    "\n",
    " $\\require{cancel}\\frac{\\cancelto{2}{14}}{\\cancelto{3}{21}}=\\frac{2}{3}$\n",
    "\n",
    "b)\t$\\frac{4x}{6x^{2}}=\\frac{4x:2x}{6x^{2}:2x}=\\frac{2}{3x}$\n",
    "\n",
    "Dette fører vi vanligvis slik:\n",
    "\n",
    "$\\frac{\\cancelto{2}{4} \\cancelto{1}{x}}{\\cancelto{3}{6} x^{\\cancelto{1}{2}}}=\\frac{2\\cdot1}{3x^{1}}=\\frac{2}{3x}$\n",
    "\n",
    "$\\frac{\\cancel{4}^{2} \\bcancel{x}^{1}}{\\cancelto{3}{6} x^{\\cancelto{1}{2}}}=\\frac{2\\cdot1}{3x^{1}}=\\frac{2}{3x}$\n"
   ]
  },
  {
   "cell_type": "code",
   "execution_count": null,
   "id": "84f47ee8-296d-4227-bb23-2612d4ff893a",
   "metadata": {},
   "outputs": [],
   "source": []
  }
 ],
 "metadata": {
  "kernelspec": {
   "display_name": "Python 3 (ipykernel)",
   "language": "python",
   "name": "python3"
  },
  "language_info": {
   "codemirror_mode": {
    "name": "ipython",
    "version": 3
   },
   "file_extension": ".py",
   "mimetype": "text/x-python",
   "name": "python",
   "nbconvert_exporter": "python",
   "pygments_lexer": "ipython3",
   "version": "3.9.16"
  }
 },
 "nbformat": 4,
 "nbformat_minor": 5
}
