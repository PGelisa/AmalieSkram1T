{
 "cells": [
  {
   "cell_type": "markdown",
   "id": "9a51bf73-376f-4d75-9268-39f8d650268b",
   "metadata": {},
   "source": [
    "# Trekanttall"
   ]
  },
  {
   "cell_type": "markdown",
   "id": "187d4771-9d99-44a0-92fe-fbcb3c7ea76f",
   "metadata": {},
   "source": [
    "Her kommer en liten repetisjon på `input()` og `for`-løkker. Så undersøker vi figurtall generelt og trekanttall spesielt på flere ulike måter "
   ]
  },
  {
   "cell_type": "markdown",
   "id": "6df2d45e-531e-4099-810d-849ff8808fb5",
   "metadata": {},
   "source": [
    "### Løkker og tallfølger"
   ]
  },
  {
   "cell_type": "markdown",
   "id": "0843f70e-083d-4c0c-bc29-6c8ca2909009",
   "metadata": {},
   "source": [
    "<div class=\"alert alert-block alert-info\">\n",
    "<b>Oppgave: </b>Kjør programmet og undersøk hvordan det virker.</div>"
   ]
  },
  {
   "cell_type": "code",
   "execution_count": 1,
   "id": "2781ed9b-d146-46da-96a2-b454a4b9df79",
   "metadata": {},
   "outputs": [
    {
     "name": "stdin",
     "output_type": "stream",
     "text": [
      "hvor mange tall? 6\n"
     ]
    },
    {
     "name": "stdout",
     "output_type": "stream",
     "text": [
      "1\n",
      "2\n",
      "3\n",
      "4\n",
      "5\n",
      "6\n"
     ]
    }
   ],
   "source": [
    "antall=int(input(\"hvor mange tall?\"))\n",
    "\n",
    "for n in range(1,antall +1):\n",
    "    print(n)"
   ]
  },
  {
   "cell_type": "markdown",
   "id": "4a87f28a-a776-4317-9e0d-07f13f4973c4",
   "metadata": {},
   "source": [
    "<div class=\"alert alert-block alert-info\">\n",
    "<b>Oppgave: </b>Hva kaller vi tallene du nettopp har skrevet ut? <b>Hint: </b> Sjekk kp 1A i boken</div>"
   ]
  },
  {
   "cell_type": "markdown",
   "id": "8fa3ef58-f979-4204-a617-caf9e36dfa77",
   "metadata": {},
   "source": [
    "***Den skriver ut en liste med naturlige tall, fra tallet 1 og opp til så mange tall som man skriver inn i spørsmålet***"
   ]
  },
  {
   "cell_type": "markdown",
   "id": "3cdc591c-1f31-4d66-a4c6-8b56416c3729",
   "metadata": {},
   "source": [
    "### Tegning av trekanttall"
   ]
  },
  {
   "cell_type": "markdown",
   "id": "f85c6f96-d7ba-4e5f-832d-5963bbc94afa",
   "metadata": {},
   "source": [
    "<div class=\"alert alert-block alert-info\">\n",
    "<b>Oppgave: </b>Stjel koden fra forrige oppgave og lim den inn under. Forandre det som står inne i printkommandoen til: <b>n*\" *\"</b>. Kjør koden og forklar hva som skjer. </div>"
   ]
  },
  {
   "cell_type": "code",
   "execution_count": 2,
   "id": "532b71bd-194c-41ae-9269-6da11529e765",
   "metadata": {},
   "outputs": [
    {
     "name": "stdin",
     "output_type": "stream",
     "text": [
      "hvor mange tall? 5\n"
     ]
    },
    {
     "name": "stdout",
     "output_type": "stream",
     "text": [
      " *\n",
      " * *\n",
      " * * *\n",
      " * * * *\n",
      " * * * * *\n"
     ]
    }
   ],
   "source": [
    "antall=int(input(\"hvor mange tall?\"))\n",
    "\n",
    "for n in range(1,antall +1):\n",
    "    print(n*\" *\")"
   ]
  },
  {
   "cell_type": "markdown",
   "id": "d570a906-710d-40e8-aa07-cd97b26607a6",
   "metadata": {},
   "source": [
    "***I hver linje så skriver det ut et økende antall mellomrom og så stjerne. Det økende antallet følger mønsteret fra forrige oppgave, sånn at det først er en stjerne, så to, så tre. Dette blir dermed et trekanttall***"
   ]
  },
  {
   "cell_type": "markdown",
   "id": "dafbadb4-1bad-4cb0-84e8-09b69b39adcc",
   "metadata": {},
   "source": [
    "<div class=\"alert alert-block alert-info\">\n",
    "<b>Oppgave: </b> Kopier koden din til neste ledige celle og se om du kan endre den slik at den tegner figurene dine slik at de ligner eksempelet under. <b>Hint: </b> print(\" \"* <b>noe matematikk med n</b>,n*\" *\") </div>"
   ]
  },
  {
   "attachments": {
    "bae5fbe9-b54f-416c-babe-73a9857416f5.png": {
     "image/png": "[encoded data removed]"
    }
   },
   "cell_type": "markdown",
   "id": "d43ad931-e50c-4d1b-ae07-3afd330b5070",
   "metadata": {},
   "source": [
    "![image.png](attachment:bae5fbe9-b54f-416c-babe-73a9857416f5.png)"
   ]
  },
  {
   "cell_type": "code",
   "execution_count": 3,
   "id": "7447279e-652f-421f-97be-9806f80aecdb",
   "metadata": {},
   "outputs": [
    {
     "name": "stdin",
     "output_type": "stream",
     "text": [
      "hvor mange tall? 5\n"
     ]
    },
    {
     "name": "stdout",
     "output_type": "stream",
     "text": [
      "      *\n",
      "     * *\n",
      "    * * *\n",
      "   * * * *\n",
      "  * * * * *\n"
     ]
    }
   ],
   "source": [
    "antall=int(input(\"hvor mange tall?\"))\n",
    "\n",
    "for n in range(1,antall +1):\n",
    "    print(\" \"*(antall-n),n*\" *\") # dere ser at jeg først skriver ut noen mellomrom, og det gjør jeg antall-n ganger"
   ]
  },
  {
   "attachments": {
    "8b0ee093-3682-450e-ba4c-c40e6faa2d16.png": {
     "image/png": "[encoded data removed]"
    }
   },
   "cell_type": "markdown",
   "id": "414724cb-8d72-4b0d-a243-9f2dedca6a60",
   "metadata": {},
   "source": [
    "### Trekanttall - implisitt formel\n",
    "![image.png](attachment:8b0ee093-3682-450e-ba4c-c40e6faa2d16.png)\n",
    "\n",
    "<div class=\"alert alert-block alert-info\">\n",
    "<b>Oppgave: </b> Undersøk figuren og forklar hvordan verdien øker fra et trekanttall til neste. Med andre ord hva er sammenhengen mellom trekanttallene og de naturlige tallene? </div>"
   ]
  },
  {
   "cell_type": "markdown",
   "id": "0fe91f0f-20b8-4eca-b507-0d21fde374f4",
   "metadata": {},
   "source": [
    "***Trekanttallene er som å summere de naturlige tallene***"
   ]
  },
  {
   "cell_type": "markdown",
   "id": "67c8f83f-7f94-4b3e-87c8-c915dc854e42",
   "metadata": {},
   "source": [
    "<div class=\"alert alert-block alert-info\">\n",
    "<b>Oppgave: </b> Vi gjør noen få forandringer på det første programmet slik at vi kan regne ut trekanttall ved hjelp av sammenhengen mellom trekanttallene og de naturlige tallene som du har funnet. Jeg har begynt, du må fullføre. </div>"
   ]
  },
  {
   "cell_type": "code",
   "execution_count": 4,
   "id": "d76b3e8c-d080-4572-8442-9fc3c8805296",
   "metadata": {},
   "outputs": [
    {
     "name": "stdin",
     "output_type": "stream",
     "text": [
      "hvor mange tall? 5\n"
     ]
    },
    {
     "name": "stdout",
     "output_type": "stream",
     "text": [
      "1\n",
      "3\n",
      "6\n",
      "10\n",
      "15\n"
     ]
    }
   ],
   "source": [
    "antall=int(input(\"hvor mange tall?\"))\n",
    "\n",
    "Trekant=0 #setter verdien av trekanttall lik null før vi starer å bygge opp\n",
    "\n",
    "for n in range(1,antall +1):\n",
    "    Trekant= Trekant + n #Her må DU skrive en formel som bygger opp et og et trekanttall\n",
    "    print(Trekant)"
   ]
  },
  {
   "cell_type": "markdown",
   "id": "871c4af9-f85e-4bf7-b78e-ba42739f37b0",
   "metadata": {},
   "source": [
    "<div class=\"alert alert-block alert-info\">\n",
    "<b>Oppgave: </b> Når du har fått koden over til å fungere, kopier den til neste ledig celle og gjør en liten forandring slik at kun det siste tallet som regnes ut blir skrevet til skjerm.  </div>"
   ]
  },
  {
   "cell_type": "code",
   "execution_count": 5,
   "id": "f63766e0-2a3e-4d7c-934b-0ab7ea0f120f",
   "metadata": {},
   "outputs": [
    {
     "name": "stdin",
     "output_type": "stream",
     "text": [
      "hvor mange tall? 5\n"
     ]
    },
    {
     "name": "stdout",
     "output_type": "stream",
     "text": [
      "15\n"
     ]
    }
   ],
   "source": [
    "antall=int(input(\"hvor mange tall?\"))\n",
    "\n",
    "Trekant=0 #setter verdien av trekanttall lik null før vi starer å bygge opp\n",
    "\n",
    "for n in range(1,antall +1):\n",
    "    Trekant= Trekant + n #Her må DU skrive en formel som bygger opp et og et trekanttall\n",
    "print(Trekant)"
   ]
  },
  {
   "cell_type": "markdown",
   "id": "095b12f9-84d4-4806-981e-d70796b1fd10",
   "metadata": {},
   "source": [
    "### Trekanttall - eksplisitt formel\n",
    "\n",
    "Formelen for det n'te trekanttallet er gitt ved \n",
    "\n",
    "$T_n=\\frac{n \\cdot(n+1)}{2}$ \n",
    "\n",
    "Les eksempel 30 side 88 for utledning og forklaring."
   ]
  },
  {
   "cell_type": "markdown",
   "id": "e322a132-e8c8-4df5-8cbd-08f56cebd5b7",
   "metadata": {},
   "source": [
    "<div class=\"alert alert-block alert-info\">\n",
    "<b>Oppgave: </b> Bruk formelen over til å skrive ferdig programmet nedenfor slik at ber om input fra bruker om hvilket trekanttall som ønskes og så skriver ut dette uten bruk av løkker. </div>"
   ]
  },
  {
   "cell_type": "code",
   "execution_count": 7,
   "id": "d86ba3db-aed0-4216-8858-a513c2fae78c",
   "metadata": {},
   "outputs": [
    {
     "name": "stdin",
     "output_type": "stream",
     "text": [
      "Hvilket trekanttall skal beregnes? 5\n"
     ]
    },
    {
     "name": "stdout",
     "output_type": "stream",
     "text": [
      "15.0\n"
     ]
    }
   ],
   "source": [
    "nummer=int(input(\"Hvilket trekanttall skal beregnes?\"))\n",
    "trekanttall=nummer*(nummer+1)/2 #fiks programmet her\n",
    "print(trekanttall)"
   ]
  },
  {
   "cell_type": "markdown",
   "id": "3daa9281-0b75-48db-b594-012cd96fc1c5",
   "metadata": {},
   "source": [
    "### Oppgaver fra boken\n",
    "Eksempel 31 side 90"
   ]
  },
  {
   "cell_type": "code",
   "execution_count": 9,
   "id": "4f9138a1-d61a-479d-9dbb-06eb5126de11",
   "metadata": {},
   "outputs": [
    {
     "name": "stdin",
     "output_type": "stream",
     "text": [
      "Hvor mange trekanttall skal summeres?  5\n"
     ]
    },
    {
     "name": "stdout",
     "output_type": "stream",
     "text": [
      "Summen av de 5 første trekanttallene er: 35.0\n"
     ]
    }
   ],
   "source": [
    "a = int(input(\"Hvor mange trekanttall skal summeres? \")) #Sett inn forklaringer slik\n",
    "sum = 0 # definerer en variabel der vi summerer\n",
    "\n",
    "for n in range(1, a + 1): # en løkke som forteller at vi skal gjøre det a ganger (fra linje 1)\n",
    "    trekanttall = n*(n + 1)/2 # regner ut verdien av hvert trekanttall\n",
    "    sum = sum + trekanttall # legger til verdien av trekanttallet til summen\n",
    "\n",
    "print(\"Summen av de\", a, \"første trekanttallene er:\", sum)"
   ]
  },
  {
   "cell_type": "markdown",
   "id": "64260afd-eab5-4393-92cc-9e2888688f01",
   "metadata": {},
   "source": [
    "<div class=\"alert alert-block alert-info\">\n",
    "<b>Oppgave: </b> Les forklaringen til dette programmet på side 90 i boken. Bruk #-tegnet og skriv rett forklaring til rett linje i programmet over. </div>"
   ]
  },
  {
   "cell_type": "markdown",
   "id": "2a6a19fa-ac8c-454a-a253-9c93eea273e6",
   "metadata": {},
   "source": [
    "<div class=\"alert alert-block alert-info\">\n",
    "<b>Oppgave: </b> Bruk forrige program som inspirasjon og gjør oppgave 2.98 fra boken "
   ]
  },
  {
   "attachments": {
    "29a0eb77-fb8f-437c-bf2d-ba04095736ca.png": {
     "image/png": "[encoded data removed]"
    }
   },
   "cell_type": "markdown",
   "id": "cbf1d4a2-5998-4ddc-8970-af4f5ef96243",
   "metadata": {},
   "source": [
    "![image.png](attachment:29a0eb77-fb8f-437c-bf2d-ba04095736ca.png)"
   ]
  },
  {
   "cell_type": "code",
   "execution_count": 10,
   "id": "2aaaa8c0-b96f-49c3-b324-bfdab2d53bce",
   "metadata": {},
   "outputs": [
    {
     "name": "stdin",
     "output_type": "stream",
     "text": [
      "Hvor mange oddetall skal summeres?  5\n"
     ]
    },
    {
     "name": "stdout",
     "output_type": "stream",
     "text": [
      "Summen av de 5 første oddetallene er: 25\n"
     ]
    }
   ],
   "source": [
    "a = int(input(\"Hvor mange oddetall skal summeres? \"))\n",
    "sum = 0\n",
    "\n",
    "for n in range(1, a+1):\n",
    "    oddetall = 2*n - 1\n",
    "    sum = sum + oddetall\n",
    "    \n",
    "print(\"Summen av de\",a,\"første oddetallene er:\",sum)"
   ]
  },
  {
   "cell_type": "markdown",
   "id": "75a67bee-eec8-4d4c-ada3-5b5f92690c0c",
   "metadata": {},
   "source": [
    "<div class=\"alert alert-block alert-info\"><b>Hint: </b> Kanskje kan du få hjelp om du kikker i kapitteltesten bakerst i kapittel 2? </div>"
   ]
  },
  {
   "cell_type": "markdown",
   "id": "afc65a98-64d9-4528-95d8-6522647bc54d",
   "metadata": {},
   "source": [
    "#### Eksempel 32 side 90\n"
   ]
  },
  {
   "cell_type": "code",
   "execution_count": 12,
   "id": "dc7ef76e-9f57-408c-97d3-8cf2681e33f0",
   "metadata": {},
   "outputs": [
    {
     "name": "stdin",
     "output_type": "stream",
     "text": [
      "Skriv inn et heltall:  21\n"
     ]
    },
    {
     "name": "stdout",
     "output_type": "stream",
     "text": [
      "21 er trekanttall nr 6\n"
     ]
    }
   ],
   "source": [
    "tall = int(input(\"Skriv inn et heltall: \")) # vi ber brukeren om å skrive inn et heltall, og gjør det om til heltall i Python\n",
    "trekanttall = False # definerer først at trekanttall er usann\n",
    "\n",
    "for n in range(1, tall + 1): #lager en løkke med bestemt antall runder\n",
    "    if tall == n*(n + 1)/2: # tester om tallet bruker har satt inn er identisk lik trekanttall nummer n\n",
    "        print(tall, \"er trekanttall nr\", n) # hvis betingelsen er identisk, så skrives denne setningen ut\n",
    "        trekanttall = True # her endres verdien av trekanttall til sann\n",
    "        break # og man går ut av for-løkken\n",
    "if trekanttall == False: # her spør man om den booleanske verdien av trekanttall er sann eller falsk\n",
    "    print(\"Tallet er ikke et trekanttall.\") #skriver ut hvis usann"
   ]
  },
  {
   "cell_type": "markdown",
   "id": "63ef28c2-d9aa-4b9a-a51b-2006fc864e11",
   "metadata": {},
   "source": [
    "<div class=\"alert alert-block alert-info\">\n",
    "<b>Oppgave: </b> Les forklaringen til dette programmet på side 91 i boken. Bruk #-tegnet og skriv rett forklaring til rett linje i programmet over. </div>"
   ]
  },
  {
   "cell_type": "markdown",
   "id": "459cab96-906b-4bfc-abb2-451980966abd",
   "metadata": {},
   "source": [
    "<div class=\"alert alert-block alert-info\">\n",
    "<b>Oppgave: </b> Bruk forrige program som inspirasjon og gjør oppgave 2.99 fra boken. "
   ]
  },
  {
   "attachments": {
    "35129666-c427-4299-bbf6-d9452ef2c3f5.png": {
     "image/png": "[encoded data removed]"
    }
   },
   "cell_type": "markdown",
   "id": "12e7e0a4-039d-4643-9ed5-761e31d11307",
   "metadata": {},
   "source": [
    "![image.png](attachment:35129666-c427-4299-bbf6-d9452ef2c3f5.png)"
   ]
  },
  {
   "cell_type": "code",
   "execution_count": 15,
   "id": "adac903a-98f1-4a2e-be7d-bc9aaf4b2275",
   "metadata": {},
   "outputs": [
    {
     "name": "stdin",
     "output_type": "stream",
     "text": [
      "Skriv inn et tall som du vil teste om det er et kvadrattall:  121\n"
     ]
    },
    {
     "name": "stdout",
     "output_type": "stream",
     "text": [
      "121 er kvadrattall nr 11\n"
     ]
    }
   ],
   "source": [
    "tall = int(input(\"Skriv inn et tall som du vil teste om det er et kvadrattall: \"))\n",
    "kvadrattall = False\n",
    "\n",
    "for n in range(1, tall + 1):\n",
    "    if tall ==n**2:\n",
    "        print(tall, \"er kvadrattall nr\", n)\n",
    "        kvadrattall = True\n",
    "        break\n",
    "if kvadrattall == False:\n",
    "    print(tall,\"er ikke et kvadrattall.\")"
   ]
  },
  {
   "cell_type": "markdown",
   "id": "5fc85e86-e063-4b46-8c63-7d98be01d491",
   "metadata": {},
   "source": [
    "<div class=\"alert alert-block alert-info\">\n",
    "<b>Hint: </b> tall==n**2 </div>"
   ]
  },
  {
   "cell_type": "markdown",
   "id": "4e54b442-18f6-4b01-9434-d77b6ae01528",
   "metadata": {},
   "source": [
    "#### Fortsatt ikke fornøyd?\n",
    "Se oppgave 2.139 side 97 eller leit etter programmeringsoppgaver i kapittel 1"
   ]
  },
  {
   "cell_type": "code",
   "execution_count": 20,
   "id": "b950bfdb-96d4-48ea-af43-9c81005cf61f",
   "metadata": {},
   "outputs": [
    {
     "name": "stdin",
     "output_type": "stream",
     "text": [
      "Skriv inn et heltall:  123\n"
     ]
    },
    {
     "name": "stdout",
     "output_type": "stream",
     "text": [
      "123 er delelig med 3, og 123/3 blir 41\n"
     ]
    }
   ],
   "source": [
    "a = int(input(\"Skriv inn et heltall: \"))\n",
    "\n",
    "if a % 3 != 0:\n",
    "    print(a, \"er ikke delelig med 3.\")\n",
    "else:\n",
    "    d = a/3\n",
    "    print(a, \"er delelig med 3, og \"+str(a)+\"/3 blir\", int(d))"
   ]
  },
  {
   "cell_type": "code",
   "execution_count": null,
   "id": "4ce28541-9f78-485e-a509-ef4a1b39d3b6",
   "metadata": {},
   "outputs": [],
   "source": []
  }
 ],
 "metadata": {
  "kernelspec": {
   "display_name": "Python 3",
   "language": "python",
   "name": "python3"
  },
  "language_info": {
   "codemirror_mode": {
    "name": "ipython",
    "version": 3
   },
   "file_extension": ".py",
   "mimetype": "text/x-python",
   "name": "python",
   "nbconvert_exporter": "python",
   "pygments_lexer": "ipython3",
   "version": "3.8.11"
  }
 },
 "nbformat": 4,
 "nbformat_minor": 5
}
