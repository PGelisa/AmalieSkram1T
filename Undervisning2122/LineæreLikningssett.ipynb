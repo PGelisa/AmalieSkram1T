{
 "cells": [
  {
   "cell_type": "markdown",
   "id": "dcef0036-2031-47b9-a823-fb4258221d62",
   "metadata": {},
   "source": [
    "## Lage program for å løse lineære likningssett\n"
   ]
  },
  {
   "cell_type": "markdown",
   "id": "b211d0bf-33c8-4a10-9c9a-2d963d7701d7",
   "metadata": {},
   "source": [
    "Likningssettet\n",
    "$$\\begin{align}\n",
    "ax + by &= c\\\\\n",
    "dx + ey &= f\n",
    "\\end{align}$$"
   ]
  },
  {
   "cell_type": "markdown",
   "id": "461913b6-cc93-47c2-859d-b9d415302f7d",
   "metadata": {},
   "source": [
    "$$x = \\dfrac{c-by}{a}$$"
   ]
  },
  {
   "cell_type": "markdown",
   "id": "1b57c63f-7170-43b0-8a99-41f2d5d83057",
   "metadata": {},
   "source": [
    "$$y=\\dfrac{f-\\dfrac{cd}{a}}{e-\\dfrac{bd}{a}}=\\dfrac{af-cd}{ae-bd}$$"
   ]
  },
  {
   "cell_type": "code",
   "execution_count": 5,
   "id": "d68b6a27-97e4-4614-9941-b7180a85fec2",
   "metadata": {},
   "outputs": [
    {
     "name": "stdout",
     "output_type": "stream",
     "text": [
      "Løsningen på likningssettet er at x=2.0 og y=9.0\n"
     ]
    }
   ],
   "source": [
    "a=1/4\n",
    "b=2/3\n",
    "c=13/2\n",
    "d=1/2\n",
    "e=-1/6\n",
    "f=-1/2\n",
    "\n",
    "y=(a*f-c*d)/(a*e-b*d)\n",
    "x=(c-b*y)/a\n",
    "print(f'Løsningen på likningssettet er at x={x} og y={y}')"
   ]
  },
  {
   "cell_type": "code",
   "execution_count": null,
   "id": "cb17d760-c400-4c2b-9858-23c0732a0263",
   "metadata": {},
   "outputs": [],
   "source": []
  }
 ],
 "metadata": {
  "kernelspec": {
   "display_name": "Python 3 (ipykernel)",
   "language": "python",
   "name": "python3"
  },
  "language_info": {
   "codemirror_mode": {
    "name": "ipython",
    "version": 3
   },
   "file_extension": ".py",
   "mimetype": "text/x-python",
   "name": "python",
   "nbconvert_exporter": "python",
   "pygments_lexer": "ipython3",
   "version": "3.9.7"
  }
 },
 "nbformat": 4,
 "nbformat_minor": 5
}
