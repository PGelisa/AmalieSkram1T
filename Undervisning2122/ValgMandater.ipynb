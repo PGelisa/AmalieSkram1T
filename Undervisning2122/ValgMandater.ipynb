{
 "cells": [
  {
   "cell_type": "code",
   "execution_count": 1,
   "id": "e1522540-0f18-46ec-920f-b8c1860df068",
   "metadata": {},
   "outputs": [],
   "source": [
    "def sainteLague(opprinneligeStemmer, antall):\n",
    "    # Hentet fra https://erik.boge.priv.no/matematikk/sainte-lagues-algoritme-i-python\n",
    "    # Liste med antallet representanter\n",
    "    resultat = [0] * len(opprinneligeStemmer)\n",
    "    # Stemmetallet for de første blir justert med 1.4 for å gi\n",
    "    # St. Laguës modifiserte metode\n",
    "    justerteStemmer = [i / 1.4 for i in opprinneligeStemmer]\n",
    "\n",
    "    i = 0\n",
    "    while i < antall: \n",
    "        # Posisjonen til listen som har flest stemmer.\n",
    "        p = justerteStemmer.index(max(justerteStemmer))\n",
    "        # De får tildelt en representant.\n",
    "        resultat[p] = resultat[p] + 1\n",
    "        # Stemmetallet blir justert videre\n",
    "        justerteStemmer[p] = opprinneligeStemmer[p] / (resultat[p] * 2 + 1)\n",
    "\n",
    "        i += 1\n",
    "    return resultat"
   ]
  },
  {
   "cell_type": "code",
   "execution_count": 4,
   "id": "88876167-2662-43c5-8b14-6ccb0cff8229",
   "metadata": {},
   "outputs": [],
   "source": [
    "\"\"\"\n",
    "# Her er tallene for Hordaland i 2017\n",
    "R = 6402\n",
    "SV = 20958\n",
    "Ap = 68195\n",
    "Sp = 22594\n",
    "MDG = 10476\n",
    "V = 13027\n",
    "KrF = 16513\n",
    "H = 90733\n",
    "FrP = 45060\n",
    "ord_mandat = 16\n",
    "\"\"\"\n",
    "\n",
    "\"\"\"\n",
    "# Tall for hele landet fra 2017\n",
    "R = 70522\n",
    "SV = 176222\n",
    "Ap = 800947\n",
    "Sp = 302017\n",
    "MDG = 94788\n",
    "V = 127910\n",
    "KrF = 122797\n",
    "H = 732895\n",
    "FrP = 444681\n",
    "ord_mandat = 150\n",
    "\"\"\"\n",
    "\n",
    "\"\"\"\n",
    "# Tall for hele landet 1989\n",
    "R = 0\n",
    "SV = 266782\n",
    "Ap = 907393\n",
    "Sp = 171269\n",
    "MDG = 10136\n",
    "V = 84740\n",
    "KrF = 224852\n",
    "H = 588682\n",
    "FrP = 345185\n",
    "ord_mandat = 157\n",
    "\"\"\"\n",
    "\n",
    "# Tallene for Amalie Skram 2021\n",
    "R = 44\n",
    "SV = 189\n",
    "Ap = 130\n",
    "Sp = 22\n",
    "MDG = 62\n",
    "V = 110\n",
    "KrF = 9\n",
    "H = 130\n",
    "FrP = 38\n",
    "PiP = 18\n",
    "PS = 4\n",
    "FNB = 2\n",
    "PP = 2\n",
    "HP = 1\n",
    "Lib = 1\n",
    "NKP = 1\n",
    "PDK = 1\n",
    "Alliansen = 29\n",
    "ord_mandat = 157\n"
   ]
  },
  {
   "cell_type": "code",
   "execution_count": 5,
   "id": "76739c7d-62f2-497b-9877-3e32bb4e39ba",
   "metadata": {},
   "outputs": [],
   "source": [
    "opprinneligeStemmer = [R,SV,Ap,Sp,MDG,V,KrF,H,FrP,PiP,PS,FNB,PP,HP,Lib,NKP,PDK,Alliansen]\n",
    "\n",
    "res=sainteLague(opprinneligeStemmer,ord_mandat)"
   ]
  },
  {
   "cell_type": "code",
   "execution_count": 6,
   "id": "cab97dc5-ea4d-4a07-8b7f-0d5f3468817f",
   "metadata": {},
   "outputs": [
    {
     "name": "stdout",
     "output_type": "stream",
     "text": [
      "[9, 37, 26, 4, 12, 22, 2, 26, 8, 4, 1, 0, 0, 0, 0, 0, 0, 6]\n"
     ]
    }
   ],
   "source": [
    "print(res)"
   ]
  },
  {
   "cell_type": "code",
   "execution_count": 8,
   "id": "da73541e-3a57-4a0c-8839-b76af4fec9fd",
   "metadata": {},
   "outputs": [
    {
     "name": "stdout",
     "output_type": "stream",
     "text": [
      "Dette gir 67 mandater til SV+Ap+Sp\n",
      "og 50 mandater til sittende regjering\n"
     ]
    }
   ],
   "source": [
    "print(f\"Dette gir {res[1]+res[2]+res[3]} mandater til SV+Ap+Sp\")\n",
    "print(f\"og {res[5]+res[6]+res[7]} mandater til sittende regjering\")"
   ]
  },
  {
   "cell_type": "code",
   "execution_count": 39,
   "id": "aef6367d-05fb-4794-a57f-60b1fe2a04ee",
   "metadata": {},
   "outputs": [
    {
     "data": {
      "text/html": [
       "<div>\n",
       "<style scoped>\n",
       "    .dataframe tbody tr th:only-of-type {\n",
       "        vertical-align: middle;\n",
       "    }\n",
       "\n",
       "    .dataframe tbody tr th {\n",
       "        vertical-align: top;\n",
       "    }\n",
       "\n",
       "    .dataframe thead th {\n",
       "        text-align: right;\n",
       "    }\n",
       "</style>\n",
       "<table border=\"1\" class=\"dataframe\">\n",
       "  <thead>\n",
       "    <tr style=\"text-align: right;\">\n",
       "      <th></th>\n",
       "      <th>Mandater</th>\n",
       "    </tr>\n",
       "  </thead>\n",
       "  <tbody>\n",
       "    <tr>\n",
       "      <th>R</th>\n",
       "      <td>9</td>\n",
       "    </tr>\n",
       "    <tr>\n",
       "      <th>SV</th>\n",
       "      <td>37</td>\n",
       "    </tr>\n",
       "    <tr>\n",
       "      <th>Ap</th>\n",
       "      <td>26</td>\n",
       "    </tr>\n",
       "    <tr>\n",
       "      <th>Sp</th>\n",
       "      <td>4</td>\n",
       "    </tr>\n",
       "    <tr>\n",
       "      <th>MDG</th>\n",
       "      <td>12</td>\n",
       "    </tr>\n",
       "    <tr>\n",
       "      <th>V</th>\n",
       "      <td>22</td>\n",
       "    </tr>\n",
       "    <tr>\n",
       "      <th>KrF</th>\n",
       "      <td>2</td>\n",
       "    </tr>\n",
       "    <tr>\n",
       "      <th>H</th>\n",
       "      <td>26</td>\n",
       "    </tr>\n",
       "    <tr>\n",
       "      <th>FrP</th>\n",
       "      <td>8</td>\n",
       "    </tr>\n",
       "    <tr>\n",
       "      <th>PiP</th>\n",
       "      <td>4</td>\n",
       "    </tr>\n",
       "    <tr>\n",
       "      <th>PS</th>\n",
       "      <td>1</td>\n",
       "    </tr>\n",
       "    <tr>\n",
       "      <th>FNB</th>\n",
       "      <td>0</td>\n",
       "    </tr>\n",
       "    <tr>\n",
       "      <th>PP</th>\n",
       "      <td>0</td>\n",
       "    </tr>\n",
       "    <tr>\n",
       "      <th>HP</th>\n",
       "      <td>0</td>\n",
       "    </tr>\n",
       "    <tr>\n",
       "      <th>Lib</th>\n",
       "      <td>0</td>\n",
       "    </tr>\n",
       "    <tr>\n",
       "      <th>NKP</th>\n",
       "      <td>0</td>\n",
       "    </tr>\n",
       "    <tr>\n",
       "      <th>PDK</th>\n",
       "      <td>0</td>\n",
       "    </tr>\n",
       "    <tr>\n",
       "      <th>Alliansen</th>\n",
       "      <td>6</td>\n",
       "    </tr>\n",
       "  </tbody>\n",
       "</table>\n",
       "</div>"
      ],
      "text/plain": [
       "           Mandater\n",
       "R                 9\n",
       "SV               37\n",
       "Ap               26\n",
       "Sp                4\n",
       "MDG              12\n",
       "V                22\n",
       "KrF               2\n",
       "H                26\n",
       "FrP               8\n",
       "PiP               4\n",
       "PS                1\n",
       "FNB               0\n",
       "PP                0\n",
       "HP                0\n",
       "Lib               0\n",
       "NKP               0\n",
       "PDK               0\n",
       "Alliansen         6"
      ]
     },
     "execution_count": 39,
     "metadata": {},
     "output_type": "execute_result"
    }
   ],
   "source": [
    "import pandas as pd\n",
    "import matplotlib.pyplot as plt\n",
    "import numpy as np\n",
    "%matplotlib inline\n",
    "df = pd.DataFrame([{'R':R,'SV':SV,'Ap':Ap,'Sp':Sp,'MDG':MDG,'V':V,'KrF':KrF,'H':H,'FrP':FrP,'PiP':PiP,'PS':PS,'FNB':FNB,'PP':PP,'HP':HP,'Lib':Lib,'NKP':NKP,'PDK':PDK,'Alliansen':Alliansen}])\n",
    "df\n",
    "mandater = pd.DataFrame(res,columns=['Mandater'],index=['R','SV','Ap','Sp','MDG','V','KrF','H','FrP','PiP','PS','FNB','PP','HP','Lib','NKP','PDK','Alliansen'])\n",
    "mandater"
   ]
  },
  {
   "cell_type": "code",
   "execution_count": 45,
   "id": "d3f5f968-758a-49e4-adff-1096f5606586",
   "metadata": {},
   "outputs": [
    {
     "data": {
      "text/plain": [
       "<AxesSubplot:xlabel='Partier'>"
      ]
     },
     "execution_count": 45,
     "metadata": {},
     "output_type": "execute_result"
    },
    {
     "data": {
      "image/png": "[encoded data removed]",
      "text/plain": [
       "<Figure size 432x288 with 1 Axes>"
      ]
     },
     "metadata": {
      "needs_background": "light"
     },
     "output_type": "display_data"
    }
   ],
   "source": [
    "mandater.plot(kind=\"bar\",xlabel=\"Partier\",colormap='winter')"
   ]
  },
  {
   "cell_type": "code",
   "execution_count": null,
   "id": "ac493590-9953-4627-910f-43256f003871",
   "metadata": {},
   "outputs": [],
   "source": []
  }
 ],
 "metadata": {
  "kernelspec": {
   "display_name": "Python 3",
   "language": "python",
   "name": "python3"
  },
  "language_info": {
   "codemirror_mode": {
    "name": "ipython",
    "version": 3
   },
   "file_extension": ".py",
   "mimetype": "text/x-python",
   "name": "python",
   "nbconvert_exporter": "python",
   "pygments_lexer": "ipython3",
   "version": "3.8.8"
  }
 },
 "nbformat": 4,
 "nbformat_minor": 5
}
