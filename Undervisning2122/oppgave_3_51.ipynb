{
 "cells": [
  {
   "cell_type": "markdown",
   "id": "1e3da7a5-6c0a-4290-a6f2-0e5641a1baf4",
   "metadata": {},
   "source": [
    "## Programmering av andregradsformelen\n",
    "Programmet kan brukes til å løse andregradslikninger på formen $a x^2 + b x + c = 0$ ved abc-formelen"
   ]
  },
  {
   "cell_type": "markdown",
   "id": "3f9c7497-d267-4ce7-a517-6b64c6fc37cd",
   "metadata": {},
   "source": [
    "#### Oppgave 3.51 a\n",
    "Kjør programmet under for å løse likningen $x^2 + 7x + 12 = 0$. Stemmer løsningene med det du kan fra før?"
   ]
  },
  {
   "cell_type": "code",
   "execution_count": 2,
   "id": "f5e3ffb6-b9a6-4c75-b228-4cb312f6463d",
   "metadata": {},
   "outputs": [
    {
     "name": "stdin",
     "output_type": "stream",
     "text": [
      "a =  1\n",
      "b =  7\n",
      "c =  12\n"
     ]
    },
    {
     "name": "stdout",
     "output_type": "stream",
     "text": [
      "Løsningen på andregradslikningen er: \n",
      "x1 = -3.0 og x2 = -4.0\n"
     ]
    }
   ],
   "source": [
    "import numpy as np\n",
    "a = float(input(\"a = \"))\n",
    "b = float(input(\"b = \"))\n",
    "c = float(input(\"c = \"))\n",
    "\n",
    "d = b**2 - 4*a*c\n",
    "\n",
    "x1 = (-b + np.sqrt(d))/(2*a)\n",
    "x2 = (-b - np.sqrt(d))/(2*a)\n",
    "\n",
    "print(\"Løsningen på andregradslikningen er: \")\n",
    "print(f\"x1 = {x1} og x2 = {x2}\")"
   ]
  },
  {
   "cell_type": "markdown",
   "id": "a411fbc2-c967-40b8-a4f2-f1ed0a292351",
   "metadata": {},
   "source": [
    "#### Oppgave 3.51 b\n",
    "Kjør programmet og legg inn a, b og c til likningen $x^2 - 6x + 9 =0$. Stemmer løsningen med det du forventet?"
   ]
  },
  {
   "cell_type": "code",
   "execution_count": 4,
   "id": "4a68b5f5-6620-4c2c-b05e-66ceef491473",
   "metadata": {},
   "outputs": [],
   "source": [
    "# kopier koden fra boksen over, og endre denne sånn at den bare skriver \n",
    "# ut en løsning hvis det to like løsninger"
   ]
  },
  {
   "cell_type": "markdown",
   "id": "79ff14ee-b3ec-41e6-b1da-c5de0da1c258",
   "metadata": {},
   "source": [
    "#### Oppgave 3.51 c\n",
    "Kjør programmet og legg inn a, b og c til likningen $2x^2+3x+4=0$. Fungerer programmet?\n",
    "\n",
    "Endre programmet sånn at vi ikke får feilmeldinger i sånne tilfeller der vi ikke skal ha løsning på likningen. "
   ]
  },
  {
   "cell_type": "code",
   "execution_count": 5,
   "id": "fc2bdb4b-0de3-4801-a987-d48e06a09172",
   "metadata": {},
   "outputs": [],
   "source": [
    "# skriv koden din inn under her"
   ]
  },
  {
   "cell_type": "markdown",
   "id": "41d9c8b6-e5e6-412a-8fd3-ffa19eeca3d2",
   "metadata": {},
   "source": [
    "#### Oppgave 3.51 d\n",
    "Endre programmet ditt sånn at det skriver ut svaret med bare to desimaler"
   ]
  },
  {
   "cell_type": "code",
   "execution_count": null,
   "id": "a7de6ea6-431a-44cc-9cdd-7a1c648da7d7",
   "metadata": {},
   "outputs": [],
   "source": [
    "# skriv koden din under her"
   ]
  }
 ],
 "metadata": {
  "kernelspec": {
   "display_name": "Python 3",
   "language": "python",
   "name": "python3"
  },
  "language_info": {
   "codemirror_mode": {
    "name": "ipython",
    "version": 3
   },
   "file_extension": ".py",
   "mimetype": "text/x-python",
   "name": "python",
   "nbconvert_exporter": "python",
   "pygments_lexer": "ipython3",
   "version": "3.8.11"
  }
 },
 "nbformat": 4,
 "nbformat_minor": 5
}
