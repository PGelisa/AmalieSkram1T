{
 "cells": [
  {
   "cell_type": "code",
   "execution_count": 13,
   "id": "99c9ec77-ddad-446b-b89a-2826dfda43d6",
   "metadata": {},
   "outputs": [
    {
     "name": "stdout",
     "output_type": "stream",
     "text": [
      "   2\n",
      "1 x - 5 x + 6\n"
     ]
    }
   ],
   "source": [
    "import numpy as np\n",
    "f=np.poly1d([1,-5,6])\n",
    "print(f)"
   ]
  },
  {
   "cell_type": "raw",
   "id": "8b569b00-1fe7-4081-8f49-c7a8ed115803",
   "metadata": {},
   "source": [
    "a=f.r\n",
    "print(a)"
   ]
  },
  {
   "cell_type": "code",
   "execution_count": 14,
   "id": "ee0f77a7-d2bc-447d-9bbc-ab28102a17fc",
   "metadata": {},
   "outputs": [
    {
     "data": {
      "text/plain": [
       "poly1d([ 1., -5.,  6.])"
      ]
     },
     "execution_count": 14,
     "metadata": {},
     "output_type": "execute_result"
    }
   ],
   "source": [
    "np.poly1d(a,True)"
   ]
  },
  {
   "cell_type": "code",
   "execution_count": 15,
   "id": "6dd9dcdc-7a11-4b07-82c3-c7587fa11238",
   "metadata": {},
   "outputs": [
    {
     "data": {
      "text/plain": [
       "array([ 1, -5,  6])"
      ]
     },
     "execution_count": 15,
     "metadata": {},
     "output_type": "execute_result"
    }
   ],
   "source": [
    "f.c"
   ]
  },
  {
   "cell_type": "code",
   "execution_count": 16,
   "id": "0fad2a7b-fb1a-41a8-990d-5fd6ff624898",
   "metadata": {},
   "outputs": [
    {
     "data": {
      "text/plain": [
       "2"
      ]
     },
     "execution_count": 16,
     "metadata": {},
     "output_type": "execute_result"
    }
   ],
   "source": [
    "f.order"
   ]
  },
  {
   "cell_type": "code",
   "execution_count": 17,
   "id": "e96913c9-7c0f-48fd-898c-35108fd4718e",
   "metadata": {},
   "outputs": [
    {
     "data": {
      "text/plain": [
       "-5"
      ]
     },
     "execution_count": 17,
     "metadata": {},
     "output_type": "execute_result"
    }
   ],
   "source": [
    "f[1]"
   ]
  },
  {
   "cell_type": "code",
   "execution_count": 18,
   "id": "116bf1da-c3ea-4f8f-a44e-46771f3ece07",
   "metadata": {},
   "outputs": [
    {
     "data": {
      "text/plain": [
       "poly1d([  1, -10,  37, -60,  36])"
      ]
     },
     "execution_count": 18,
     "metadata": {},
     "output_type": "execute_result"
    }
   ],
   "source": [
    "f*f"
   ]
  },
  {
   "cell_type": "code",
   "execution_count": 21,
   "id": "80ba7e0f-29f7-4b3e-a385-0d34b751017c",
   "metadata": {},
   "outputs": [
    {
     "data": {
      "text/plain": [
       "array([3.+3.15149730e-07j, 3.-3.15149730e-07j, 2.+2.40875514e-07j,\n",
       "       2.-2.40875514e-07j])"
      ]
     },
     "execution_count": 21,
     "metadata": {},
     "output_type": "execute_result"
    }
   ],
   "source": [
    "(f*f).r"
   ]
  },
  {
   "cell_type": "code",
   "execution_count": 20,
   "id": "ef47ad85-bcf9-4c5f-bd67-a3dc5a071a53",
   "metadata": {},
   "outputs": [
    {
     "data": {
      "text/plain": [
       "array([3.+3.15149730e-07j, 3.-3.15149730e-07j, 2.+2.40875514e-07j,\n",
       "       2.-2.40875514e-07j])"
      ]
     },
     "execution_count": 20,
     "metadata": {},
     "output_type": "execute_result"
    }
   ],
   "source": [
    "b.r"
   ]
  },
  {
   "cell_type": "code",
   "execution_count": null,
   "id": "1ac15642-9da4-4e33-81db-4a1805f0eedf",
   "metadata": {},
   "outputs": [],
   "source": []
  }
 ],
 "metadata": {
  "kernelspec": {
   "display_name": "Python 3 (ipykernel)",
   "language": "python",
   "name": "python3"
  },
  "language_info": {
   "codemirror_mode": {
    "name": "ipython",
    "version": 3
   },
   "file_extension": ".py",
   "mimetype": "text/x-python",
   "name": "python",
   "nbconvert_exporter": "python",
   "pygments_lexer": "ipython3",
   "version": "3.9.7"
  }
 },
 "nbformat": 4,
 "nbformat_minor": 5
}
