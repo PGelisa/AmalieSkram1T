{
 "cells": [
  {
   "cell_type": "code",
   "execution_count": 2,
   "id": "d1389647-4971-4fb4-a131-451e61f3f81c",
   "metadata": {},
   "outputs": [
    {
     "name": "stdin",
     "output_type": "stream",
     "text": [
      "Skriv inn den korteste siden 5\n",
      "skriv inn den mellomste siden 12\n",
      "skriv inn den lengste siden 13\n"
     ]
    },
    {
     "name": "stdout",
     "output_type": "stream",
     "text": [
      "trekanten er rettvinklet\n"
     ]
    }
   ],
   "source": [
    "#Vi fikser programmet slik at det tar hensyn til avrundingsfeil.\n",
    "a=float(input('Skriv inn den korteste siden'))\n",
    "b=float(input('skriv inn den mellomste siden'))\n",
    "c=float(input('skriv inn den lengste siden'))\n",
    "if abs(c**2-(a**2+b**2))<0.0000001:\n",
    "    print('trekanten er rettvinklet')\n",
    "else:\n",
    "    print('trekanten er ikke rettvinklet')"
   ]
  },
  {
   "cell_type": "markdown",
   "id": "c63556eb-5c08-4c13-a682-02a9f0838e27",
   "metadata": {},
   "source": [
    "### Oppgaven inneholder kvadratrøtter:\n",
    "Da importerer vi numpy, og bruker ikke brukerinput"
   ]
  },
  {
   "cell_type": "code",
   "execution_count": 1,
   "id": "025f9a8d-cef5-48c4-a0c2-0344957e0b56",
   "metadata": {},
   "outputs": [
    {
     "name": "stdout",
     "output_type": "stream",
     "text": [
      "trekanten er rettvinklet\n"
     ]
    }
   ],
   "source": [
    "import numpy as np\n",
    "a = np.sqrt(6)   # skriver inn verdiene direkte\n",
    "b = np.sqrt(7)\n",
    "c = np.sqrt(13)\n",
    "\n",
    "#legger så inn løkken fra over\n",
    "if abs(c**2-(a**2+b**2))<0.0000001:\n",
    "    print('trekanten er rettvinklet')\n",
    "else:\n",
    "    print('trekanten er ikke rettvinklet')"
   ]
  },
  {
   "cell_type": "code",
   "execution_count": null,
   "id": "b424fdb7-f8f6-4771-86e4-fbdb4cb6a44a",
   "metadata": {},
   "outputs": [],
   "source": []
  }
 ],
 "metadata": {
  "kernelspec": {
   "display_name": "Python 3 (ipykernel)",
   "language": "python",
   "name": "python3"
  },
  "language_info": {
   "codemirror_mode": {
    "name": "ipython",
    "version": 3
   },
   "file_extension": ".py",
   "mimetype": "text/x-python",
   "name": "python",
   "nbconvert_exporter": "python",
   "pygments_lexer": "ipython3",
   "version": "3.9.7"
  }
 },
 "nbformat": 4,
 "nbformat_minor": 5
}
