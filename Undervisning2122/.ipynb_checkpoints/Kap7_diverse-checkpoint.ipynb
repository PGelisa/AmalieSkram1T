{
 "cells": [
  {
   "cell_type": "code",
   "execution_count": null,
   "id": "d1389647-4971-4fb4-a131-451e61f3f81c",
   "metadata": {},
   "outputs": [],
   "source": [
    "#Vi fikser programmet slik at det tar hensyn til avrundingsfeil.\n",
    "a=float(input('Skriv inn den korteste siden'))\n",
    "b=float(input('skriv inn den mellomste siden'))\n",
    "c=float(input('skriv inn den lengste siden'))\n",
    "if abs(c**2-(a**2+b**2))<0.0000001:\n",
    "    print('trekanten er rettvinklet')\n",
    "else:\n",
    "    print('trekanten er ikke rettvinklet')"
   ]
  }
 ],
 "metadata": {
  "kernelspec": {
   "display_name": "Python 3 (ipykernel)",
   "language": "python",
   "name": "python3"
  },
  "language_info": {
   "codemirror_mode": {
    "name": "ipython",
    "version": 3
   },
   "file_extension": ".py",
   "mimetype": "text/x-python",
   "name": "python",
   "nbconvert_exporter": "python",
   "pygments_lexer": "ipython3",
   "version": "3.9.7"
  }
 },
 "nbformat": 4,
 "nbformat_minor": 5
}
