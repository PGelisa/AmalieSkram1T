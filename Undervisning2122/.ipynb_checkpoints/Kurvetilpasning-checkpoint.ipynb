{
 "cells": [
  {
   "cell_type": "markdown",
   "id": "c91f977a-a225-4fc9-b868-f9a14a399c49",
   "metadata": {},
   "source": [
    "# Kurvetilpasning"
   ]
  },
  {
   "cell_type": "code",
   "execution_count": 2,
   "id": "fbfd7158-bb78-45c7-a86d-b2ee50e827ab",
   "metadata": {},
   "outputs": [
    {
     "name": "stdout",
     "output_type": "stream",
     "text": [
      "Funksjonen blir 42.09*0.75**x + 11.85\n",
      "R^2 er 0.9999097818602329\n",
      "Usikkerhetene i konstantene er [0.21075954 0.00293976 0.16679055]\n"
     ]
    },
    {
     "data": {
      "image/png": "[encoded data removed]",
      "text/plain": [
       "<Figure size 432x288 with 1 Axes>"
      ]
     },
     "metadata": {
      "needs_background": "light"
     },
     "output_type": "display_data"
    }
   ],
   "source": [
    "import numpy as np\n",
    "import matplotlib.pyplot as plt\n",
    "from scipy.optimize import curve_fit\n",
    "\n",
    "# legger inn datasettet\n",
    "x_data = [0, 2, 4, 6, 8, 10, 12]\n",
    "y_data = [54, 35, 25, 19, 16, 14, 13]\n",
    "\n",
    "#plotter datasettet som kryss i koordinatsystemet\n",
    "plt.plot(x_data, y_data, \"x\")\n",
    "\n",
    "\"\"\"\n",
    "definer funksjonstypen med riktig antall\n",
    "parametere\n",
    "\"\"\"\n",
    "def g(x,a,b,c):\n",
    "    return a*b**x + c\n",
    "\n",
    "L, V = curve_fit(g, x_data, y_data)\n",
    "\n",
    "a, b, c = L\n",
    "#Lager så et funksjonsuttrykk med koeffisientene\n",
    "print(f\"Funksjonen blir {a:.2f}*{b:.2f}**x + {c:.2f}\")\n",
    "\n",
    "\"\"\"\n",
    "Vi kan  regne ut R^2 som vi henter enkelt ut fra Geogebra ellers\n",
    "Her er det bare å lagre koden som kommer under, denne kan dere bruke\n",
    "hver gang bruker curve_fit\n",
    "\"\"\"\n",
    "residuals = y_data - g(x_data, *L)\n",
    "#print(residuals)\n",
    "ss_res = np.sum(residuals**2)\n",
    "#print(ss_res)\n",
    "ss_tot = np.sum((y_data-np.mean(y_data))**2)\n",
    "#print(ss_tot)\n",
    "r_squared = 1 - (ss_res/ss_tot)\n",
    "print(f\"R^2 er {r_squared}\")\n",
    "\"\"\"\n",
    "Vi kan bruke V til å regne ut usikkerheten i hver av konstantene. Det er ikke så \n",
    "nøye i år, men kan bli nøye senere år. Måten den regnes ut ser dere under.\n",
    "\"\"\"\n",
    "print(f\"Usikkerhetene i konstantene er {np.sqrt(np.diag(V))}\")\n",
    "\"\"\"\n",
    "lager en array med x-verdier som går litt utenfor x_data, \n",
    "og tilsvarende funksjonsverdier ved hjelp av parameterne i L \n",
    "og selve funksjonen\n",
    "\"\"\"\n",
    "x_verdi= np.linspace(-3,15,200)\n",
    "y_verdi=g(x_verdi, *L) \n",
    "\"\"\"\n",
    "* foran en liste betyr at den henter alle elementene \n",
    "i den listen og setter inn i funksjonen\n",
    "\"\"\"\n",
    "\n",
    "\n",
    "plt.plot(x_verdi, y_verdi, label=f'{a:.2f}*{b:.2f}^x + {c:.2f}, R^2 = {round(r_squared,4)}')\n",
    "plt.legend()\n",
    "plt.show()"
   ]
  },
  {
   "cell_type": "markdown",
   "id": "f78b308d-5d1f-4b0a-970c-e65a8998a6de",
   "metadata": {},
   "source": [
    "## Potensfunksjoner"
   ]
  },
  {
   "cell_type": "code",
   "execution_count": 3,
   "id": "b5efcb90-02be-423a-9af6-cd29bc7d389a",
   "metadata": {},
   "outputs": [
    {
     "name": "stdout",
     "output_type": "stream",
     "text": [
      "Usikkerhetene i konstantene er [2.47565799 0.14528615]\n"
     ]
    },
    {
     "data": {
      "image/png": "[encoded data removed]",
      "text/plain": [
       "<Figure size 432x288 with 1 Axes>"
      ]
     },
     "metadata": {
      "needs_background": "light"
     },
     "output_type": "display_data"
    }
   ],
   "source": [
    "import numpy as np\n",
    "import matplotlib.pyplot as plt\n",
    "from scipy.optimize import curve_fit\n",
    "\n",
    "# legger inn datasettet\n",
    "x_data = [4, 8, 12, 16, 20, 23]\n",
    "y_data = [386, 1016, 2275, 3816, 7510, 10100]\n",
    "\n",
    "#plotter datasettet som kryss i koordinatsystemet\n",
    "plt.plot(x_data, y_data, \"x\")\n",
    "\n",
    "\"\"\"\n",
    "definer funksjonstypen med riktig antall\n",
    "parametere\n",
    "\"\"\"\n",
    "def g(x,a,k):\n",
    "    return a*x**k\n",
    "\n",
    "L, V = curve_fit(g, x_data, y_data, method=\"trf\")\n",
    "\n",
    "a, k = L\n",
    "\n",
    "\n",
    "\"\"\"\n",
    "Vi kan  regne ut R^2 som vi henter enkelt ut fra Geogebra ellers\n",
    "Her er det bare å lagre koden som kommer under, denne kan dere bruke\n",
    "hver gang bruker curve_fit\n",
    "\"\"\"\n",
    "residuals = y_data - g(x_data, *L)\n",
    "ss_res = np.sum(residuals**2)\n",
    "ss_tot = np.sum((y_data-np.mean(y_data))**2)\n",
    "r_squared = 1 - (ss_res/ss_tot)\n",
    "\"\"\"\n",
    "Vi kan bruke V til å regne ut usikkerheten i hver av konstantene. Det er ikke så \n",
    "nøye i år, men kan bli nøye senere år. Måten den regnes ut ser dere under.\n",
    "\"\"\"\n",
    "print(f\"Usikkerhetene i konstantene er {np.sqrt(np.diag(V))}\")\n",
    "\"\"\"\n",
    "lager en array med x-verdier som går litt utenfor x_data, \n",
    "og tilsvarende funksjonsverdier ved hjelp av parameterne i L \n",
    "og selve funksjonen\n",
    "\"\"\"\n",
    "x_verdi= np.linspace(1,24,200)\n",
    "y_verdi=g(x_verdi, *L) \n",
    "\"\"\"\n",
    "* foran en liste betyr at den henter alle elementene \n",
    "i den listen og setter inn i funksjonen\n",
    "\"\"\"\n",
    "\n",
    "\n",
    "plt.plot(x_verdi, y_verdi, label=f'{a:.2f}*x^{k:.2f}, $R^2$ = {round(r_squared,4)}')\n",
    "plt.legend()\n",
    "plt.show()"
   ]
  },
  {
   "cell_type": "code",
   "execution_count": null,
   "id": "75d27409-54b5-4394-b3c6-be6625694904",
   "metadata": {},
   "outputs": [],
   "source": []
  }
 ],
 "metadata": {
  "kernelspec": {
   "display_name": "Python 3 (ipykernel)",
   "language": "python",
   "name": "python3"
  },
  "language_info": {
   "codemirror_mode": {
    "name": "ipython",
    "version": 3
   },
   "file_extension": ".py",
   "mimetype": "text/x-python",
   "name": "python",
   "nbconvert_exporter": "python",
   "pygments_lexer": "ipython3",
   "version": "3.9.7"
  }
 },
 "nbformat": 4,
 "nbformat_minor": 5
}
