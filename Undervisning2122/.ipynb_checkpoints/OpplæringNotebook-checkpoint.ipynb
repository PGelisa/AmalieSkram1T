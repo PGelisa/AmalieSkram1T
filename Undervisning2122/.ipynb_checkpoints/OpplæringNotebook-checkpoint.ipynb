{
 "cells": [
  {
   "cell_type": "code",
   "execution_count": 2,
   "id": "9a6e66bd-1da7-46a0-9b84-857c0404f818",
   "metadata": {},
   "outputs": [
    {
     "name": "stdout",
     "output_type": "stream",
     "text": [
      "5050\n"
     ]
    }
   ],
   "source": [
    "tall = 0\n",
    "for i in range(1,101,1):\n",
    "    tall = tall + i\n",
    "print(tall)"
   ]
  },
  {
   "cell_type": "code",
   "execution_count": 3,
   "id": "0c92d80c-2667-47db-8a14-a9d988e0a30b",
   "metadata": {},
   "outputs": [
    {
     "data": {
      "text/plain": [
       "5050"
      ]
     },
     "execution_count": 3,
     "metadata": {},
     "output_type": "execute_result"
    }
   ],
   "source": [
    "tall"
   ]
  },
  {
   "cell_type": "code",
   "execution_count": 8,
   "id": "58920267-db0f-4419-b3e4-4655397e8b93",
   "metadata": {},
   "outputs": [],
   "source": [
    "x = 7"
   ]
  },
  {
   "cell_type": "code",
   "execution_count": 9,
   "id": "dd3c520e-de7e-4dd1-82dc-547b8609448c",
   "metadata": {},
   "outputs": [
    {
     "data": {
      "text/plain": [
       "7"
      ]
     },
     "execution_count": 9,
     "metadata": {},
     "output_type": "execute_result"
    }
   ],
   "source": [
    "x"
   ]
  },
  {
   "cell_type": "code",
   "execution_count": 6,
   "id": "04e9bda3-fdca-42c3-9004-e77ebc6b0d7b",
   "metadata": {},
   "outputs": [],
   "source": [
    "x=5"
   ]
  },
  {
   "cell_type": "code",
   "execution_count": 10,
   "id": "98ebad52-f09c-4787-8ffa-a2544efdd048",
   "metadata": {},
   "outputs": [
    {
     "data": {
      "text/plain": [
       "49"
      ]
     },
     "execution_count": 10,
     "metadata": {},
     "output_type": "execute_result"
    }
   ],
   "source": [
    "x**2"
   ]
  },
  {
   "cell_type": "markdown",
   "id": "29628067-dc1e-4bca-8690-4068e89fd9e8",
   "metadata": {},
   "source": [
    "Her skriver jeg tekst"
   ]
  },
  {
   "cell_type": "markdown",
   "id": "f9f57b88-9054-4bb2-b3d2-acbf531d53ea",
   "metadata": {},
   "source": [
    "# Overskrift 1\n",
    "Her er det noe mer tekst\n",
    "## Overskrift 2\n",
    "Enda mer tekst"
   ]
  },
  {
   "cell_type": "code",
   "execution_count": 11,
   "id": "b6c52a96-9acd-466d-ba1e-bddc724e2f1f",
   "metadata": {},
   "outputs": [
    {
     "name": "stdout",
     "output_type": "stream",
     "text": [
      "338350\n"
     ]
    }
   ],
   "source": [
    "# setter inn kommentar direkte i koden\n",
    "sum = 0\n",
    "for i in range(1,101,1):\n",
    "    sum = sum + i**2\n",
    "print(sum)"
   ]
  },
  {
   "cell_type": "markdown",
   "id": "003930ab-5e28-4b8e-b84b-37be72d1cdbf",
   "metadata": {},
   "source": [
    "*Summen* av alle de ***100*** første kvadrattallene er **338350**"
   ]
  },
  {
   "cell_type": "code",
   "execution_count": null,
   "id": "19c510ac-2c79-4a14-ac78-f46354937537",
   "metadata": {},
   "outputs": [],
   "source": []
  }
 ],
 "metadata": {
  "kernelspec": {
   "display_name": "Python 3",
   "language": "python",
   "name": "python3"
  },
  "language_info": {
   "codemirror_mode": {
    "name": "ipython",
    "version": 3
   },
   "file_extension": ".py",
   "mimetype": "text/x-python",
   "name": "python",
   "nbconvert_exporter": "python",
   "pygments_lexer": "ipython3",
   "version": "3.8.8"
  }
 },
 "nbformat": 4,
 "nbformat_minor": 5
}
