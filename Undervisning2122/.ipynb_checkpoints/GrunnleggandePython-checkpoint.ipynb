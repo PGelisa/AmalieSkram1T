{
 "cells": [
  {
   "cell_type": "markdown",
   "id": "075988bc-80bd-4c68-9b36-4d0f1f48ce79",
   "metadata": {
    "jp-MarkdownHeadingCollapsed": true,
    "tags": []
   },
   "source": [
    "# Grunnleggande programmering i Python\n",
    "\n",
    "No skal me gå gjennom eit par sentrale kommandoar og operasjonar i programmeringsspråket *Python* som me får bruk for i matematikkfaget. Minner om at programmeringskurset på <a href=\"https://aunivers.lokus.no/nn/fagpakker/realfag/programmering/python/ressurser/grunnkurs-i-programmering-med-python/2-variabler-og-regneoperasjoner/print?c=MTU1OTc%3D\"> Aunivers.no</a> kan vera nyttig for både innlæring og repetisjon. \n",
    "\n",
    "**Feil** er ein vanleg og viktig del av det å programmera. Om ein gløymer ein parantes eller har andre *syntaksfeil* (feil bruk av språket, feil \"gramatikk\") får ein ofte alvorlege og lange feilmeldingar. Med litt trening vil de fort kjenna att desse feilmeldingane og bli i stand til å forstå kva som har gått galt. \n",
    "Av og til kan koden vera feilfri (\"gramatisk\" korrekt) men likevel vil ikkje programmet fungera slik som tenkt. Då kan det henda at problemet ligg i logikken i programmet. Å finna denne type logiske feil er noko de vil bli betre til med trening og er ein **veldig** nyttig eigenskap i matematisk problemløysing og problemløysing i livet ellers. "
   ]
  },
  {
   "cell_type": "markdown",
   "id": "73571d48-1fcc-42fc-9077-0519b351e067",
   "metadata": {
    "tags": []
   },
   "source": [
    "## Utskrift\n",
    "\n",
    "Det første me skal sjå på er utskrift. Dette brukar me for å få programmet til å skriva noko ut til brukaren av programmet. Dette kan vera ein tekst om noko brukaren skal gjera, eller svaret på utrekningar. \n",
    "\n",
    "Funksjonen me bruker er `print()`"
   ]
  },
  {
   "cell_type": "code",
   "execution_count": null,
   "id": "7020bf1e-afa5-4099-a3df-3f184f5e36c5",
   "metadata": {},
   "outputs": [],
   "source": [
    "# kode her"
   ]
  },
  {
   "cell_type": "markdown",
   "id": "a501bff0-3615-41ee-80a4-3197e28ca2a9",
   "metadata": {},
   "source": [
    "## Variablar\n",
    "\n",
    "Variablar er viktige delar av dei aller fleste program. Variabelen kan me sjå føre oss som ein *boks* der me kan lagra verdiar til seinare. Variablane kan me gje namn som gjer at me forstår kva som er lagra i dei. "
   ]
  },
  {
   "cell_type": "code",
   "execution_count": null,
   "id": "d6929633-a889-4c4f-9ee9-a9feadf3d3e2",
   "metadata": {},
   "outputs": [],
   "source": [
    "# kode her"
   ]
  },
  {
   "cell_type": "markdown",
   "id": "78885f8c-1c68-458a-a342-85b9316bba3d",
   "metadata": {},
   "source": [
    "## Datatypar\n",
    "\n",
    "I Python vert det skilla mellom ulike datatypar.\n",
    "\n",
    "#### Streng\n",
    "Ein streng er tekst. Me skriv tekststrengar i anførselsteikn. `\"Dette er ein streng\"`\n",
    "\n",
    "#### Heiltal\n",
    "Heiltal (engelsk: *integer*) vert forkorta `int`.\n",
    "\n",
    "#### Desimaltal\n",
    "Desimaltal i Python vert kalla *flyttal*, og me brukar den engelske forkortinga `float`.\n",
    "\n",
    "#### Boolean\n",
    "Ein boolsk variabel kan ha to verdiar, sann (`true`) eller usann(`false`). Dei kan me bruka for å sjekka om me har kome fram til svaret/resultatet me har vore ute etter. "
   ]
  },
  {
   "cell_type": "code",
   "execution_count": null,
   "id": "fd6c9075-37e8-4c7f-8442-39a135509197",
   "metadata": {},
   "outputs": [],
   "source": [
    "# døme på variablar\n",
    "# legge saman streng og flyttal\n",
    "# gjere om variablar. "
   ]
  },
  {
   "cell_type": "markdown",
   "id": "e86674a0-c303-46d1-b5bd-d02d966c4ea4",
   "metadata": {},
   "source": [
    "## Input\n",
    "\n",
    "I Python har me høve til å la brukaren av programmet skriva inn verdiar. Det kan vera ulike datatypar alt etter kva programmet skal gjera. Me brukar kommandoen `input()`. \n",
    "\n",
    "Eit eksempel på ei kodelinje kan vera `alder = input(\"Skriv inn alderen din: \")`\n",
    "\n",
    "<div class=\"alert alert-block alert-info\">\n",
    "<b>Oppgåve: </b>Lag eit program som spør brukaren om namnet hans og skriv ut ei helsing tilbake.</div>"
   ]
  },
  {
   "cell_type": "code",
   "execution_count": null,
   "id": "239322df-2f3a-4308-9b73-05f304058364",
   "metadata": {},
   "outputs": [],
   "source": []
  },
  {
   "cell_type": "markdown",
   "id": "8c075233-ebd3-4d5b-9ce6-9ed800ee1fa1",
   "metadata": {},
   "source": [
    "## Rekneoperasjonar\n",
    "\n",
    "Python er i stand til å utføra mange ulike rekneoperasjonar. Reknerekkefølgen Python bruker er den samme som du er vant med frå matematikken. \n",
    "1) eksponentar\n",
    "2) multiplikasjon/divisjon\n",
    "3) addisjon/subtraksjon\n",
    "\n",
    "<div class=\"alert alert-block alert-info\">\n",
    "<b>Oppgåve: </b>Sjå på døma nedanfor og sjå om du forstår kva som skjer i dei ulike døma.</div>\n",
    "\n"
   ]
  },
  {
   "cell_type": "code",
   "execution_count": null,
   "id": "f120b605-5aee-4ea1-8ba5-a21b066085c5",
   "metadata": {},
   "outputs": [],
   "source": [
    "a = 7\n",
    "b = 3\n",
    "\n",
    "print(a + b) \n",
    "print(a - b)\n",
    "print(a * b)\n",
    "print(a / b)\n",
    "print(a ** b)\n",
    "print(a % b) \n",
    "print(a // b) "
   ]
  },
  {
   "cell_type": "markdown",
   "id": "ff7f721a-341a-4ad6-80b6-204d1cac6db0",
   "metadata": {},
   "source": [
    "<div class=\"alert alert-block alert-info\">\n",
    "<b>Oppgåve: </b>Prøv deg fram med andre tal for å sjå om du forstår dei tre siste rekneoperasjonane</div>"
   ]
  },
  {
   "cell_type": "code",
   "execution_count": null,
   "id": "48005378-c66a-4c93-9bf6-6c0ae8d5f951",
   "metadata": {},
   "outputs": [],
   "source": [
    "# kode her"
   ]
  },
  {
   "cell_type": "markdown",
   "id": "de74d3f5-60a4-4fb0-a7a2-4dbaf755b1a2",
   "metadata": {},
   "source": [
    "---"
   ]
  },
  {
   "cell_type": "markdown",
   "id": "15033755-2cb6-47a4-80f5-0c37cf028775",
   "metadata": {
    "jp-MarkdownHeadingCollapsed": true,
    "tags": []
   },
   "source": [
    "# Løkker\n",
    "\n",
    "Ein heilt sentral del av det å programmera handlar om løkker (engelsk: loops). Desse gjer oss i stand til å utføra ei oppgåve mange gongar. Anten eit gitt tal gongar, eller til me har oppnådd det me ville. \n",
    "\n",
    "Me skal fokusera på to av dei vanlegaste typane i Python (og programmering ellers): `for`-løkker og `while`-løkker. "
   ]
  },
  {
   "cell_type": "markdown",
   "id": "73aaed57-319f-4125-9ef1-d974ed3f9180",
   "metadata": {},
   "source": [
    "## for-løkke\n",
    "\n",
    "I `for`-løkker er det me som fortel programmet kor mange repetisjonar me vil ha. Eit døme på ei slik løkke ser du under. Kva gjer denne programsnutten? "
   ]
  },
  {
   "cell_type": "code",
   "execution_count": null,
   "id": "17ecd5b0-4d1f-45d6-9723-3dac6b9bc2e7",
   "metadata": {},
   "outputs": [],
   "source": [
    "for i in range(5):\n",
    "    print(i)"
   ]
  },
  {
   "cell_type": "markdown",
   "id": "83d9b75e-e4d2-401d-885a-1091805f8516",
   "metadata": {},
   "source": [
    "#### range()\n",
    "\n",
    "`range()`-funksjonen er nyttig og har mange ulike måtar han kan brukast på. \n",
    "\n",
    "<div class=\"alert alert-block alert-info\">\n",
    "<b>Oppgåve: </b>Sjå på døma under. Kva gjer dei ulike range()-variantane?</div>\n"
   ]
  },
  {
   "cell_type": "code",
   "execution_count": null,
   "id": "30899329-4923-45ce-bba9-0320063898f3",
   "metadata": {},
   "outputs": [],
   "source": [
    "print(\"Eks. 1:\")\n",
    "for i in range(10):\n",
    "    print(i)\n",
    "\n",
    "print(\"Eks. 2:\")\n",
    "for i in range(5, 10):\n",
    "    print(i)\n",
    "\n",
    "print(\"Eks. 3:\")\n",
    "for indeks in range(2, 10, 2):\n",
    "    print(indeks)"
   ]
  },
  {
   "cell_type": "markdown",
   "id": "f3ce6f3d-ade3-4700-9798-0afe305e098f",
   "metadata": {},
   "source": [
    "## while-løkke\n",
    "\n",
    "`while`-løkker brukar me som regel når me ikkje veit kor mange repetisjonar me treng. *while* kan me her forstå som \"så lenge\". \n",
    "\n",
    "Me gjentek oppgåva *så lengde* eit (eller fleire) kriterier er innfridd. "
   ]
  },
  {
   "cell_type": "code",
   "execution_count": null,
   "id": "c7b5fb5c-5117-4e9d-85d5-5fdba63795bf",
   "metadata": {},
   "outputs": [],
   "source": [
    "x = 0\n",
    "\n",
    "while x < 10:\n",
    "    print(x)\n",
    "    x = x + 1"
   ]
  },
  {
   "cell_type": "markdown",
   "id": "88704c7d-edac-4c3a-9af4-895645a70e01",
   "metadata": {},
   "source": [
    "<div class=\"alert alert-block alert-info\">\n",
    "<b>Oppgåve: </b>Kva gjer dette programmet?</div>\n"
   ]
  },
  {
   "cell_type": "code",
   "execution_count": null,
   "id": "66d01bb3-bce2-47ba-9de3-4e6c73917f0f",
   "metadata": {},
   "outputs": [],
   "source": [
    "# Prøv å skriva koden over på nytt, \n",
    "# men bytt om på dei to siste linjene. Kva skjer då? \n",
    "\n"
   ]
  },
  {
   "cell_type": "markdown",
   "id": "eb092b58-8d64-4c40-8b24-abc94a0366ae",
   "metadata": {},
   "source": [
    "---"
   ]
  },
  {
   "cell_type": "code",
   "execution_count": null,
   "id": "1223c5cd-7156-4b14-8301-16470cd0414b",
   "metadata": {},
   "outputs": [],
   "source": [
    "tall = input(\"Skriv eit tal: \")\n",
    "tall = float(tall)\n",
    "\n",
    "while tall > 1:\n",
    "    print(tall)\n",
    "    tall = tall/2\n",
    "    "
   ]
  },
  {
   "cell_type": "code",
   "execution_count": null,
   "id": "8356eb4c-ee75-44f8-9bdf-eab4adeea26c",
   "metadata": {},
   "outputs": [],
   "source": [
    "# Summering av tal\n",
    "sum = 0\n",
    "\n",
    "for i in range(10):\n",
    "    sum = sum + i\n",
    "\n",
    "print(sum)"
   ]
  },
  {
   "cell_type": "markdown",
   "id": "5463f355-a285-4c1d-9690-e9fb1d41fe2e",
   "metadata": {
    "jp-MarkdownHeadingCollapsed": true,
    "tags": []
   },
   "source": [
    "# Bruk av biblioteker\n",
    "\n",
    "Som me har sett til no har Python ei heil rekke innebygde funksjonar. Likevel treng me ofte fleire funksjonar og kommandoar. Desse kan me henta frå andre *bibliotek* ved å importera dei. I matematikken vil dette i hovudsak dreia seg om `matplotlib.pyplot` som me skal bruka til plotting og `numpy` som me treng for litt meir avansert matematikk ($\\pi$, $\\sqrt{x}$, osv.). På sikt kjem me kanskje innom andre bibliotek som t.d. `\n",
    "pandas`.\n",
    "\n",
    "Me importerer dei på denne måten, som regel heilt i starten av programmet:"
   ]
  },
  {
   "cell_type": "code",
   "execution_count": null,
   "id": "66c2ff7c-f1a6-449f-bf14-b70f5cc22706",
   "metadata": {},
   "outputs": [],
   "source": [
    "import matplotlib.pyplot as plt\n",
    "import numpy as np"
   ]
  },
  {
   "cell_type": "markdown",
   "id": "db141dbb-a257-4e6d-a059-b6dfaeed03c0",
   "metadata": {},
   "source": [
    "For å rekna ut $\\sqrt{16}$ kan me bruka numpy:"
   ]
  },
  {
   "cell_type": "code",
   "execution_count": null,
   "id": "98d8402d-e0bd-4d2d-b268-6d971c5e1a0c",
   "metadata": {},
   "outputs": [],
   "source": [
    "np.sqrt(16) # sqrt frå engelsk square root"
   ]
  },
  {
   "cell_type": "markdown",
   "id": "04f5360f-3af4-4042-8c53-7f378026cd25",
   "metadata": {},
   "source": [
    "Me har òg verdiar som $\\pi$ i numpy:"
   ]
  },
  {
   "cell_type": "code",
   "execution_count": null,
   "id": "e1b23209-dcbd-46c7-8a8f-8b17bd56c9d6",
   "metadata": {},
   "outputs": [],
   "source": [
    "np.pi"
   ]
  },
  {
   "cell_type": "markdown",
   "id": "0166a081-0275-4c0e-8b53-d2e005ad0dde",
   "metadata": {
    "jp-MarkdownHeadingCollapsed": true,
    "tags": []
   },
   "source": [
    "# Vilkår og val\n",
    "\n",
    "Me skal sjå litt på vilkår og val. Som me tidlegare har vore inne på er dei *boolske* variablane viktige her. \n"
   ]
  },
  {
   "cell_type": "markdown",
   "id": "a112780e-48d4-4dad-8cd5-0990325cb94e",
   "metadata": {},
   "source": [
    "<div class=\"alert alert-block alert-info\">\n",
    "<b>Oppgåve: </b>Sjå på kodesnutten under. Forstår du kva som skjer i programmet? Og kva betyr dei ulike symbolkombinasjonane? </div>"
   ]
  },
  {
   "cell_type": "code",
   "execution_count": null,
   "id": "c5d6f05c-236c-456a-9fe1-00c84b835764",
   "metadata": {},
   "outputs": [],
   "source": [
    "print(\"4 > 6 gir:\", 4 > 6)\n",
    "print(\"4 < 6 gir:\", 4 < 6)\n",
    "\n",
    "x = 0\n",
    "print(\"x < 10 gir:\", x < 10)\n",
    "print(\"x > 10 gir:\", x > 10)\n",
    "\n",
    "print(\"16 <= 17 gir:\", 16 <= 17)\n",
    "print(\"17 <= 17 gir:\", 17 <= 17)\n",
    "print(\"18 <= 17 gir:\", 18 <= 17)\n",
    "\n",
    "print(\"4 == 5 gir:\", 4 == 5)\n",
    "print(\"4 == 4 gir:\", 4 == 4)\n",
    "print(\"7 != 7 gir:\", 7 != 7)\n",
    "print(\"7 != 11 gir:\", 7 != 11)"
   ]
  },
  {
   "cell_type": "markdown",
   "id": "f9390364-06cb-44d8-9f57-1038f20d3694",
   "metadata": {},
   "source": [
    "**Logiske operatorar**\n",
    "\n",
    "`<`, `<=`, `>`, `>=`, `==`, `!=`, `and`, `or`"
   ]
  },
  {
   "cell_type": "markdown",
   "id": "5da5d47f-de90-4c85-956b-2864ff4fd99a",
   "metadata": {},
   "source": [
    "## If-setningar"
   ]
  },
  {
   "cell_type": "markdown",
   "id": "a64a0932-01ba-4367-bfb4-47df84b18476",
   "metadata": {
    "jp-MarkdownHeadingCollapsed": true,
    "tags": []
   },
   "source": [
    "# Lister\n",
    "\n",
    "Her skal me etter kvart læra om lister, arrays og tilfeldige tal"
   ]
  },
  {
   "cell_type": "markdown",
   "id": "ae9ec643-0bc4-4b0e-9bdb-a7adb009b800",
   "metadata": {
    "tags": []
   },
   "source": [
    "# Funksjonar\n",
    "\n",
    "Her kjem det meir om funksjonar"
   ]
  }
 ],
 "metadata": {
  "kernelspec": {
   "display_name": "Python 3",
   "language": "python",
   "name": "python3"
  },
  "language_info": {
   "codemirror_mode": {
    "name": "ipython",
    "version": 3
   },
   "file_extension": ".py",
   "mimetype": "text/x-python",
   "name": "python",
   "nbconvert_exporter": "python",
   "pygments_lexer": "ipython3",
   "version": "3.8.11"
  }
 },
 "nbformat": 4,
 "nbformat_minor": 5
}
