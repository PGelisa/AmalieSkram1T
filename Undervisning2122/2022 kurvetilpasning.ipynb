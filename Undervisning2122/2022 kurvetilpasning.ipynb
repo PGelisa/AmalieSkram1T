{
 "cells": [
  {
   "cell_type": "markdown",
   "id": "bd0a47a9-2859-43e8-8a40-2ea723a44cac",
   "metadata": {
    "tags": []
   },
   "source": [
    "## Kurvetilpasning med Python\n",
    "Hvis du ønsker å bruke Python til kurvetilpasning, og vil ha en annen funksjon enn polynomer, så må vi bruke en annen funksjon enn polyfit. Da må vi hente en funksjon fra et annet bibliotek.\n",
    "\n",
    "I koden under, så kan du endre på linje 6 og 7, der du henter inn data.\n",
    "I tillegg kan du endre på linje 16 og 17, der du bestemmer hvilken funksjon du ønsker at dataene skal tilpasses.\n",
    "\n",
    "Det er særlig når dere skal jobbe med store datamengder med prosjekt om modellering at det kan være nyttig å bruke Python i stedet for Geogebra når dere skal lage deres egne funksjoner."
   ]
  },
  {
   "cell_type": "code",
   "execution_count": 2,
   "id": "65a24c53-148b-4ee1-a06d-f2df44335b51",
   "metadata": {},
   "outputs": [
    {
     "name": "stdout",
     "output_type": "stream",
     "text": [
      "Funksjonen blir 72.11*0.92**x + 21.87\n"
     ]
    },
    {
     "data": {
      "image/png": "[encoded data removed]",
      "text/plain": [
       "<Figure size 432x288 with 1 Axes>"
      ]
     },
     "metadata": {
      "needs_background": "light"
     },
     "output_type": "display_data"
    }
   ],
   "source": [
    "import numpy as np\n",
    "import matplotlib.pyplot as plt\n",
    "from scipy.optimize import curve_fit\n",
    "\n",
    "# legger inn datasettet (her kan man også hente inn data ved pandas)\n",
    "x_data = [0, 2, 4, 6, 10, 12, 14]\n",
    "y_data = [94, 82.9, 73.6, 65.7, 53.3, 48.5, 44.4]\n",
    "\n",
    "#plotter datasettet som kryss i koordinatsystemet\n",
    "plt.plot(x_data, y_data, \"x\")\n",
    "\n",
    "\"\"\"\n",
    "definer funksjonstypen med riktig antall\n",
    "parametere\n",
    "\"\"\"\n",
    "def g(x,a,b,c):\n",
    "    return a*b**x + c\n",
    "\n",
    "L, V = curve_fit(g, x_data, y_data)\n",
    "\n",
    "a, b, c = L\n",
    "#Lager så et funksjonsuttrykk med koeffisientene\n",
    "print(f\"Funksjonen blir {a:.2f}*{b:.2f}**x + {c:.2f}\")\n",
    "\n",
    "\"\"\"\n",
    "lager en array med x-verdier som går litt utenfor x_data, \n",
    "og tilsvarende funksjonsverdier ved hjelp av parameterne i L \n",
    "og selve funksjonen\n",
    "\"\"\"\n",
    "x_verdi= np.linspace(min(x_data)-1,max(x_data)+1,200)\n",
    "y_verdi=g(x_verdi, *L) \n",
    "\"\"\"\n",
    "* foran en liste betyr at den henter alle elementene \n",
    "i den listen og setter inn i funksjonen\n",
    "\"\"\"\n",
    "\n",
    "\n",
    "plt.plot(x_verdi, y_verdi, label=f'{a:.2f}*{b:.2f}^x + {c:.2f}')\n",
    "plt.legend()\n",
    "plt.show()"
   ]
  },
  {
   "cell_type": "code",
   "execution_count": null,
   "id": "48d8e6f7-4b50-49a4-bea9-d63ba7046813",
   "metadata": {},
   "outputs": [],
   "source": []
  }
 ],
 "metadata": {
  "kernelspec": {
   "display_name": "Python 3 (ipykernel)",
   "language": "python",
   "name": "python3"
  },
  "language_info": {
   "codemirror_mode": {
    "name": "ipython",
    "version": 3
   },
   "file_extension": ".py",
   "mimetype": "text/x-python",
   "name": "python",
   "nbconvert_exporter": "python",
   "pygments_lexer": "ipython3",
   "version": "3.9.7"
  }
 },
 "nbformat": 4,
 "nbformat_minor": 5
}
