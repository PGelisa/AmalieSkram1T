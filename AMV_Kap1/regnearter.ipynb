{
 "cells": [
  {
   "cell_type": "raw",
   "id": "cf699918-5989-448e-897c-b3e28e03bc01",
   "metadata": {},
   "source": [
    "---\n",
    "title: \"Regnearter og regnerekkefølge\"\n",
    "format: \n",
    "    html:\n",
    "        code-fold: false\n",
    "callout-appearance: simple\n",
    "jupyter: python3\n",
    "---"
   ]
  },
  {
   "cell_type": "markdown",
   "id": "c47dc701-d159-4fe0-b2e6-cd7084b58d79",
   "metadata": {},
   "source": [
    "# Regnearter\n",
    "\n",
    "Dere er godt kjent med de fire regneartene fra grunnskolen:\n",
    "\n",
    "* addisjon\n",
    "* subtraksjon\n",
    "* multiplikasjon\n",
    "* divisjon\n",
    "\n",
    "Dere kjenner også til begrepene at når vi adderer ulike **ledd**, så får vi en *sum*, når vi subtraherer to **ledd** så får vi en *differanse*. \n",
    "Vi multipliserer **faktorer** og får et *produkt*, og når vi deler en **dividend** med en **divisor**, så får vi en *kvotient*."
   ]
  },
  {
   "cell_type": "markdown",
   "id": "a8801ee6-f337-4125-a37d-1f4e77d51d0b",
   "metadata": {},
   "source": [
    ":::{.callout-note}\n",
    "### Matematiske begrep\n",
    "$$\\begin{align}ledd + ledd &= sum\\\\\n",
    "ledd - ledd &= differanse\\\\\n",
    "faktor \\cdot faktor &= produkt\\\\\n",
    "dividend : divisor &= kvotient\n",
    "\\end{align}$$\n",
    ":::"
   ]
  },
  {
   "cell_type": "code",
   "execution_count": null,
   "id": "43dd7219-1561-40b4-967d-181b61f6069f",
   "metadata": {},
   "outputs": [],
   "source": []
  },
  {
   "cell_type": "markdown",
   "id": "90644cfe-d6ee-456f-bab0-80b212121d6d",
   "metadata": {},
   "source": [
    "::: {.callout-caution}\n",
    "### Det er ulike notater\n",
    "Note that there are five types of callouts, including:\n",
    "`note`, `warning`, `important`, `tip`, and `caution`.\n",
    ":::\n"
   ]
  },
  {
   "cell_type": "code",
   "execution_count": null,
   "id": "1fdf9a5e-974f-47a9-97f8-2d701ae6ac66",
   "metadata": {},
   "outputs": [],
   "source": []
  }
 ],
 "metadata": {
  "kernelspec": {
   "display_name": "Python 3 (ipykernel)",
   "language": "python",
   "name": "python3"
  },
  "language_info": {
   "codemirror_mode": {
    "name": "ipython",
    "version": 3
   },
   "file_extension": ".py",
   "mimetype": "text/x-python",
   "name": "python",
   "nbconvert_exporter": "python",
   "pygments_lexer": "ipython3",
   "version": "3.9.15"
  }
 },
 "nbformat": 4,
 "nbformat_minor": 5
}
