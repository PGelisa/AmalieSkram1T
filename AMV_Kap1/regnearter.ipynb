{
 "cells": [
  {
   "cell_type": "raw",
   "id": "cf699918-5989-448e-897c-b3e28e03bc01",
   "metadata": {},
   "source": [
    "---\n",
    "title: \"Regnearter og regnerekkefølge\"\n",
    "format: \n",
    "    html:\n",
    "        code-fold: false\n",
    "callout-appearance: simple\n",
    "jupyter: python3\n",
    "---"
   ]
  },
  {
   "cell_type": "markdown",
   "id": "c47dc701-d159-4fe0-b2e6-cd7084b58d79",
   "metadata": {},
   "source": [
    "# Regnearter\n",
    "\n",
    "Dere er godt kjent med de fire regneartene fra grunnskolen:\n",
    "\n",
    "* addisjon\n",
    "* subtraksjon\n",
    "* multiplikasjon\n",
    "* divisjon\n",
    "\n",
    "Dere kjenner også til begrepene at når vi adderer ulike **ledd**, så får vi en *sum*, når vi subtraherer to **ledd** så får vi en *differanse*. \n",
    "Vi multipliserer **faktorer** og får et *produkt*, og når vi deler en **dividend** med en **divisor**, så får vi en *kvotient*."
   ]
  },
  {
   "cell_type": "markdown",
   "id": "a8801ee6-f337-4125-a37d-1f4e77d51d0b",
   "metadata": {},
   "source": [
    ":::{.callout-note}\n",
    "### Matematiske begrep\n",
    "$$\\begin{align}ledd + ledd &= sum\\\\\n",
    "ledd - ledd &= differanse\\\\\n",
    "faktor \\cdot faktor &= produkt\\\\\n",
    "dividend : divisor &= kvotient\n",
    "\\end{align}$$\n",
    ":::"
   ]
  },
  {
   "cell_type": "markdown",
   "id": "90644cfe-d6ee-456f-bab0-80b212121d6d",
   "metadata": {},
   "source": [
    "::: {.callout-caution}\n",
    "### Det er ulike notater\n",
    "Note that there are five types of callouts, including:\n",
    "`note`, `warning`, `important`, `tip`, and `caution`.\n",
    ":::\n"
   ]
  },
  {
   "cell_type": "markdown",
   "id": "9839f1f5-fafd-441c-8c3e-9e19fc4a3d48",
   "metadata": {},
   "source": [
    "### Heltallsdivisjon og rest\n",
    "\n",
    "Hvis vi bruker / til å dividere to tall i Python, så vil vi få et desimaltall som svar. Noen ganger er vi bare interessert i de hele tallene som går opp i divisjonen. Da kan vi gjennomføre en heltallsdivisjon. I Python skriver vi da `//` i stedet for `/`."
   ]
  },
  {
   "cell_type": "code",
   "execution_count": 1,
   "id": "1fdf9a5e-974f-47a9-97f8-2d701ae6ac66",
   "metadata": {},
   "outputs": [
    {
     "data": {
      "text/plain": [
       "10"
      ]
     },
     "execution_count": 1,
     "metadata": {},
     "output_type": "execute_result"
    }
   ],
   "source": [
    "32//3"
   ]
  },
  {
   "cell_type": "markdown",
   "id": "d996658f-f287-4ca6-b98a-0bfb3c1264ef",
   "metadata": {},
   "source": [
    "Vi vet at tallet 3 går opp 10 hele ganger i 32, men så vil vi da får 2 i rest. Dette kan vi også regne ut ved å bruke modulo, og kommandoen i Python for det er `%`. Vi prøver"
   ]
  },
  {
   "cell_type": "code",
   "execution_count": 2,
   "id": "398ead27-e819-42df-ae67-9c4b661cd6c9",
   "metadata": {},
   "outputs": [
    {
     "data": {
      "text/plain": [
       "2"
      ]
     },
     "execution_count": 2,
     "metadata": {},
     "output_type": "execute_result"
    }
   ],
   "source": [
    "32%3"
   ]
  },
  {
   "cell_type": "markdown",
   "id": "67865ddb-6ec4-483c-9d36-6bc1ac35361e",
   "metadata": {},
   "source": [
    "Her ser vi at vi står igjen med de 2 i rest, altså det vi står igjen med etter at vi er ferdig med heltallsdivisjonen."
   ]
  },
  {
   "cell_type": "code",
   "execution_count": null,
   "id": "a70d5fff-df04-428f-87d1-50f804817f2c",
   "metadata": {},
   "outputs": [],
   "source": []
  }
 ],
 "metadata": {
  "kernelspec": {
   "display_name": "Python 3 (ipykernel)",
   "language": "python",
   "name": "python3"
  },
  "language_info": {
   "codemirror_mode": {
    "name": "ipython",
    "version": 3
   },
   "file_extension": ".py",
   "mimetype": "text/x-python",
   "name": "python",
   "nbconvert_exporter": "python",
   "pygments_lexer": "ipython3",
   "version": "3.9.15"
  }
 },
 "nbformat": 4,
 "nbformat_minor": 5
}
