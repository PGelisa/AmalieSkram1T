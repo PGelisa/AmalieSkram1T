{
 "cells": [
  {
   "cell_type": "markdown",
   "metadata": {
    "colab_type": "text",
    "id": "rf1TU1LUk2yf"
   },
   "source": [
    "# Introduksjon til tekstprogrammering i 1T\n",
    "\n",
    "\n",
    "\n",
    "\n",
    "\n",
    "\n"
   ]
  },
  {
   "cell_type": "markdown",
   "metadata": {
    "colab_type": "text",
    "id": "xfYSbpc6m1z9"
   },
   "source": [
    "# 1 Variabler\n",
    "Det finnes en del regler for hvordan vi kan navnsette variabler når vi programmerer i Python:\n",
    "1. Du kan ikke bruke noen av de innebygde funksjonsnavnene som finnes i Python\n",
    "2. Et variabelnavn kan ikke inneholde mellomrom\n",
    "3. Det første tegnet i variabelnavnet må være en bokstav, eller underscore(_)\n",
    "4. De neste tegnene kan være bokstaver, tall eller underscore\n",
    "5. Det er forskjell på STORE og små bokstaver, som betyr at Tre og TRE er to ulike variabler"
   ]
  },
  {
   "cell_type": "markdown",
   "metadata": {
    "colab_type": "text",
    "id": "JVwiytvAmxK6"
   },
   "source": [
    "### 1.1 Hva er galt med variabelnavnene under?\n",
    "Hva er feil eller dårlig med variabelnavnene under? Gi en kort forklaring og gi dem bedre variabelnavn.\n",
    "\n",
    "a) Et tall = 123\n",
    "\n",
    "b) 3variabelen = 3\n",
    "\n",
    "c) %AvTallet = 15"
   ]
  },
  {
   "cell_type": "markdown",
   "metadata": {
    "colab_type": "text",
    "id": "UbeS0ptln1LP"
   },
   "source": [
    "1.1 Skriv inn svaret ditt under:\n"
   ]
  },
  {
   "cell_type": "markdown",
   "metadata": {
    "colab_type": "text",
    "id": "na3U79t4n-22"
   },
   "source": [
    "## 2 Datatyper\n",
    "Vi skiller mellom ulike datatyper i Python. Vi kommer til å bruke heltall (int), flyttall (float) og strenger (str). Flyttall kan ses på som desimaltall. Strenger er en datatype som tekst.\n",
    "\n",
    "Python kan fint gjøre regneoperasjoner på heltall og flyttall. Men du vil ikke få det til med strenger. Da vil du få feilmeldinger. "
   ]
  },
  {
   "cell_type": "markdown",
   "metadata": {
    "colab_type": "text",
    "id": "na3U79t4n-22"
   },
   "source": [
    "####Eksempel 1:\n",
    "\n",
    "`tall1 = 1`\n",
    "\n",
    "Dette tolker Python som et heltall, og du kan gjøre regneoperasjoner med det"
   ]
  },
  {
   "cell_type": "markdown",
   "metadata": {
    "colab_type": "text",
    "id": "na3U79t4n-22"
   },
   "source": [
    "####Eksempel 2: \n",
    "\n",
    "`tall2 = 1.2`\n",
    "\n",
    "Dette tolker Python som et flyttall, og du kan gjøre regneoperasjoner med det\n",
    "\n",
    "####Eksempel 3:\n",
    "\n",
    "`tall3 = \"tre\"`\n",
    "\n",
    "Når vi skriver noe inn i \"fnutter\"; enten doble \"\" eller enkle '', så tolker Python det som strenger. Dette gjelder selv om det er et tall mellom fnuttene.\n",
    "\n",
    "####Eksempel 4:\n",
    "\n",
    "`tall4 = \"4\"`\n",
    "\n",
    "Dette vil være en streng, og vi kan ikke gjøre regneoperasjoner med den."
   ]
  },
  {
   "cell_type": "markdown",
   "metadata": {
    "colab_type": "text",
    "id": "RD3i7-tdsgXh"
   },
   "source": [
    "I kodeblokken under ser du de fire eksemplene. For å kunne se de ulike variablene som er definert, så bruker vi kommmandoen print().\n",
    "\n",
    "Hvis du vil finne ut hvilke datatype variabelen din er, så bruker du kommandoen type().\n",
    "\n",
    "Kjør kodeblokken under ved å trykke på play-knappen"
   ]
  },
  {
   "cell_type": "markdown",
   "metadata": {
    "colab_type": "text",
    "id": "ZKLgZDUKmb0g"
   },
   "source": [
    "####2.1"
   ]
  },
  {
   "cell_type": "code",
   "execution_count": 0,
   "metadata": {
    "colab": {},
    "colab_type": "code",
    "id": "KX8BN_4tsFgo"
   },
   "outputs": [],
   "source": [
    "tall1 = 1\n",
    "tall2 = 1.2\n",
    "tall3 = \"tre\"\n",
    "tall4 = \"4\"\n",
    "print(tall1, tall2, tall3, tall4)\n",
    "print(type(tall1))\n",
    "print(type(tall2))\n",
    "print(type(tall3))\n",
    "print(type(tall4))"
   ]
  },
  {
   "cell_type": "markdown",
   "metadata": {
    "colab_type": "text",
    "id": "E36lJ4BwvDCP"
   },
   "source": [
    "###  Endring av datatyper\n",
    "Hvis du har en streng som du vil gjøre om til tall, eller har et tall som du vil gjøre om til en streng, så kan du bruke kommandoene\n",
    "\n",
    "str()\n",
    "\n",
    "int()\n",
    "\n",
    "float()"
   ]
  },
  {
   "cell_type": "markdown",
   "metadata": {
    "colab_type": "text",
    "id": "nyit-MVx1WjP"
   },
   "source": [
    "### Matematiske operatorer i Python uten biblioteker\n",
    "Det finnes noen regneoperatorer i Python som går an å bruke uten biblioteker.\n",
    "\n",
    "`+`, `-`, `*` og `/` fungerer som dere kjenner fra før.\n",
    "\n",
    "Hvis dere ønsker eksponent, så brukes **.\n",
    "\n",
    "Hvis man ønsker å regne ut $3^4$, må man i Python skrive\n",
    "\n",
    "```\n",
    "3**4\n",
    "```\n",
    "\n",
    "I tillegg finnes det et par andre operatorer som dere bør kjenne til:\n",
    "\n",
    "`//` er heltallsdivisjon (`17 // 5` gir 3)\n",
    "\n",
    "`%` er modulus (rest ved divisjon)  (`17 % 5` gir 2)"
   ]
  },
  {
   "cell_type": "markdown",
   "metadata": {
    "colab_type": "text",
    "id": "dM4XHo0Zcwhz"
   },
   "source": [
    "Det er viktig å lære seg `print`-kommandoen. Hvis man har noen variabler man vil skrive ut, og så med noe tekst mellom, så må teksten oppgis som strenger i `print`-kommandoen. Se eksempel under. Kjør koden."
   ]
  },
  {
   "cell_type": "code",
   "execution_count": 0,
   "metadata": {
    "colab": {},
    "colab_type": "code",
    "id": "tWb2gw20dBr4"
   },
   "outputs": [],
   "source": [
    "alder = 16\n",
    "antall = 11\n",
    "print('Jeg er',alder,'år og går i Vg1. Det betyr at dette er mitt år nummer',antall,'på skolebenken.')"
   ]
  },
  {
   "cell_type": "markdown",
   "metadata": {
    "colab_type": "text",
    "id": "bY4et4owuiKV"
   },
   "source": [
    "####2.2\n",
    "Skriv et program som lager to variabler med tallene 13 og 45. Regn ut produktet av de to variablene, og skriv til konsoll:\n",
    "\n",
    "13 ganger 45 er (svaret på regnestykket ditt)"
   ]
  },
  {
   "cell_type": "code",
   "execution_count": 0,
   "metadata": {
    "colab": {},
    "colab_type": "code",
    "id": "S0AmyRV1u-WJ"
   },
   "outputs": [],
   "source": [
    "# 2.1 Skriv inn programmet ditt under her\n"
   ]
  },
  {
   "cell_type": "markdown",
   "metadata": {
    "colab_type": "text",
    "id": "Ct7FdIeMfxsv"
   },
   "source": [
    "#### 2.3\n",
    "Sett følgende variabler:\n",
    "\n",
    "w = 5, x = 4, y = 8 og z = 2\n",
    "\n",
    "Regn ut følgende ved hjelp av Python:\n",
    "\n",
    "```\n",
    "svar = x + y\n",
    "svar = z * 2\n",
    "svar = y / x\n",
    "svar = y - z\n",
    "svar = w // z\n",
    "\n",
    "```\n",
    "\n",
    "\n"
   ]
  },
  {
   "cell_type": "code",
   "execution_count": 0,
   "metadata": {
    "colab": {},
    "colab_type": "code",
    "id": "y8emiNB4g9Rr"
   },
   "outputs": [],
   "source": [
    "# 2.2 Skriv inn utregningene dine her\n",
    "# Pass på hvordan du får skrevet ut svaret til konsoll\n",
    "\n"
   ]
  },
  {
   "cell_type": "markdown",
   "metadata": {
    "colab_type": "text",
    "id": "IXk9RS-hwCnC"
   },
   "source": [
    "## 3 Biblioteker og matematikk i Python\n",
    "Python kan brukes i uendelig mange fag, og det finnes mange ulike funksjoner og formler som er programmert inn i ulike biblioteker. Vi må fortelle Python på forhånd hvis vi vil bruke noen av disse bibliotekene. \n",
    "\n",
    "De viktigste bibliotekene vi kommer til å bruke i matematikk 1T er\n",
    "\n",
    "\n",
    "matplotlib.pyplot\n",
    "\n",
    "numpy\n",
    "\n",
    "sympy\n",
    "\n",
    "pandas\n",
    "\n",
    "scipy"
   ]
  },
  {
   "cell_type": "markdown",
   "metadata": {
    "colab_type": "text",
    "id": "BzAEzFaKybBm"
   },
   "source": [
    "### Eksempel\n",
    "\n",
    "I eksempelet under så importerer vi først biblioteket numpy. Deretter bruker vi kommandoen input() for å spørre brukeren om hvilket tall hen vil ta kvadratroten av. Når vi ber om input, så blir variabelen en streng, så vi gjør svaret om til et flyttall.\n",
    "\n",
    "Så bruker vi sqrt()-kommandoen fra numpy-biblioteket. Vi skriver derfor først numpy og så et punktum, for å fortelle at kommandoen etter punktumet er hentet fra numpy-biblioteket.\n",
    "\n",
    "Til slutt skrives svaret ut med print()-kommandoen.\n",
    "\n",
    "Test å kjøre programmet."
   ]
  },
  {
   "cell_type": "code",
   "execution_count": 0,
   "metadata": {
    "colab": {},
    "colab_type": "code",
    "id": "fEGnZwXYx0Zk"
   },
   "outputs": [],
   "source": [
    "import numpy\n",
    "tall = float(input('Hvilket tall vil du ta kvadratroten av? \\n >> '))\n",
    "\n",
    "kvadratrot = numpy.sqrt(tall)\n",
    "print(\"Kvadratroten av\",tall,\"er\",kvadratrot)"
   ]
  },
  {
   "cell_type": "markdown",
   "metadata": {
    "colab_type": "text",
    "id": "7Pc3W07Fzb_e"
   },
   "source": [
    "Man kan velge å lage forkortelser for disse bibliotekene. Numpy forkortes oftest til np. Da ville koden over blitt som under. Her har vi også vist hvordan du kan få færre desimaler i svaret ditt, i dette tilfellet 3 desimaler."
   ]
  },
  {
   "cell_type": "code",
   "execution_count": 0,
   "metadata": {
    "colab": {},
    "colab_type": "code",
    "id": "gqlfziJhzkSq"
   },
   "outputs": [],
   "source": [
    "import numpy as np\n",
    "tall = float(input('Hvilket tall vil du ta kvadratroten av? \\n >> '))\n",
    "kvadratrot = np.sqrt(tall)\n",
    "print(\"kvadratroten av\",tall,\"er\",format(kvadratrot,'.3f'))"
   ]
  },
  {
   "cell_type": "markdown",
   "metadata": {
    "colab_type": "text",
    "id": "opDm5b7YOotj"
   },
   "source": [
    "Standard forkortelser for noen av de bibliotekene vi kommer til å bruke er:\n",
    "\n",
    "`import matplotlib.pyplot as plt`\n",
    "\n",
    "`import numpy as np`\n",
    "\n",
    "`import pandas as pd`\n",
    "\n",
    "\n"
   ]
  },
  {
   "cell_type": "markdown",
   "metadata": {
    "colab_type": "text",
    "id": "V6dL60d10UTv"
   },
   "source": [
    "#### 3.1 \n",
    "Skriv formelen under med Python-kode. Definer variablene a, b og c, og regn ut x.\n",
    "\n",
    "Sett a lik 3, b lik 5 og c = -2.\n",
    "\n",
    "Rund av svaret til 4 desimaler\n",
    "$$x = \\dfrac{-b+\\sqrt{b^2 - 4ac}}{2a}$$"
   ]
  },
  {
   "cell_type": "code",
   "execution_count": 0,
   "metadata": {
    "colab": {},
    "colab_type": "code",
    "id": "sLaOGr3nBnV4"
   },
   "outputs": [],
   "source": [
    "# 3.1 Skriv inn koden din her\n"
   ]
  },
  {
   "cell_type": "markdown",
   "metadata": {
    "colab_type": "text",
    "id": "EKx8EqGThXtr"
   },
   "source": [
    "#### 3.2\n",
    "Skriv et program som spør brukeren om å skrive inn radiusen til en sirkel. Programmet skal beregne arealet og omkretsen til sirkelen, og så skrive resultatene til konsoll.\n",
    "\n",
    "$\\pi$ er en del av numpy-biblioteket, og dere kan kalle opp biblioteket ved numpy.pi (eller np.pi hvis du har lagt inn forkortelsen)."
   ]
  },
  {
   "cell_type": "code",
   "execution_count": 0,
   "metadata": {
    "colab": {},
    "colab_type": "code",
    "id": "nZXvUJttiJSI"
   },
   "outputs": [],
   "source": [
    "# 3.2 Skriv inn koden din her\n"
   ]
  },
  {
   "cell_type": "markdown",
   "metadata": {
    "colab_type": "text",
    "id": "9eiMte6tllof"
   },
   "source": [
    "## 4 Logiske operatorer, betingelser og løkker\n",
    "Vi trenger en del logiske operatorer i Matematikk 1T. Vi skal bruke følgende operatorer:\n",
    "\n",
    "`==` Lik\n",
    "\n",
    "`!=` Ikke lik\n",
    "\n",
    "`<` Mindre enn\n",
    "\n",
    "`>` Større enn\n",
    "\n",
    "`<=` Mindre enn eller lik\n",
    "\n",
    "`>=` Større enn eller lik\n",
    "\n",
    "`and` Flere betingelser må være sanne samtidig\n",
    "\n",
    "`or` En av flere betingelser må være sann"
   ]
  },
  {
   "cell_type": "markdown",
   "metadata": {
    "colab_type": "text",
    "id": "zxekXlOyoDhU"
   },
   "source": [
    "### Logiske operatorer\n",
    "`5==5` gir True\n",
    "\n",
    "`5!=5` gir False\n",
    "\n",
    "`2 < 5` gir True\n",
    "\n",
    "`2 > 5` gir False\n",
    "\n",
    "`3 <= 3` gir True\n",
    "\n",
    "`4 >= 6` gir False\n",
    "\n",
    "`a < b and b < c`\n",
    "\n",
    "`a < b or b > c`"
   ]
  },
  {
   "cell_type": "markdown",
   "metadata": {
    "colab_type": "text",
    "id": "wZOsU_1fo91d"
   },
   "source": [
    "### Betingelser og valg (if-setninger)\n",
    "Betingelser og valg lar oss styre hva som skjer i et program.\n",
    "\n",
    "Tenk gjennom hva du tror kommer til å skje her:\n",
    "\n",
    "\n",
    "\n",
    "```\n",
    "a = int(input('Skriv et heltall: '))\n",
    "if a == 4:\n",
    "    print('a er lik 4')\n",
    "elif a > 4:\n",
    "    print('a er større enn 4')\n",
    "else:\n",
    "    print('a er mindre enn 4')\n",
    "```\n",
    "\n"
   ]
  },
  {
   "cell_type": "markdown",
   "metadata": {
    "colab_type": "text",
    "id": "FUCnFs19lnYc"
   },
   "source": [
    "####4.1"
   ]
  },
  {
   "cell_type": "code",
   "execution_count": 0,
   "metadata": {
    "colab": {},
    "colab_type": "code",
    "id": "YL7TJYoA0V0d"
   },
   "outputs": [],
   "source": [
    "# 4.1 Skriv inn programmet her og test om du tenkte riktig\n"
   ]
  },
  {
   "cell_type": "markdown",
   "metadata": {
    "colab_type": "text",
    "id": "nrEhjfyeznQI"
   },
   "source": [
    "### for og while-løkker\n",
    "Løkker kan enten gjentas i et forhåndsbestemt antall ganger (for-løkke), eller gjentas så lenge en betingelse er sann (while-løkker).\n",
    "\n",
    "\n"
   ]
  },
  {
   "cell_type": "markdown",
   "metadata": {
    "colab_type": "text",
    "id": "K81UWM4fl79c"
   },
   "source": [
    "### while-løkker\n",
    "Tenk gjennom hva du tror vil skje her:\n",
    "\n",
    "\n",
    "\n",
    "```\n",
    "n = 1\n",
    "while n < 9:\n",
    "    print(n)\n",
    "    n += 1\n",
    "```\n"
   ]
  },
  {
   "cell_type": "markdown",
   "metadata": {
    "colab_type": "text",
    "id": "PU2AI5RwlwPj"
   },
   "source": [
    "####4.2"
   ]
  },
  {
   "cell_type": "code",
   "execution_count": 0,
   "metadata": {
    "colab": {},
    "colab_type": "code",
    "id": "iluJ1zKM05HK"
   },
   "outputs": [],
   "source": [
    "# Test programmet her\n"
   ]
  },
  {
   "cell_type": "markdown",
   "metadata": {
    "colab_type": "text",
    "id": "rs-nTj3z08kV"
   },
   "source": [
    "### for-løkker\n",
    "Tenk gjennom hva du tror vil skje her:\n",
    "\n",
    "\n",
    "```\n",
    "for i in range(1, 10, 2):\n",
    "    print(i)\n",
    "```\n",
    "\n"
   ]
  },
  {
   "cell_type": "markdown",
   "metadata": {
    "colab_type": "text",
    "id": "A4FvijW_mEH9"
   },
   "source": [
    "####4.3"
   ]
  },
  {
   "cell_type": "code",
   "execution_count": 0,
   "metadata": {
    "colab": {},
    "colab_type": "code",
    "id": "0E0S4esG1Z8p"
   },
   "outputs": [],
   "source": [
    "# Test programmet her"
   ]
  }
 ],
 "metadata": {
  "colab": {
   "name": "Økt3-Tekstprogrammering.ipynb",
   "provenance": []
  },
  "kernelspec": {
   "display_name": "Python 3",
   "language": "python",
   "name": "python3"
  },
  "language_info": {
   "codemirror_mode": {
    "name": "ipython",
    "version": 3
   },
   "file_extension": ".py",
   "mimetype": "text/x-python",
   "name": "python",
   "nbconvert_exporter": "python",
   "pygments_lexer": "ipython3",
   "version": "3.7.7"
  }
 },
 "nbformat": 4,
 "nbformat_minor": 1
}
