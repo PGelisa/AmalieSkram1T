{
 "cells": [
  {
   "cell_type": "markdown",
   "metadata": {
    "colab_type": "text",
    "id": "lys4nPpP3diy"
   },
   "source": [
    "#Introduksjon til funksjoner i Python\n",
    "Tidligere i matematikken så har du lært om funksjoner, og du har lært at funksjoner brukes til å uttrykke sammenhenger. Du har stort sett lært å bruke funksjoner som $y=f(x)$, der vi får ut tallpar, med en $x$-verdi og en $y$-verdi.\n",
    "\n",
    "I programmeringen kan vi lage funksjoner som kan ha flere input-verdier, og flere output-verdier. Da kan vi lage funksjoner som vi kan bruke på nytt flere ganger når vi skal løse liknende oppgaver med ulike verdier.\n",
    "\n",
    "Men før vi går i gang med selve funksjonene, så må vi se litt på lister og arrayer som er viktige for å gjøre ulike matematiske operasjoner.\n"
   ]
  },
  {
   "cell_type": "markdown",
   "metadata": {
    "colab_type": "text",
    "id": "Phm9-wlD9OYF"
   },
   "source": [
    "##1 Lister og arrayer\n",
    "Lister og arrays ser veldig like ut. Den største forskjellen mellom en liste og en array er at det er mulig å gjøre matematiske operasjoner på *enkeltverdier* i en array. Hvis vi multipliserer en array med $3$, så vil vi få en array der alle verdiene er 3 ganger så store. Hvis vi multipliserer en liste med $3$, så får en vi en liste som er tre ganger så lang i stedet.\n",
    "\n",
    "Test koden under."
   ]
  },
  {
   "cell_type": "code",
   "execution_count": 0,
   "metadata": {
    "colab": {},
    "colab_type": "code",
    "id": "koQISV1D-p4I"
   },
   "outputs": [],
   "source": [
    "import numpy as np\n",
    "liste = [1, 2, 3]   # ved å bruke hakeparentesene, så lages en liste. Her med elementene 1, 2 og 3\n",
    "liste.append(4)     # append() legger til et nytt element, her med verdien 4\n",
    "print(liste)\n",
    "print(liste[2])     # her hentes element nummer 2 i listen. Husk at det første elementet har index 0\n",
    "print(3*liste)\n",
    "\n",
    "A=np.array(liste)   # kommandoen array er en del av numpy, og vi lager en array av listen\n",
    "print(A)            # skriver ut arrayen til konsoll\n",
    "print(3*A)\n",
    "\n",
    "print(np.zeros(10)) # kommandoen zeros lager en array bestående av bare 0-verdier\n",
    "print(np.linspace(0,5,21)) \n",
    "# kommandoen linspace lager en array med (i dette tilfellet) 21 jevnt fordelte tall fra og med 0 til og med 5"
   ]
  },
  {
   "cell_type": "markdown",
   "metadata": {
    "colab_type": "text",
    "id": "od1wpe5U9LHd"
   },
   "source": [
    "##2 \"Vanlige\" matematiske funksjoner\n",
    "Du har tidligere trent på å lage verditabeller for funksjoner. Dette er enkelt å gjøre med programmering.\n",
    "\n",
    "####Lage verditabell for funksjonen $f(x)=x^2 - 3x - 1$"
   ]
  },
  {
   "cell_type": "code",
   "execution_count": 0,
   "metadata": {
    "colab": {},
    "colab_type": "code",
    "id": "e3CacRW_8jHD"
   },
   "outputs": [],
   "source": [
    "import numpy as np \n",
    "\n",
    "def f(x):\n",
    "    return x**2 - 3*x - 1\n",
    "\n",
    "xx = np.linspace(0,5,11)  # denne lager en array som vi kan bruke til x-verdiene i verditabellen\n",
    "\n",
    "yy = f(xx)              # her lager vi en ny array, der hvert element bruker elementet fra xx og kjører funksjonen f for å finne y-verdien\n",
    "\n",
    "for i in range(len(xx)):\n",
    "  print(xx[i], yy[i])"
   ]
  },
  {
   "cell_type": "markdown",
   "metadata": {
    "colab_type": "text",
    "id": "W6H8ra261v9a"
   },
   "source": [
    "Kjør koden over, og forklar for deg selv hva som skjer."
   ]
  },
  {
   "cell_type": "markdown",
   "metadata": {
    "colab_type": "text",
    "id": "-ctK--WcECmX"
   },
   "source": [
    "Vi kommer til plotting av funksjoner i neste del."
   ]
  },
  {
   "cell_type": "markdown",
   "metadata": {
    "colab_type": "text",
    "id": "Br0m-QNOEHDF"
   },
   "source": [
    "##3 Funksjoner i programmering\n",
    "Fordeler med å bruke funksjoner i programmering:\n",
    "\n",
    "\n",
    "1.   Enklere kode ved at vi deler opp programmet i mindre deler\n",
    "2.   Gjenbruk - når du har laget en funksjon i Python, så kan du gjenbruke den senere\n",
    "3. Lettere å teste programmet\n",
    "\n",
    "For å lage en funksjon, så må du først *definere* den. Det gjøres med kommandoen `def` \n",
    "\n",
    "Funksjoner trenger ikke være knyttet til tall og beregninger.\n",
    "\n",
    "\n",
    "\n"
   ]
  },
  {
   "cell_type": "code",
   "execution_count": 0,
   "metadata": {
    "colab": {},
    "colab_type": "code",
    "id": "MjcZ3cuRcE3g"
   },
   "outputs": [],
   "source": [
    "# Dette programmet viser et eksempel på en funksjon\n",
    "# Vi definerer funksjonens navn som melding\n",
    "# Vi ser at vi alltid må ha parenteser tilknyttet funksjonens navn, selv om vi ikke har input-verdier\n",
    "def melding():                              \n",
    "    print('Jeg sitter opptatt i et møte.')\n",
    "    print('Kan du sende sms i stedet.')\n",
    "\n",
    "# Nå har vi definert funksjonen. Så må vi kalle den opp\n",
    "\n",
    "melding()"
   ]
  },
  {
   "cell_type": "markdown",
   "metadata": {
    "colab_type": "text",
    "id": "jlLUOnYodSui"
   },
   "source": [
    "Det er nyttig å lage funksjoner hvis det er noen operasjoner som man har tenkt å gjennomføre flere ganger.\n",
    "\n",
    "Vi kan også ha datatypen *strenger* som input i funksjoner."
   ]
  },
  {
   "cell_type": "code",
   "execution_count": 0,
   "metadata": {
    "colab": {},
    "colab_type": "code",
    "id": "iWZMB34Xdf2r"
   },
   "outputs": [],
   "source": [
    "def tekstRamme(a):\n",
    "    print(' ')\n",
    "    print('####################################')\n",
    "    print('#')\n",
    "    print('#   ',a)\n",
    "    print('#')\n",
    "    print('####################################')\n",
    "\n",
    "# Dette kan for eksempel brukes til å skille mellom ulike oppgaver når man programmerer\n",
    "\n",
    "tekstRamme('Oppgave 1 a')       # her kaller vi opp funksjonen vi har definert\n",
    "print('2*3 er lik', 2*3)\n",
    "\n",
    "tekstRamme('Oppgave 2')         # her kaller vi opp den samme funksjonen, men med et annet input-argument\n",
    "import numpy as np\n",
    "\n",
    "tall = 1881\n",
    "kvadratrot = np.sqrt(tall)\n",
    "print(\"Kvadratroten av\",tall,\"er\",kvadratrot)\n"
   ]
  },
  {
   "cell_type": "markdown",
   "metadata": {
    "colab_type": "text",
    "id": "nn4nptgeflEQ"
   },
   "source": [
    "###Verdireturnerende funksjoner\n",
    "Vi ser at de funksjonene vi har laget over ikke returnerer noen verdier, men de utfører noen oppgaver (stort sett skriv noe til konsoll).\n",
    "\n",
    "I matematikk ønsker vi ofte å utføre noen operasjoner på inn-verdiene, og så beregne noen ut-verdier. Gjennom funksjoner i Python kan man velge å bruke en eller flere både inn- og ut-verdier."
   ]
  },
  {
   "cell_type": "code",
   "execution_count": 0,
   "metadata": {
    "colab": {},
    "colab_type": "code",
    "id": "kSTferW0gfrb"
   },
   "outputs": [],
   "source": [
    "def arealRektangel(lengde,bredde):      # lager en funksjon som skal regne ut et areal\n",
    "    return lengde*bredde                # forteller at funksjonen skal returnere denne verdien\n",
    "\n",
    "def omkretsRektangel(lengde,bredde):\n",
    "    return 2*(lengde+bredde)\n",
    "\n",
    "l = float(input('Hva er lengden til rektangelet? >> '))\n",
    "b = float(input('Hva er bredden til rektangelet? >> '))\n",
    "\n",
    "A = arealRektangel(l,b)                 # kaller opp funksjonen med inn-verdier\n",
    "O = omkretsRektangel(l,b)\n",
    "print('Arealet av rektangelet er',A)\n",
    "print('Omkretsen av rektangelet er',O)"
   ]
  },
  {
   "cell_type": "code",
   "execution_count": 0,
   "metadata": {
    "colab": {},
    "colab_type": "code",
    "id": "wL_g9_lzskE-"
   },
   "outputs": [],
   "source": [
    "def areal_og_omkrets(lengde,bredde):    # lager en funksjon som regner ut flere verdier basert på inn-verdiene\n",
    "    areal = lengde*bredde\n",
    "    omkrets = 2*(lengde + bredde)\n",
    "    return areal, omkrets\n",
    "\n",
    "l = float(input('Hva er lengden til rektangelet? >> '))\n",
    "b = float(input('Hva er bredden til rektangelet? >> '))\n",
    "\n",
    "A, O = areal_og_omkrets(l,b)\n",
    "print('Arealet av rektangelet er',A,'og omkretsen er',O)"
   ]
  },
  {
   "cell_type": "markdown",
   "metadata": {
    "colab_type": "text",
    "id": "raHNqXp1h6X8"
   },
   "source": [
    "####Eksempel andregradslikninger\n",
    "Andregradslikninger kan skrives på formen $$a x^2 + b x + c = 0$$\n",
    "\n",
    "Vi kan finne løsningene til denne likningen ved hjelp av andregradsformelen $$x = \\dfrac{-b\\pm\\sqrt{b^2 - 4ac}}{2a}$$\n",
    "\n",
    "Lag en funksjon som regner ut løsningene for deg, og bruk funksjonen til å løse følgende likninger.\n",
    "\n",
    "\n",
    "\n",
    "1.   $3x^2+14x-5=0$\n",
    "2.   $x^2+4x+4=0$\n",
    "\n"
   ]
  },
  {
   "cell_type": "code",
   "execution_count": 0,
   "metadata": {
    "colab": {},
    "colab_type": "code",
    "id": "hpFkO5IQi7GF"
   },
   "outputs": [],
   "source": [
    "# Skriv inn programmet ditt her\n",
    "\n"
   ]
  },
  {
   "cell_type": "markdown",
   "metadata": {
    "colab_type": "text",
    "id": "BCV7fFNtkE24"
   },
   "source": [
    "###Returnerer boolske verdier\n",
    "Noen ganger ønsker vi bare å teste om noe er sant eller ikke (True eller False). Da kan vi også lage funksjoner for dette."
   ]
  },
  {
   "cell_type": "markdown",
   "metadata": {
    "colab_type": "text",
    "id": "aretwcmZl6Qe"
   },
   "source": [
    "I eksempelet under vil vi lage en funksjon som tester om et tall er et primtall. Her er det brukt definisjon av funksjoner, betingelser (if-setning) og en for-løkke.\n",
    "\n",
    "Prøv å beskrive hva som skjer i funksjonen"
   ]
  },
  {
   "cell_type": "code",
   "execution_count": 0,
   "metadata": {
    "colab": {},
    "colab_type": "code",
    "id": "PgfPeuS-kkwz"
   },
   "outputs": [],
   "source": [
    "# Vi ønsker å teste om et tall er et primtall\n",
    "def is_prime(x):\n",
    "    if x < 2:\n",
    "        return False\n",
    "    else:\n",
    "        for n in range(2,x):       # her bruker vi også range-kommandoen, og da sjekkes alle verdier fra og med 2 til x\n",
    "            if x % n == 0:\n",
    "               return False\n",
    "        return True\n",
    "\n",
    "tall = int(input('Hvilket tall ønsker du å sjekke om er et primtall? >> '))\n",
    "status = is_prime(tall)\n",
    "if status == True:\n",
    "    print(tall,'er et primtall')\n",
    "elif status == False:\n",
    "    print(tall, 'er ikke et primtall')"
   ]
  }
 ],
 "metadata": {
  "colab": {
   "authorship_tag": "ABX9TyP4jJmqow75lscL/2wRVNmq",
   "name": "Økt4-Funksjoner.ipynb",
   "provenance": [],
   "toc_visible": true
  },
  "kernelspec": {
   "display_name": "Python 3",
   "language": "python",
   "name": "python3"
  },
  "language_info": {
   "codemirror_mode": {
    "name": "ipython",
    "version": 3
   },
   "file_extension": ".py",
   "mimetype": "text/x-python",
   "name": "python",
   "nbconvert_exporter": "python",
   "pygments_lexer": "ipython3",
   "version": "3.7.7"
  }
 },
 "nbformat": 4,
 "nbformat_minor": 1
}
