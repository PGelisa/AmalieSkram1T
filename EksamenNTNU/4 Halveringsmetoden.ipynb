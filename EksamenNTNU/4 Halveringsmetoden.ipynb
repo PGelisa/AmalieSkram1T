{
 "cells": [
  {
   "cell_type": "markdown",
   "metadata": {
    "colab_type": "text",
    "id": "qgqbmV9kt9go"
   },
   "source": [
    "###6.1 Halveringsmetoden -algoritmisk tenkning\n",
    "Hvordan kan vi finne nullpunkter dersom vi ikke kan løse en likning ved hjelp av det vi har lært?\n",
    "\n",
    "I disse øktene med python-programmering har du lært litt om algoritmisk tenkning og litt om løkker. Vi skal se hvordan vi kan kombinere dette slik at vi kan løse likninger i python. \n",
    "\n",
    "Tenk deg at vi tar utgangspunkt i et intervall $[a,b]$, se figuren under, som er slik at funksjonsverdien har forskjellig fortegn i endepunktene til intervallet (på ulik side av x-aksen). Da vet du at nullpunktet til funksjonen må være i dette intervallet. Midtpunktet,$m_{1}$, beregnes og vi lager et nytt intervall ved å flytte enten a til $m_{1}$ eller b til $m_{1}$ slik at det nye intervallet $ [a_{2},b_{2}]$ også inneholder nullpunktet. Vi har nå fått et smalere intervall. Vi halverer intervallet igjen og ser på halvdelen som har forskjellig fortegn på funksjonsverdiene i endepunktet til det nye intervallet $ [a_{3},b_{3}]$. Dette fortsetter vi med til endepunktene er så nær hverandre som vi ønsker. Endepunktene er da en tilnærming til nullpunktet.\n",
    "\n",
    "Denne metoden finner bare et nullpunkt. Vi må derfor dele opp i to ulike intervall og kjøre metoden to ganger om vi skal finne to nullpunkt for samme funksjon.\n",
    "\n",
    "Vi må også \"gjette\" riktig intervall som nullpunktet befinner seg innenfor \n",
    "![alt text](https://drive.google.com/uc?id=1Z3IPQTlBZzPN7Wxz6eqGyjTwuxx5vv8O&authuser=kjartan.blom@asvg.no&usp=drive_fs)\n",
    "\n",
    "\n",
    "**Tenk nøye gjennom hvordan vi kan programmere en slik algoritme i python.**"
   ]
  },
  {
   "cell_type": "markdown",
   "metadata": {
    "colab_type": "text",
    "id": "bJ8CWx8iuIoo"
   },
   "source": [
    "###6.1.1 Eksempel: finne nullpunkt til en lineær funksjon."
   ]
  },
  {
   "cell_type": "code",
   "execution_count": 0,
   "metadata": {
    "colab": {},
    "colab_type": "code",
    "id": "QK8Rx7fZuKFQ"
   },
   "outputs": [],
   "source": [
    "# Laget av Knut Skrindo, Programmering i matematikk (noe modifisert)\n",
    "#Vi skal løse likningen 3x-4=0. Vi legger merke til at med f(x)=3x-4 har f(-2) og f(2) ulikt fortegn.\n",
    "#Velger nedre grenser ut fra dette.\n",
    "def f(x):\n",
    "    return 3*x - 4 \n",
    "\n",
    "nedregrense = -2\n",
    "øvregrense = 2\n",
    "presisjon = .001\n",
    "\n",
    "a = nedregrense\n",
    "b = øvregrense\n",
    "m = (a + b)/2\n",
    "feil = False\n",
    "\n",
    "while b - a > presisjon:\n",
    "   if f(a) * f(m) < 0:\n",
    "      b = m\n",
    "   elif f(b) * f(m) < 0:\n",
    "      a = m\n",
    "   elif f(m) == 0:\n",
    "      break\n",
    "   else:\n",
    "      feil = True\n",
    "      break\n",
    "   m = (a + b)/2\n",
    "\n",
    "if feil:\n",
    "    print(f\"f({a}) og f({b}) er på samme side av x-aksen.\")\n",
    "    print(f\"Jeg finner ingen løsning.\")\n",
    "else:\n",
    "    print(f\"Funksjonen har et nullpunkt i x = {m:.3f}.\")"
   ]
  },
  {
   "cell_type": "markdown",
   "metadata": {
    "colab_type": "text",
    "id": "UbQUoKrluX88"
   },
   "source": [
    "###Oppgave 6.1.2a\n",
    "Forklar hva som skjer i if -elif setningen i programmet i 6.1.1 over:\n",
    "###Ditt svar: skriv her"
   ]
  },
  {
   "cell_type": "markdown",
   "metadata": {
    "colab_type": "text",
    "id": "o9ITKPCNuZc0"
   },
   "source": [
    "###Oppgave 6.1.2b\n",
    "Forklar hva som skjer i while løkken i programmet i 6.1.1\n",
    "###Ditt svar: skriv her"
   ]
  },
  {
   "cell_type": "markdown",
   "metadata": {
    "colab_type": "text",
    "id": "qc3g3bjqunIp"
   },
   "source": [
    "###Oppgave 6.1.3 Oppgave\n",
    "Finn nullpunkt til funksjonene: $f(x)=3x-8 \\\\g(x)=2x-5$\n",
    "\n"
   ]
  },
  {
   "cell_type": "code",
   "execution_count": 0,
   "metadata": {
    "colab": {},
    "colab_type": "code",
    "id": "jzUred5vu0Bk"
   },
   "outputs": [],
   "source": [
    "#svaret ditt"
   ]
  },
  {
   "cell_type": "markdown",
   "metadata": {
    "colab_type": "text",
    "id": "MLh6wT7Huwl2"
   },
   "source": [
    "###Oppgave 6.1.4\n",
    "Lag et program som løser $f(x)=g(x)$ der $f(x)=3x-8,\\  g(x)=2x-5$\n"
   ]
  },
  {
   "cell_type": "code",
   "execution_count": 0,
   "metadata": {
    "colab": {},
    "colab_type": "code",
    "id": "pwY8myaOu3g_"
   },
   "outputs": [],
   "source": [
    "#svaret ditt"
   ]
  },
  {
   "cell_type": "markdown",
   "metadata": {
    "colab_type": "text",
    "id": "zWsb4wpEu96M"
   },
   "source": [
    "###Eksempel 6.1.5 Finne nullpunkt til logaritmefunksjoner med ett nullpunkt.\n",
    "Vi ser på likningen: $lg(x)+3x-4=0$\n",
    "\n",
    "Kan vi løse denne likningen?\n",
    "Svaret er egentlig at vi ikke kan løse denne likningen ved hjelp av det vi har lært i 1T uten programmering. Det er derimot mulig å bruke halveringsmetoden."
   ]
  },
  {
   "cell_type": "code",
   "execution_count": 0,
   "metadata": {
    "colab": {},
    "colab_type": "code",
    "id": "FLCc_1w6u-32"
   },
   "outputs": [],
   "source": [
    "import numpy as np\n",
    "def f(x):\n",
    "    return np.log10(x)+3*x - 4 \n",
    "\n",
    "nedregrense = np.exp(-15)\n",
    "øvregrense = 2\n",
    "presisjon = .0001\n",
    "\n",
    "a = nedregrense\n",
    "b = øvregrense\n",
    "m = (a + b)/2\n",
    "feil = False\n",
    "\n",
    "while b - a > presisjon:\n",
    "   if f(a) * f(m) < 0:\n",
    "      b = m\n",
    "   elif f(b) * f(m) < 0:\n",
    "      a = m\n",
    "   elif f(m) == 0:\n",
    "      break\n",
    "   else:\n",
    "      feil = True\n",
    "      break\n",
    "   m = (a + b)/2\n",
    "\n",
    "if feil:\n",
    "    print(f\"f({a}) og f({b}) er på samme side av x-aksen.\")\n",
    "    print(f\"Jeg finner ingen løsning.\")\n",
    "else:\n",
    "    print(f\"Funksjonen har et nullpunkt i x = {m:.4f}.\")"
   ]
  },
  {
   "cell_type": "markdown",
   "metadata": {
    "colab_type": "text",
    "id": "4Uvh_u0XvE76"
   },
   "source": [
    "###Oppgave 6.1.6\n",
    "Finn nullpunkt til likningen $lg(x)+5\\cdot x-3$"
   ]
  },
  {
   "cell_type": "markdown",
   "metadata": {
    "colab_type": "text",
    "id": "Oth9EKypvI49"
   },
   "source": [
    "###6.2 Finne flere nullpunkter ved halveringsmetoden\n",
    "Vi må gjenta halveringsmetoden flere ganger med forskjellige intervaller dersom vi skal finne flere nullpunkt. Vi kan da \"gjette\" startverdi og sluttverdi til vi finner nullpunktene. Ofte kan det være vanskelig å avgjøre hvor mange nullpunkt en funksjon vil ha. Ved å tegne grafen til funksjonen vil vi kunne se hva som er fornuftige innverdier i halveringsmetoden. Kjør programmet under!"
   ]
  },
  {
   "cell_type": "code",
   "execution_count": 0,
   "metadata": {
    "colab": {
     "base_uri": "https://localhost:8080/",
     "height": 296
    },
    "colab_type": "code",
    "executionInfo": {
     "elapsed": 1204,
     "status": "ok",
     "timestamp": 1589452298004,
     "user": {
      "displayName": "Kjartan Blom",
      "photoUrl": "",
      "userId": "14363091887977561472"
     },
     "user_tz": -120
    },
    "id": "Hh1y09c3vNTv",
    "outputId": "bca65189-aa99-406d-974f-139c609576a2"
   },
   "outputs": [
    {
     "data": {
      "text/plain": [
       "<matplotlib.legend.Legend at 0x7f68655c8240>"
      ]
     },
     "execution_count": 1,
     "metadata": {
      "tags": []
     },
     "output_type": "execute_result"
    },
    {
     "data": {
      "image/png": "[encoded data removed]",
      "text/plain": [
       "<Figure size 432x288 with 1 Axes>"
      ]
     },
     "metadata": {
      "needs_background": "light",
      "tags": []
     },
     "output_type": "display_data"
    }
   ],
   "source": [
    "\n",
    "import matplotlib.pyplot as plt\n",
    "import numpy as np\n",
    "\n",
    "x = np.linspace(-2,3,100) #Her velger vi x-verdier fra -2 til 3, jevnt forledt på 100 punkter.\n",
    "z=0*x\n",
    "def f(x): #definerer funksjonen f\n",
    "  return( np.log10(x**4)+3*x +5)\n",
    "plt.plot(x,f(x),label=r'$lg(x^4)+3\\cdot x+5$') #tegner grafen, markører vises på hvert punkt (kan oftest droppes).\n",
    "plt.plot(x,z)\n",
    "plt.xlabel('x') #aksetittel x-akse\n",
    "plt.ylabel('y') #aksetittel y-akse\n",
    "plt.legend() #navn på funksjon\n"
   ]
  },
  {
   "cell_type": "markdown",
   "metadata": {
    "colab_type": "text",
    "id": "wbrY5W-nvV6v"
   },
   "source": [
    "Vi ser av plottet at funksjonen har to nullpunkt. Vi velger start -og sluttverdier utfra grafen."
   ]
  },
  {
   "cell_type": "code",
   "execution_count": 0,
   "metadata": {
    "colab": {},
    "colab_type": "code",
    "id": "4qtR3JELvZwb"
   },
   "outputs": [],
   "source": [
    "import numpy as np\n",
    "def f(x):\n",
    "    return ( np.log10(x**4)+3*x +5)\n",
    "\n",
    "nedregrense = -1\n",
    "øvregrense = 0.01\n",
    "presisjon = .0001\n",
    "\n",
    "a = nedregrense\n",
    "b = øvregrense\n",
    "m = (a + b)/2\n",
    "feil = False\n",
    "\n",
    "while b - a > presisjon:\n",
    "   if f(a) * f(m) < 0:\n",
    "      b = m\n",
    "   elif f(b) * f(m) < 0:\n",
    "      a = m\n",
    "   elif f(m) == 0:\n",
    "      break\n",
    "   else:\n",
    "      feil = True\n",
    "      break\n",
    "   m = (a + b)/2\n",
    "\n",
    "if feil:\n",
    "    print(f\"f({a}) og f({b}) er på samme side av x-aksen.\")\n",
    "    print(f\"Jeg finner ingen løsning.\")\n",
    "else:\n",
    "    print(f\"Funksjonen har et nullpunkt i x = {m:.4f}.\")"
   ]
  },
  {
   "cell_type": "markdown",
   "metadata": {
    "colab_type": "text",
    "id": "9_8n8GDTvgB_"
   },
   "source": [
    "###Oppgave 6.2.1\n",
    "Finn nullpunktene til $f(x)=(lg(x))^2-4 \\\\g(x)=sin(x), x\\in\\langle 1,7\\rangle $"
   ]
  }
 ],
 "metadata": {
  "colab": {
   "collapsed_sections": [],
   "name": "Økt 6 Halveringsmetoden for å finne nullpunkt.ipynb",
   "provenance": [
    {
     "file_id": "1wJMCEHxFhrAHAtgJBFXqtzUD6d8mZVlt",
     "timestamp": 1589538186794
    },
    {
     "file_id": "19-ibI1bWBjrtFlMBNkvTYvgcCeSsrpz_",
     "timestamp": 1589531406481
    }
   ],
   "toc_visible": true
  },
  "kernelspec": {
   "display_name": "Python 3",
   "language": "python",
   "name": "python3"
  },
  "language_info": {
   "codemirror_mode": {
    "name": "ipython",
    "version": 3
   },
   "file_extension": ".py",
   "mimetype": "text/x-python",
   "name": "python",
   "nbconvert_exporter": "python",
   "pygments_lexer": "ipython3",
   "version": "3.7.7"
  }
 },
 "nbformat": 4,
 "nbformat_minor": 1
}
